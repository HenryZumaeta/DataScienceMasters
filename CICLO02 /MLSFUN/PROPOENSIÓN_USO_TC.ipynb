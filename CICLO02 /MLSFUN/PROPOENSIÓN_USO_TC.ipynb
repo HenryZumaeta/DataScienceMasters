{
  "nbformat": 4,
  "nbformat_minor": 0,
  "metadata": {
    "colab": {
      "provenance": [],
      "include_colab_link": true
    },
    "kernelspec": {
      "name": "python3",
      "display_name": "Python 3"
    },
    "language_info": {
      "name": "python"
    }
  },
  "cells": [
    {
      "cell_type": "markdown",
      "metadata": {
        "id": "view-in-github",
        "colab_type": "text"
      },
      "source": [
        "<a href=\"https://colab.research.google.com/github/HenryZumaeta/MDS_UNI/blob/Zeta/CICLO02%20/MLSFUN/PROPOENSI%C3%93N_USO_TC.ipynb\" target=\"_parent\"><img src=\"https://colab.research.google.com/assets/colab-badge.svg\" alt=\"Open In Colab\"/></a>"
      ]
    },
    {
      "cell_type": "markdown",
      "metadata": {
        "id": "XbiKma1CopEV"
      },
      "source": [
        "**MODELO DE USO DE TC**\n",
        "\n",
        "Una entidad financiera busca incrememtar la usabilidad de la TC entre sus clientes. Actualmente el negocio de la tarjeta de crédito de esta entidad tienen problemas internos y externos.\n",
        "A nivel externo:\n",
        "Existe falta de competitividad con su competidores en el negocio de TC.\n",
        "Baja participación de mercado\n",
        "Poca variación en saldo.\n",
        "A nivel inteerno:\n",
        "Esta generando perdidas e la organización."
      ]
    },
    {
      "cell_type": "markdown",
      "metadata": {
        "id": "KAKj7slQ5QCq"
      },
      "source": [
        "**CARGAR LIBRERIAS**\n"
      ]
    },
    {
      "cell_type": "code",
      "metadata": {
        "id": "JHEHhqqOshpE"
      },
      "source": [
        "import pandas as pd\n",
        "import numpy as np\n",
        "import matplotlib.pyplot as plt\n",
        "import seaborn as sns\n",
        "%matplotlib inline"
      ],
      "execution_count": null,
      "outputs": []
    },
    {
      "cell_type": "markdown",
      "metadata": {
        "id": "Fnuj3sRhuTAC"
      },
      "source": [
        "**CARGAR BASE DE DATOS**"
      ]
    },
    {
      "cell_type": "code",
      "metadata": {
        "colab": {
          "base_uri": "https://localhost:8080/"
        },
        "id": "0bgEw1c7s31g",
        "outputId": "6e2a51b2-551b-462b-fc58-086159412b44"
      },
      "source": [
        "!pip install pyreadstat\n",
        "import pyreadstat\n",
        "Data = pd.read_spss(\"BASE PROPENSION AL USO DE TC.sav\")"
      ],
      "execution_count": null,
      "outputs": [
        {
          "output_type": "stream",
          "name": "stdout",
          "text": [
            "Requirement already satisfied: pyreadstat in /usr/local/lib/python3.7/dist-packages (1.1.2)\n",
            "Requirement already satisfied: pandas>0.24.0 in /usr/local/lib/python3.7/dist-packages (from pyreadstat) (1.1.5)\n",
            "Requirement already satisfied: pytz>=2017.2 in /usr/local/lib/python3.7/dist-packages (from pandas>0.24.0->pyreadstat) (2018.9)\n",
            "Requirement already satisfied: numpy>=1.15.4 in /usr/local/lib/python3.7/dist-packages (from pandas>0.24.0->pyreadstat) (1.19.5)\n",
            "Requirement already satisfied: python-dateutil>=2.7.3 in /usr/local/lib/python3.7/dist-packages (from pandas>0.24.0->pyreadstat) (2.8.2)\n",
            "Requirement already satisfied: six>=1.5 in /usr/local/lib/python3.7/dist-packages (from python-dateutil>=2.7.3->pandas>0.24.0->pyreadstat) (1.15.0)\n"
          ]
        }
      ]
    },
    {
      "cell_type": "code",
      "metadata": {
        "colab": {
          "base_uri": "https://localhost:8080/",
          "height": 343
        },
        "id": "ScWLY2Q1u2r0",
        "outputId": "3ecfbd10-4952-4f7a-ace2-2035e298eba8"
      },
      "source": [
        "Data.head()"
      ],
      "execution_count": null,
      "outputs": [
        {
          "output_type": "execute_result",
          "data": {
            "text/html": [
              "<div>\n",
              "<style scoped>\n",
              "    .dataframe tbody tr th:only-of-type {\n",
              "        vertical-align: middle;\n",
              "    }\n",
              "\n",
              "    .dataframe tbody tr th {\n",
              "        vertical-align: top;\n",
              "    }\n",
              "\n",
              "    .dataframe thead th {\n",
              "        text-align: right;\n",
              "    }\n",
              "</style>\n",
              "<table border=\"1\" class=\"dataframe\">\n",
              "  <thead>\n",
              "    <tr style=\"text-align: right;\">\n",
              "      <th></th>\n",
              "      <th>CodCli</th>\n",
              "      <th>Edad</th>\n",
              "      <th>Gener</th>\n",
              "      <th>EstCiv</th>\n",
              "      <th>Sexo</th>\n",
              "      <th>NZONA</th>\n",
              "      <th>Region</th>\n",
              "      <th>Ingreso</th>\n",
              "      <th>Perfil</th>\n",
              "      <th>Lin_Ent001</th>\n",
              "      <th>Lin_Ent002</th>\n",
              "      <th>Lin_Ent004</th>\n",
              "      <th>Lin_Ent006</th>\n",
              "      <th>Lin_Ent022</th>\n",
              "      <th>Lin_Ent039</th>\n",
              "      <th>Lin_Ent049</th>\n",
              "      <th>Lin_Ent050</th>\n",
              "      <th>Lin_Ent058</th>\n",
              "      <th>Lin_Ent097</th>\n",
              "      <th>Lin_Ent100</th>\n",
              "      <th>Lin_Ent108</th>\n",
              "      <th>Lin_Ent110</th>\n",
              "      <th>Lin_Ent113</th>\n",
              "      <th>Lin_Ent349</th>\n",
              "      <th>MaxLin</th>\n",
              "      <th>TC_Ent001</th>\n",
              "      <th>TC_Ent002</th>\n",
              "      <th>TC_Ent004</th>\n",
              "      <th>TC_Ent006</th>\n",
              "      <th>TC_Ent022</th>\n",
              "      <th>TC_Ent039</th>\n",
              "      <th>TC_Ent049</th>\n",
              "      <th>TC_Ent050</th>\n",
              "      <th>TC_Ent058</th>\n",
              "      <th>TC_Ent097</th>\n",
              "      <th>TC_Ent100</th>\n",
              "      <th>TC_Ent108</th>\n",
              "      <th>TC_Ent110</th>\n",
              "      <th>TC_Ent113</th>\n",
              "      <th>TC_Ent349</th>\n",
              "      <th>MaxSal</th>\n",
              "      <th>UsoTC</th>\n",
              "    </tr>\n",
              "  </thead>\n",
              "  <tbody>\n",
              "    <tr>\n",
              "      <th>0</th>\n",
              "      <td>11146.0</td>\n",
              "      <td>78.0</td>\n",
              "      <td>SILENCIOSA : [69 - MÁS&gt;</td>\n",
              "      <td>Casado</td>\n",
              "      <td>Masculino</td>\n",
              "      <td>LIMA MODERNA</td>\n",
              "      <td>LIMA</td>\n",
              "      <td>3098.52</td>\n",
              "      <td>CONSERVADOR</td>\n",
              "      <td>32700.0</td>\n",
              "      <td>NaN</td>\n",
              "      <td>NaN</td>\n",
              "      <td>NaN</td>\n",
              "      <td>NaN</td>\n",
              "      <td>NaN</td>\n",
              "      <td>7000.0</td>\n",
              "      <td>300.0</td>\n",
              "      <td>NaN</td>\n",
              "      <td>NaN</td>\n",
              "      <td>NaN</td>\n",
              "      <td>NaN</td>\n",
              "      <td>NaN</td>\n",
              "      <td>NaN</td>\n",
              "      <td>68976.60</td>\n",
              "      <td>68976.60</td>\n",
              "      <td>6600.47</td>\n",
              "      <td>NaN</td>\n",
              "      <td>NaN</td>\n",
              "      <td>NaN</td>\n",
              "      <td>NaN</td>\n",
              "      <td>NaN</td>\n",
              "      <td>NaN</td>\n",
              "      <td>NaN</td>\n",
              "      <td>NaN</td>\n",
              "      <td>NaN</td>\n",
              "      <td>NaN</td>\n",
              "      <td>NaN</td>\n",
              "      <td>NaN</td>\n",
              "      <td>NaN</td>\n",
              "      <td>12238.17</td>\n",
              "      <td>12238.17</td>\n",
              "      <td>NO</td>\n",
              "    </tr>\n",
              "    <tr>\n",
              "      <th>1</th>\n",
              "      <td>11165.0</td>\n",
              "      <td>49.0</td>\n",
              "      <td>X : [36 - 49]</td>\n",
              "      <td>Casado</td>\n",
              "      <td>Femenino</td>\n",
              "      <td>LIMA MODERNA</td>\n",
              "      <td>LIMA</td>\n",
              "      <td>1088.96</td>\n",
              "      <td>INDIFERENTE</td>\n",
              "      <td>NaN</td>\n",
              "      <td>NaN</td>\n",
              "      <td>NaN</td>\n",
              "      <td>NaN</td>\n",
              "      <td>NaN</td>\n",
              "      <td>NaN</td>\n",
              "      <td>NaN</td>\n",
              "      <td>NaN</td>\n",
              "      <td>NaN</td>\n",
              "      <td>NaN</td>\n",
              "      <td>1200.0</td>\n",
              "      <td>NaN</td>\n",
              "      <td>NaN</td>\n",
              "      <td>1350.0</td>\n",
              "      <td>NaN</td>\n",
              "      <td>1350.00</td>\n",
              "      <td>NaN</td>\n",
              "      <td>NaN</td>\n",
              "      <td>NaN</td>\n",
              "      <td>NaN</td>\n",
              "      <td>NaN</td>\n",
              "      <td>NaN</td>\n",
              "      <td>NaN</td>\n",
              "      <td>NaN</td>\n",
              "      <td>NaN</td>\n",
              "      <td>NaN</td>\n",
              "      <td>NaN</td>\n",
              "      <td>NaN</td>\n",
              "      <td>NaN</td>\n",
              "      <td>193.81</td>\n",
              "      <td>NaN</td>\n",
              "      <td>193.81</td>\n",
              "      <td>NO</td>\n",
              "    </tr>\n",
              "    <tr>\n",
              "      <th>2</th>\n",
              "      <td>11210.0</td>\n",
              "      <td>52.0</td>\n",
              "      <td>BABY BOOMERS : [50 - 68]</td>\n",
              "      <td>Soltero</td>\n",
              "      <td>Femenino</td>\n",
              "      <td>LIMA NORTE</td>\n",
              "      <td>LIMA</td>\n",
              "      <td>1863.20</td>\n",
              "      <td>CONSERVADOR</td>\n",
              "      <td>4800.0</td>\n",
              "      <td>NaN</td>\n",
              "      <td>NaN</td>\n",
              "      <td>12000.0</td>\n",
              "      <td>NaN</td>\n",
              "      <td>NaN</td>\n",
              "      <td>NaN</td>\n",
              "      <td>10000.0</td>\n",
              "      <td>NaN</td>\n",
              "      <td>NaN</td>\n",
              "      <td>NaN</td>\n",
              "      <td>NaN</td>\n",
              "      <td>52000.0</td>\n",
              "      <td>NaN</td>\n",
              "      <td>NaN</td>\n",
              "      <td>52000.00</td>\n",
              "      <td>390.26</td>\n",
              "      <td>NaN</td>\n",
              "      <td>NaN</td>\n",
              "      <td>NaN</td>\n",
              "      <td>NaN</td>\n",
              "      <td>NaN</td>\n",
              "      <td>NaN</td>\n",
              "      <td>2373.68</td>\n",
              "      <td>NaN</td>\n",
              "      <td>NaN</td>\n",
              "      <td>NaN</td>\n",
              "      <td>NaN</td>\n",
              "      <td>15687.83</td>\n",
              "      <td>NaN</td>\n",
              "      <td>NaN</td>\n",
              "      <td>15687.83</td>\n",
              "      <td>NO</td>\n",
              "    </tr>\n",
              "    <tr>\n",
              "      <th>3</th>\n",
              "      <td>11272.0</td>\n",
              "      <td>67.0</td>\n",
              "      <td>BABY BOOMERS : [50 - 68]</td>\n",
              "      <td>Casado</td>\n",
              "      <td>Masculino</td>\n",
              "      <td>LIMA MODERNA</td>\n",
              "      <td>LIMA</td>\n",
              "      <td>2715.96</td>\n",
              "      <td>CONSERVADOR</td>\n",
              "      <td>NaN</td>\n",
              "      <td>NaN</td>\n",
              "      <td>NaN</td>\n",
              "      <td>NaN</td>\n",
              "      <td>NaN</td>\n",
              "      <td>NaN</td>\n",
              "      <td>3.0</td>\n",
              "      <td>300.0</td>\n",
              "      <td>NaN</td>\n",
              "      <td>NaN</td>\n",
              "      <td>NaN</td>\n",
              "      <td>NaN</td>\n",
              "      <td>NaN</td>\n",
              "      <td>NaN</td>\n",
              "      <td>14834.33</td>\n",
              "      <td>14834.33</td>\n",
              "      <td>NaN</td>\n",
              "      <td>NaN</td>\n",
              "      <td>NaN</td>\n",
              "      <td>NaN</td>\n",
              "      <td>NaN</td>\n",
              "      <td>NaN</td>\n",
              "      <td>NaN</td>\n",
              "      <td>NaN</td>\n",
              "      <td>NaN</td>\n",
              "      <td>NaN</td>\n",
              "      <td>NaN</td>\n",
              "      <td>NaN</td>\n",
              "      <td>NaN</td>\n",
              "      <td>NaN</td>\n",
              "      <td>12386.96</td>\n",
              "      <td>12386.96</td>\n",
              "      <td>NO</td>\n",
              "    </tr>\n",
              "    <tr>\n",
              "      <th>4</th>\n",
              "      <td>11316.0</td>\n",
              "      <td>69.0</td>\n",
              "      <td>SILENCIOSA : [69 - MÁS&gt;</td>\n",
              "      <td>Casado</td>\n",
              "      <td>Masculino</td>\n",
              "      <td>CALLAO</td>\n",
              "      <td>CALLAO</td>\n",
              "      <td>1069.87</td>\n",
              "      <td>CONSERVADOR</td>\n",
              "      <td>NaN</td>\n",
              "      <td>NaN</td>\n",
              "      <td>NaN</td>\n",
              "      <td>NaN</td>\n",
              "      <td>NaN</td>\n",
              "      <td>NaN</td>\n",
              "      <td>2125.0</td>\n",
              "      <td>NaN</td>\n",
              "      <td>NaN</td>\n",
              "      <td>NaN</td>\n",
              "      <td>8200.0</td>\n",
              "      <td>NaN</td>\n",
              "      <td>3400.0</td>\n",
              "      <td>NaN</td>\n",
              "      <td>NaN</td>\n",
              "      <td>8200.00</td>\n",
              "      <td>NaN</td>\n",
              "      <td>NaN</td>\n",
              "      <td>NaN</td>\n",
              "      <td>NaN</td>\n",
              "      <td>NaN</td>\n",
              "      <td>NaN</td>\n",
              "      <td>NaN</td>\n",
              "      <td>NaN</td>\n",
              "      <td>NaN</td>\n",
              "      <td>NaN</td>\n",
              "      <td>NaN</td>\n",
              "      <td>NaN</td>\n",
              "      <td>6.99</td>\n",
              "      <td>NaN</td>\n",
              "      <td>NaN</td>\n",
              "      <td>6.99</td>\n",
              "      <td>NO</td>\n",
              "    </tr>\n",
              "  </tbody>\n",
              "</table>\n",
              "</div>"
            ],
            "text/plain": [
              "    CodCli  Edad                     Gener  ... TC_Ent349    MaxSal UsoTC\n",
              "0  11146.0  78.0   SILENCIOSA : [69 - MÁS>  ...  12238.17  12238.17    NO\n",
              "1  11165.0  49.0             X : [36 - 49]  ...       NaN    193.81    NO\n",
              "2  11210.0  52.0  BABY BOOMERS : [50 - 68]  ...       NaN  15687.83    NO\n",
              "3  11272.0  67.0  BABY BOOMERS : [50 - 68]  ...  12386.96  12386.96    NO\n",
              "4  11316.0  69.0   SILENCIOSA : [69 - MÁS>  ...       NaN      6.99    NO\n",
              "\n",
              "[5 rows x 42 columns]"
            ]
          },
          "metadata": {},
          "execution_count": 36
        }
      ]
    },
    {
      "cell_type": "markdown",
      "metadata": {
        "id": "sc6TpWXmuakd"
      },
      "source": [
        "**FASE 2 y 3: COMPRENSIÓN Y PREPARACIÓN DE LOS DATOS**"
      ]
    },
    {
      "cell_type": "markdown",
      "metadata": {
        "id": "1mPzADUXSB1P"
      },
      "source": [
        "**ANALISIS DE DATOS PERDIDOS**"
      ]
    },
    {
      "cell_type": "code",
      "metadata": {
        "colab": {
          "base_uri": "https://localhost:8080/"
        },
        "id": "NgLGPBNTvCDW",
        "outputId": "47fbf5a6-214a-482e-b3cf-2462e3ec0c63"
      },
      "source": [
        "Data.info()"
      ],
      "execution_count": null,
      "outputs": [
        {
          "output_type": "stream",
          "name": "stdout",
          "text": [
            "<class 'pandas.core.frame.DataFrame'>\n",
            "RangeIndex: 212671 entries, 0 to 212670\n",
            "Data columns (total 42 columns):\n",
            " #   Column      Non-Null Count   Dtype   \n",
            "---  ------      --------------   -----   \n",
            " 0   CodCli      212671 non-null  float64 \n",
            " 1   Edad        212671 non-null  float64 \n",
            " 2   Gener       212671 non-null  category\n",
            " 3   EstCiv      212671 non-null  category\n",
            " 4   Sexo        212671 non-null  category\n",
            " 5   NZONA       212671 non-null  category\n",
            " 6   Region      212671 non-null  category\n",
            " 7   Ingreso     212671 non-null  float64 \n",
            " 8   Perfil      212671 non-null  category\n",
            " 9   Lin_Ent001  59799 non-null   float64 \n",
            " 10  Lin_Ent002  78166 non-null   float64 \n",
            " 11  Lin_Ent004  20923 non-null   float64 \n",
            " 12  Lin_Ent006  31281 non-null   float64 \n",
            " 13  Lin_Ent022  89 non-null      float64 \n",
            " 14  Lin_Ent039  4160 non-null    float64 \n",
            " 15  Lin_Ent049  57250 non-null   float64 \n",
            " 16  Lin_Ent050  70079 non-null   float64 \n",
            " 17  Lin_Ent058  126242 non-null  float64 \n",
            " 18  Lin_Ent097  1663 non-null    float64 \n",
            " 19  Lin_Ent100  33613 non-null   float64 \n",
            " 20  Lin_Ent108  6650 non-null    float64 \n",
            " 21  Lin_Ent110  76380 non-null   float64 \n",
            " 22  Lin_Ent113  50212 non-null   float64 \n",
            " 23  Lin_Ent349  8073 non-null    float64 \n",
            " 24  MaxLin      212671 non-null  float64 \n",
            " 25  TC_Ent001   42804 non-null   float64 \n",
            " 26  TC_Ent002   60622 non-null   float64 \n",
            " 27  TC_Ent004   12318 non-null   float64 \n",
            " 28  TC_Ent006   18676 non-null   float64 \n",
            " 29  TC_Ent022   63 non-null      float64 \n",
            " 30  TC_Ent039   2690 non-null    float64 \n",
            " 31  TC_Ent049   28141 non-null   float64 \n",
            " 32  TC_Ent050   40121 non-null   float64 \n",
            " 33  TC_Ent058   68313 non-null   float64 \n",
            " 34  TC_Ent097   1091 non-null    float64 \n",
            " 35  TC_Ent100   23271 non-null   float64 \n",
            " 36  TC_Ent108   6650 non-null    float64 \n",
            " 37  TC_Ent110   69483 non-null   float64 \n",
            " 38  TC_Ent113   35054 non-null   float64 \n",
            " 39  TC_Ent349   5562 non-null    float64 \n",
            " 40  MaxSal      212671 non-null  float64 \n",
            " 41  UsoTC       212671 non-null  category\n",
            "dtypes: category(7), float64(35)\n",
            "memory usage: 58.2 MB\n"
          ]
        }
      ]
    },
    {
      "cell_type": "code",
      "metadata": {
        "colab": {
          "base_uri": "https://localhost:8080/"
        },
        "id": "gFK_OcORvT0K",
        "outputId": "3d0e0836-8a75-40a5-ce22-cc79a8ea2d3a"
      },
      "source": [
        " Data.isnull().sum()"
      ],
      "execution_count": null,
      "outputs": [
        {
          "output_type": "execute_result",
          "data": {
            "text/plain": [
              "CodCli             0\n",
              "Edad               0\n",
              "Gener              0\n",
              "EstCiv             0\n",
              "Sexo               0\n",
              "NZONA              0\n",
              "Region             0\n",
              "Ingreso            0\n",
              "Perfil             0\n",
              "Lin_Ent001    152872\n",
              "Lin_Ent002    134505\n",
              "Lin_Ent004    191748\n",
              "Lin_Ent006    181390\n",
              "Lin_Ent022    212582\n",
              "Lin_Ent039    208511\n",
              "Lin_Ent049    155421\n",
              "Lin_Ent050    142592\n",
              "Lin_Ent058     86429\n",
              "Lin_Ent097    211008\n",
              "Lin_Ent100    179058\n",
              "Lin_Ent108    206021\n",
              "Lin_Ent110    136291\n",
              "Lin_Ent113    162459\n",
              "Lin_Ent349    204598\n",
              "MaxLin             0\n",
              "TC_Ent001     169867\n",
              "TC_Ent002     152049\n",
              "TC_Ent004     200353\n",
              "TC_Ent006     193995\n",
              "TC_Ent022     212608\n",
              "TC_Ent039     209981\n",
              "TC_Ent049     184530\n",
              "TC_Ent050     172550\n",
              "TC_Ent058     144358\n",
              "TC_Ent097     211580\n",
              "TC_Ent100     189400\n",
              "TC_Ent108     206021\n",
              "TC_Ent110     143188\n",
              "TC_Ent113     177617\n",
              "TC_Ent349     207109\n",
              "MaxSal             0\n",
              "UsoTC              0\n",
              "dtype: int64"
            ]
          },
          "metadata": {},
          "execution_count": 38
        }
      ]
    },
    {
      "cell_type": "markdown",
      "metadata": {
        "id": "xE7kUI4W0xUN"
      },
      "source": [
        "**DICOTOMIZACION DE LOS DATOS PERDIDOS**\n"
      ]
    },
    {
      "cell_type": "code",
      "metadata": {
        "id": "wcvNuPno4hTT"
      },
      "source": [
        "Data[\"D_Lin_Ent001\"] = np.where(Data[\"Lin_Ent001\"].isnull() == True,0,1)\n",
        "Data[\"D_Lin_Ent002\"] = np.where(Data[\"Lin_Ent002\"].isnull() == True,0,1)\n",
        "Data[\"D_Lin_Ent004\"] = np.where(Data[\"Lin_Ent004\"].isnull() == True,0,1)\n",
        "Data[\"D_Lin_Ent006\"] = np.where(Data[\"Lin_Ent006\"].isnull() == True,0,1)\n",
        "Data[\"D_Lin_Ent022\"] = np.where(Data[\"Lin_Ent022\"].isnull() == True,0,1)\n",
        "Data[\"D_Lin_Ent039\"] = np.where(Data[\"Lin_Ent039\"].isnull() == True,0,1)\n",
        "Data[\"D_Lin_Ent049\"] = np.where(Data[\"Lin_Ent049\"].isnull() == True,0,1)\n",
        "Data[\"D_Lin_Ent050\"] = np.where(Data[\"Lin_Ent050\"].isnull() == True,0,1)\n",
        "Data[\"D_Lin_Ent058\"] = np.where(Data[\"Lin_Ent058\"].isnull() == True,0,1)\n",
        "Data[\"D_Lin_Ent097\"] = np.where(Data[\"Lin_Ent097\"].isnull() == True,0,1)\n",
        "Data[\"D_Lin_Ent100\"] = np.where(Data[\"Lin_Ent100\"].isnull() == True,0,1)\n",
        "Data[\"D_Lin_Ent108\"] = np.where(Data[\"Lin_Ent108\"].isnull() == True,0,1)\n",
        "Data[\"D_Lin_Ent110\"] = np.where(Data[\"Lin_Ent110\"].isnull() == True,0,1)\n",
        "Data[\"D_Lin_Ent113\"] = np.where(Data[\"Lin_Ent113\"].isnull() == True,0,1)\n",
        "Data[\"D_Lin_Ent349\"] = np.where(Data[\"Lin_Ent349\"].isnull() == True,0,1)\n",
        "Data[\"D_TC_Ent001\"] = np.where(Data[\"TC_Ent001\"].isnull() == True,0,1)\n",
        "Data[\"D_TC_Ent002\"] = np.where(Data[\"TC_Ent002\"].isnull() == True,0,1)\n",
        "Data[\"D_TC_Ent004\"] = np.where(Data[\"TC_Ent004\"].isnull() == True,0,1)\n",
        "Data[\"D_TC_Ent006\"] = np.where(Data[\"TC_Ent006\"].isnull() == True,0,1)\n",
        "Data[\"D_TC_Ent022\"] = np.where(Data[\"TC_Ent022\"].isnull() == True,0,1)\n",
        "Data[\"D_TC_Ent039\"] = np.where(Data[\"TC_Ent039\"].isnull() == True,0,1)\n",
        "Data[\"D_TC_Ent049\"] = np.where(Data[\"TC_Ent049\"].isnull() == True,0,1)\n",
        "Data[\"D_TC_Ent050\"] = np.where(Data[\"TC_Ent050\"].isnull() == True,0,1)\n",
        "Data[\"D_TC_Ent058\"] = np.where(Data[\"TC_Ent058\"].isnull() == True,0,1)\n",
        "Data[\"D_TC_Ent097\"] = np.where(Data[\"TC_Ent097\"].isnull() == True,0,1)\n",
        "Data[\"D_TC_Ent100\"] = np.where(Data[\"TC_Ent100\"].isnull() == True,0,1)\n",
        "Data[\"D_TC_Ent108\"] = np.where(Data[\"TC_Ent108\"].isnull() == True,0,1)\n",
        "Data[\"D_TC_Ent110\"] = np.where(Data[\"TC_Ent110\"].isnull() == True,0,1)\n",
        "Data[\"D_TC_Ent113\"] = np.where(Data[\"TC_Ent113\"].isnull() == True,0,1)\n",
        "Data[\"D_TC_Ent349\"] = np.where(Data[\"TC_Ent349\"].isnull() == True,0,1)"
      ],
      "execution_count": null,
      "outputs": []
    },
    {
      "cell_type": "code",
      "metadata": {
        "colab": {
          "base_uri": "https://localhost:8080/"
        },
        "id": "brYKSttA8bjg",
        "outputId": "ded646b1-2482-4d1f-b7a2-186c5fa6eff6"
      },
      "source": [
        "Data[\"D_Lin_Ent001\"]"
      ],
      "execution_count": null,
      "outputs": [
        {
          "output_type": "execute_result",
          "data": {
            "text/plain": [
              "0         1\n",
              "1         0\n",
              "2         1\n",
              "3         0\n",
              "4         0\n",
              "         ..\n",
              "212666    1\n",
              "212667    1\n",
              "212668    0\n",
              "212669    0\n",
              "212670    0\n",
              "Name: D_Lin_Ent001, Length: 212671, dtype: int64"
            ]
          },
          "metadata": {},
          "execution_count": 40
        }
      ]
    },
    {
      "cell_type": "markdown",
      "metadata": {
        "id": "Gx1ktHuy5xJS"
      },
      "source": [
        "**TRATAMIENTO DE VARIABLES CONTINUAS**"
      ]
    },
    {
      "cell_type": "markdown",
      "metadata": {
        "id": "3DJ71Sl1SNRu"
      },
      "source": [
        "**ANALISIS DE DE LA VARIABLE MAXLIN**"
      ]
    },
    {
      "cell_type": "code",
      "metadata": {
        "colab": {
          "base_uri": "https://localhost:8080/",
          "height": 588
        },
        "id": "d-ybraOA8A9u",
        "outputId": "fc82d9a9-6689-4a26-dfc1-86ecefb936f1"
      },
      "source": [
        "sns.distplot(Data['MaxLin'])\n",
        "Data['MaxLin'].quantile([0, .1, .2, .3, .4, .5, .6, .7, .8, .9, .97, .98, .99, 1])"
      ],
      "execution_count": null,
      "outputs": [
        {
          "output_type": "stream",
          "name": "stderr",
          "text": [
            "/usr/local/lib/python3.7/dist-packages/seaborn/distributions.py:2557: FutureWarning: `distplot` is a deprecated function and will be removed in a future version. Please adapt your code to use either `displot` (a figure-level function with similar flexibility) or `histplot` (an axes-level function for histograms).\n",
            "  warnings.warn(msg, FutureWarning)\n"
          ]
        },
        {
          "output_type": "execute_result",
          "data": {
            "text/plain": [
              "0.00         0.010\n",
              "0.10      1500.000\n",
              "0.20      1800.000\n",
              "0.30      2400.000\n",
              "0.40      3500.000\n",
              "0.50      4800.000\n",
              "0.60      6280.000\n",
              "0.70      8800.000\n",
              "0.80     12839.800\n",
              "0.90     22583.920\n",
              "0.97     48000.000\n",
              "0.98     57032.600\n",
              "0.99     71439.761\n",
              "1.00    293356.000\n",
              "Name: MaxLin, dtype: float64"
            ]
          },
          "metadata": {},
          "execution_count": 41
        },
        {
          "output_type": "display_data",
          "data": {
            "image/png": "[encoded data removed]",
            "text/plain": [
              "<Figure size 432x288 with 1 Axes>"
            ]
          },
          "metadata": {
            "needs_background": "light"
          }
        }
      ]
    },
    {
      "cell_type": "markdown",
      "metadata": {
        "id": "Ntrw1yvjSi0f"
      },
      "source": [
        "**ANALISIS DE LA VARIABLE MAXIMO SALDO**"
      ]
    },
    {
      "cell_type": "code",
      "metadata": {
        "colab": {
          "base_uri": "https://localhost:8080/",
          "height": 591
        },
        "id": "k93DxJG-8cJy",
        "outputId": "1b5005f3-5513-4c03-fe5c-48cda51c436c"
      },
      "source": [
        "sns.distplot(Data['MaxSal'])\n",
        "Data['MaxSal'].quantile([0, .1, .2, .3, .4, .5, .6, .7, .8, .9, .97, .98, .99, 1])"
      ],
      "execution_count": null,
      "outputs": [
        {
          "output_type": "stream",
          "name": "stderr",
          "text": [
            "/usr/local/lib/python3.7/dist-packages/seaborn/distributions.py:2557: FutureWarning: `distplot` is a deprecated function and will be removed in a future version. Please adapt your code to use either `displot` (a figure-level function with similar flexibility) or `histplot` (an axes-level function for histograms).\n",
            "  warnings.warn(msg, FutureWarning)\n"
          ]
        },
        {
          "output_type": "execute_result",
          "data": {
            "text/plain": [
              "0.00         0.010\n",
              "0.10       199.560\n",
              "0.20       470.880\n",
              "0.30       779.640\n",
              "0.40      1128.840\n",
              "0.50      1552.110\n",
              "0.60      2122.100\n",
              "0.70      3194.120\n",
              "0.80      5038.030\n",
              "0.90      9738.810\n",
              "0.97     23331.526\n",
              "0.98     29131.310\n",
              "0.99     40485.415\n",
              "1.00    212738.440\n",
              "Name: MaxSal, dtype: float64"
            ]
          },
          "metadata": {},
          "execution_count": 42
        },
        {
          "output_type": "display_data",
          "data": {
            "image/png": "[encoded data removed]",
            "text/plain": [
              "<Figure size 432x288 with 1 Axes>"
            ]
          },
          "metadata": {
            "needs_background": "light"
          }
        }
      ]
    },
    {
      "cell_type": "markdown",
      "metadata": {
        "id": "X0OORlNL1Ri0"
      },
      "source": [
        "**TRANSFORMACIÓN DE VARIABLES CONTINUAS**"
      ]
    },
    {
      "cell_type": "code",
      "metadata": {
        "id": "ULUr-YDG9vZr"
      },
      "source": [
        "Data[\"T_MaxLin\"] = np.log(Data[\"MaxLin\"])\n",
        "Data['T_MaxSal'] = np.log(Data[\"MaxSal\"])"
      ],
      "execution_count": null,
      "outputs": []
    },
    {
      "cell_type": "markdown",
      "metadata": {
        "id": "lsJLsJwI1gJV"
      },
      "source": [
        "**VERIFICACIÓN DE LA DISTRIBUCIÓN DE LA VARIABLE TRASNFORMADA**"
      ]
    },
    {
      "cell_type": "code",
      "metadata": {
        "colab": {
          "base_uri": "https://localhost:8080/",
          "height": 351
        },
        "id": "-RC8_AHWBaSA",
        "outputId": "6d25bd60-b344-4b09-aa0b-c11f60a79dea"
      },
      "source": [
        "sns.distplot(Data['T_MaxLin'])"
      ],
      "execution_count": null,
      "outputs": [
        {
          "output_type": "stream",
          "name": "stderr",
          "text": [
            "/usr/local/lib/python3.7/dist-packages/seaborn/distributions.py:2557: FutureWarning: `distplot` is a deprecated function and will be removed in a future version. Please adapt your code to use either `displot` (a figure-level function with similar flexibility) or `histplot` (an axes-level function for histograms).\n",
            "  warnings.warn(msg, FutureWarning)\n"
          ]
        },
        {
          "output_type": "execute_result",
          "data": {
            "text/plain": [
              "<matplotlib.axes._subplots.AxesSubplot at 0x7f6bb0f96650>"
            ]
          },
          "metadata": {},
          "execution_count": 44
        },
        {
          "output_type": "display_data",
          "data": {
            "image/png": "[encoded data removed]",
            "text/plain": [
              "<Figure size 432x288 with 1 Axes>"
            ]
          },
          "metadata": {
            "needs_background": "light"
          }
        }
      ]
    },
    {
      "cell_type": "code",
      "metadata": {
        "colab": {
          "base_uri": "https://localhost:8080/",
          "height": 351
        },
        "id": "KKjV46lRBwZT",
        "outputId": "94e6f66e-fb09-42a7-a280-12d46a6ae727"
      },
      "source": [
        "sns.distplot(Data['T_MaxSal'])"
      ],
      "execution_count": null,
      "outputs": [
        {
          "output_type": "stream",
          "name": "stderr",
          "text": [
            "/usr/local/lib/python3.7/dist-packages/seaborn/distributions.py:2557: FutureWarning: `distplot` is a deprecated function and will be removed in a future version. Please adapt your code to use either `displot` (a figure-level function with similar flexibility) or `histplot` (an axes-level function for histograms).\n",
            "  warnings.warn(msg, FutureWarning)\n"
          ]
        },
        {
          "output_type": "execute_result",
          "data": {
            "text/plain": [
              "<matplotlib.axes._subplots.AxesSubplot at 0x7f6bac354450>"
            ]
          },
          "metadata": {},
          "execution_count": 45
        },
        {
          "output_type": "display_data",
          "data": {
            "image/png": "[encoded data removed]",
            "text/plain": [
              "<Figure size 432x288 with 1 Axes>"
            ]
          },
          "metadata": {
            "needs_background": "light"
          }
        }
      ]
    },
    {
      "cell_type": "code",
      "metadata": {
        "colab": {
          "base_uri": "https://localhost:8080/",
          "height": 297
        },
        "id": "30pN5i2GCDQh",
        "outputId": "db16397c-af15-4df2-cba3-614ab13869c6"
      },
      "source": [
        "sns.boxplot(x=Data['T_MaxLin'])"
      ],
      "execution_count": null,
      "outputs": [
        {
          "output_type": "execute_result",
          "data": {
            "text/plain": [
              "<matplotlib.axes._subplots.AxesSubplot at 0x7f6bac1e4410>"
            ]
          },
          "metadata": {},
          "execution_count": 46
        },
        {
          "output_type": "display_data",
          "data": {
            "image/png": "[encoded data removed]",
            "text/plain": [
              "<Figure size 432x288 with 1 Axes>"
            ]
          },
          "metadata": {
            "needs_background": "light"
          }
        }
      ]
    },
    {
      "cell_type": "code",
      "metadata": {
        "colab": {
          "base_uri": "https://localhost:8080/",
          "height": 297
        },
        "id": "FkEiSs61Ch8f",
        "outputId": "da49a54d-dfd1-41fb-f40a-e53e9d9474fe"
      },
      "source": [
        "sns.boxplot(x=Data['T_MaxSal'])"
      ],
      "execution_count": null,
      "outputs": [
        {
          "output_type": "execute_result",
          "data": {
            "text/plain": [
              "<matplotlib.axes._subplots.AxesSubplot at 0x7f6bac143110>"
            ]
          },
          "metadata": {},
          "execution_count": 48
        },
        {
          "output_type": "display_data",
          "data": {
            "image/png": "[encoded data removed]",
            "text/plain": [
              "<Figure size 432x288 with 1 Axes>"
            ]
          },
          "metadata": {
            "needs_background": "light"
          }
        }
      ]
    },
    {
      "cell_type": "markdown",
      "metadata": {
        "id": "XRxCqbVklWzg"
      },
      "source": [
        "**ANALSIS DE LA VARIABLE EDAD**"
      ]
    },
    {
      "cell_type": "code",
      "metadata": {
        "colab": {
          "base_uri": "https://localhost:8080/",
          "height": 350
        },
        "id": "tWCojWfbEdi-",
        "outputId": "aebe56d1-1cfa-49c5-f308-8365c46ebccb"
      },
      "source": [
        "sns.distplot(Data['Edad'])"
      ],
      "execution_count": null,
      "outputs": [
        {
          "output_type": "stream",
          "name": "stderr",
          "text": [
            "/usr/local/lib/python3.7/dist-packages/seaborn/distributions.py:2557: FutureWarning: `distplot` is a deprecated function and will be removed in a future version. Please adapt your code to use either `displot` (a figure-level function with similar flexibility) or `histplot` (an axes-level function for histograms).\n",
            "  warnings.warn(msg, FutureWarning)\n"
          ]
        },
        {
          "output_type": "execute_result",
          "data": {
            "text/plain": [
              "<matplotlib.axes._subplots.AxesSubplot at 0x7f6bac0b7710>"
            ]
          },
          "metadata": {},
          "execution_count": 49
        },
        {
          "output_type": "display_data",
          "data": {
            "image/png": "[encoded data removed]",
            "text/plain": [
              "<Figure size 432x288 with 1 Axes>"
            ]
          },
          "metadata": {
            "needs_background": "light"
          }
        }
      ]
    },
    {
      "cell_type": "code",
      "metadata": {
        "id": "W9EnUAx7FmTi"
      },
      "source": [
        "Data['Z_Edad'] = (Data['Edad'] - np.mean(Data['Edad']))/np.std(Data['Edad'])"
      ],
      "execution_count": null,
      "outputs": []
    },
    {
      "cell_type": "code",
      "metadata": {
        "colab": {
          "base_uri": "https://localhost:8080/",
          "height": 351
        },
        "id": "8g6gf0E2O1Vs",
        "outputId": "107daeca-9f04-4118-936d-390a6463fc15"
      },
      "source": [
        "sns.distplot(Data['Z_Edad'])"
      ],
      "execution_count": null,
      "outputs": [
        {
          "output_type": "stream",
          "name": "stderr",
          "text": [
            "/usr/local/lib/python3.7/dist-packages/seaborn/distributions.py:2557: FutureWarning: `distplot` is a deprecated function and will be removed in a future version. Please adapt your code to use either `displot` (a figure-level function with similar flexibility) or `histplot` (an axes-level function for histograms).\n",
            "  warnings.warn(msg, FutureWarning)\n"
          ]
        },
        {
          "output_type": "execute_result",
          "data": {
            "text/plain": [
              "<matplotlib.axes._subplots.AxesSubplot at 0x7f6babf4e990>"
            ]
          },
          "metadata": {},
          "execution_count": 52
        },
        {
          "output_type": "display_data",
          "data": {
            "image/png": "[encoded data removed]",
            "text/plain": [
              "<Figure size 432x288 with 1 Axes>"
            ]
          },
          "metadata": {
            "needs_background": "light"
          }
        }
      ]
    },
    {
      "cell_type": "markdown",
      "metadata": {
        "id": "shUFJR5qldjH"
      },
      "source": [
        "**TRATAMIENTO DE VARIABLES CATEGÓRICAS**"
      ]
    },
    {
      "cell_type": "code",
      "metadata": {
        "colab": {
          "base_uri": "https://localhost:8080/",
          "height": 314
        },
        "id": "hWh7a2T65hjf",
        "outputId": "fe8fc793-d94b-4277-b915-350aa15899d4"
      },
      "source": [
        "plt.hist(x=Data['Gener'], bins=10, color='#F2AB6D', rwidth=5,histtype='bar',orientation='vertical')\n",
        "plt.grid(True)\n",
        "plt.title('Histograma de Grupo Generacional')\n",
        "plt.xlabel('Grupo Generacional')\n",
        "plt.ylabel('Frecuencia')\n",
        "plt.show()\n",
        "plt.clf()"
      ],
      "execution_count": null,
      "outputs": [
        {
          "output_type": "display_data",
          "data": {
            "image/png": "[encoded data removed]",
            "text/plain": [
              "<Figure size 432x288 with 1 Axes>"
            ]
          },
          "metadata": {
            "needs_background": "light"
          }
        },
        {
          "output_type": "display_data",
          "data": {
            "text/plain": [
              "<Figure size 432x288 with 0 Axes>"
            ]
          },
          "metadata": {}
        }
      ]
    },
    {
      "cell_type": "code",
      "metadata": {
        "colab": {
          "base_uri": "https://localhost:8080/"
        },
        "id": "D35HeyIa5P1R",
        "outputId": "26073892-b247-4c2f-99c9-fe4b43d87346"
      },
      "source": [
        "import scipy.stats as stats\n",
        "stats.chi2_contingency(pd.crosstab(Data['Gener'],Data['UsoTC']))"
      ],
      "execution_count": null,
      "outputs": [
        {
          "output_type": "execute_result",
          "data": {
            "text/plain": [
              "(883.2729878152442,\n",
              " 7.010595439910522e-190,\n",
              " 4,\n",
              " array([[2.28976390e+04, 3.36323610e+04],\n",
              "        [2.37685027e+03, 3.49114973e+03],\n",
              "        [3.38608001e+04, 4.97351999e+04],\n",
              "        [2.69635598e+04, 3.96044402e+04],\n",
              "        [4.41507634e+01, 6.48492366e+01]]))"
            ]
          },
          "metadata": {},
          "execution_count": 54
        }
      ]
    },
    {
      "cell_type": "code",
      "metadata": {
        "colab": {
          "base_uri": "https://localhost:8080/",
          "height": 235
        },
        "id": "GGMRtYYFhk8E",
        "outputId": "f168c862-01ed-41a9-b430-fc8475ae6c70"
      },
      "source": [
        "pd.crosstab(Data['Gener'],Data['UsoTC'])"
      ],
      "execution_count": null,
      "outputs": [
        {
          "output_type": "execute_result",
          "data": {
            "text/html": [
              "<div>\n",
              "<style scoped>\n",
              "    .dataframe tbody tr th:only-of-type {\n",
              "        vertical-align: middle;\n",
              "    }\n",
              "\n",
              "    .dataframe tbody tr th {\n",
              "        vertical-align: top;\n",
              "    }\n",
              "\n",
              "    .dataframe thead th {\n",
              "        text-align: right;\n",
              "    }\n",
              "</style>\n",
              "<table border=\"1\" class=\"dataframe\">\n",
              "  <thead>\n",
              "    <tr style=\"text-align: right;\">\n",
              "      <th>UsoTC</th>\n",
              "      <th>NO</th>\n",
              "      <th>SI</th>\n",
              "    </tr>\n",
              "    <tr>\n",
              "      <th>Gener</th>\n",
              "      <th></th>\n",
              "      <th></th>\n",
              "    </tr>\n",
              "  </thead>\n",
              "  <tbody>\n",
              "    <tr>\n",
              "      <th>BABY BOOMERS : [50 - 68]</th>\n",
              "      <td>24777</td>\n",
              "      <td>31753</td>\n",
              "    </tr>\n",
              "    <tr>\n",
              "      <th>SILENCIOSA : [69 - MÁS&gt;</th>\n",
              "      <td>2939</td>\n",
              "      <td>2929</td>\n",
              "    </tr>\n",
              "    <tr>\n",
              "      <th>X : [36 - 49]</th>\n",
              "      <td>33295</td>\n",
              "      <td>50301</td>\n",
              "    </tr>\n",
              "    <tr>\n",
              "      <th>Y : [20 - 35]</th>\n",
              "      <td>25025</td>\n",
              "      <td>41543</td>\n",
              "    </tr>\n",
              "    <tr>\n",
              "      <th>Z : &lt;MENOS - 19&gt;</th>\n",
              "      <td>107</td>\n",
              "      <td>2</td>\n",
              "    </tr>\n",
              "  </tbody>\n",
              "</table>\n",
              "</div>"
            ],
            "text/plain": [
              "UsoTC                        NO     SI\n",
              "Gener                                 \n",
              "BABY BOOMERS : [50 - 68]  24777  31753\n",
              "SILENCIOSA : [69 - MÁS>    2939   2929\n",
              "X : [36 - 49]             33295  50301\n",
              "Y : [20 - 35]             25025  41543\n",
              "Z : <MENOS - 19>            107      2"
            ]
          },
          "metadata": {},
          "execution_count": 55
        }
      ]
    },
    {
      "cell_type": "code",
      "metadata": {
        "colab": {
          "base_uri": "https://localhost:8080/",
          "height": 235
        },
        "id": "J2Bcjy_73t7R",
        "outputId": "99f7a465-249e-4acc-9087-de0300b38510"
      },
      "source": [
        "pd.crosstab(Data['Gener'],Data['UsoTC'],normalize='index').round(3)*100"
      ],
      "execution_count": null,
      "outputs": [
        {
          "output_type": "execute_result",
          "data": {
            "text/html": [
              "<div>\n",
              "<style scoped>\n",
              "    .dataframe tbody tr th:only-of-type {\n",
              "        vertical-align: middle;\n",
              "    }\n",
              "\n",
              "    .dataframe tbody tr th {\n",
              "        vertical-align: top;\n",
              "    }\n",
              "\n",
              "    .dataframe thead th {\n",
              "        text-align: right;\n",
              "    }\n",
              "</style>\n",
              "<table border=\"1\" class=\"dataframe\">\n",
              "  <thead>\n",
              "    <tr style=\"text-align: right;\">\n",
              "      <th>UsoTC</th>\n",
              "      <th>NO</th>\n",
              "      <th>SI</th>\n",
              "    </tr>\n",
              "    <tr>\n",
              "      <th>Gener</th>\n",
              "      <th></th>\n",
              "      <th></th>\n",
              "    </tr>\n",
              "  </thead>\n",
              "  <tbody>\n",
              "    <tr>\n",
              "      <th>BABY BOOMERS : [50 - 68]</th>\n",
              "      <td>43.8</td>\n",
              "      <td>56.2</td>\n",
              "    </tr>\n",
              "    <tr>\n",
              "      <th>SILENCIOSA : [69 - MÁS&gt;</th>\n",
              "      <td>50.1</td>\n",
              "      <td>49.9</td>\n",
              "    </tr>\n",
              "    <tr>\n",
              "      <th>X : [36 - 49]</th>\n",
              "      <td>39.8</td>\n",
              "      <td>60.2</td>\n",
              "    </tr>\n",
              "    <tr>\n",
              "      <th>Y : [20 - 35]</th>\n",
              "      <td>37.6</td>\n",
              "      <td>62.4</td>\n",
              "    </tr>\n",
              "    <tr>\n",
              "      <th>Z : &lt;MENOS - 19&gt;</th>\n",
              "      <td>98.2</td>\n",
              "      <td>1.8</td>\n",
              "    </tr>\n",
              "  </tbody>\n",
              "</table>\n",
              "</div>"
            ],
            "text/plain": [
              "UsoTC                       NO    SI\n",
              "Gener                               \n",
              "BABY BOOMERS : [50 - 68]  43.8  56.2\n",
              "SILENCIOSA : [69 - MÁS>   50.1  49.9\n",
              "X : [36 - 49]             39.8  60.2\n",
              "Y : [20 - 35]             37.6  62.4\n",
              "Z : <MENOS - 19>          98.2   1.8"
            ]
          },
          "metadata": {},
          "execution_count": 56
        }
      ]
    },
    {
      "cell_type": "code",
      "metadata": {
        "colab": {
          "base_uri": "https://localhost:8080/",
          "height": 235
        },
        "id": "MmtWMOqL5Ym0",
        "outputId": "7ba58541-7c66-43d0-81a8-6d0d47727a4a"
      },
      "source": [
        "pd.crosstab(Data['Gener'],Data['UsoTC'],normalize='columns').round(3)*100"
      ],
      "execution_count": null,
      "outputs": [
        {
          "output_type": "execute_result",
          "data": {
            "text/html": [
              "<div>\n",
              "<style scoped>\n",
              "    .dataframe tbody tr th:only-of-type {\n",
              "        vertical-align: middle;\n",
              "    }\n",
              "\n",
              "    .dataframe tbody tr th {\n",
              "        vertical-align: top;\n",
              "    }\n",
              "\n",
              "    .dataframe thead th {\n",
              "        text-align: right;\n",
              "    }\n",
              "</style>\n",
              "<table border=\"1\" class=\"dataframe\">\n",
              "  <thead>\n",
              "    <tr style=\"text-align: right;\">\n",
              "      <th>UsoTC</th>\n",
              "      <th>NO</th>\n",
              "      <th>SI</th>\n",
              "    </tr>\n",
              "    <tr>\n",
              "      <th>Gener</th>\n",
              "      <th></th>\n",
              "      <th></th>\n",
              "    </tr>\n",
              "  </thead>\n",
              "  <tbody>\n",
              "    <tr>\n",
              "      <th>BABY BOOMERS : [50 - 68]</th>\n",
              "      <td>28.8</td>\n",
              "      <td>25.1</td>\n",
              "    </tr>\n",
              "    <tr>\n",
              "      <th>SILENCIOSA : [69 - MÁS&gt;</th>\n",
              "      <td>3.4</td>\n",
              "      <td>2.3</td>\n",
              "    </tr>\n",
              "    <tr>\n",
              "      <th>X : [36 - 49]</th>\n",
              "      <td>38.7</td>\n",
              "      <td>39.8</td>\n",
              "    </tr>\n",
              "    <tr>\n",
              "      <th>Y : [20 - 35]</th>\n",
              "      <td>29.1</td>\n",
              "      <td>32.8</td>\n",
              "    </tr>\n",
              "    <tr>\n",
              "      <th>Z : &lt;MENOS - 19&gt;</th>\n",
              "      <td>0.1</td>\n",
              "      <td>0.0</td>\n",
              "    </tr>\n",
              "  </tbody>\n",
              "</table>\n",
              "</div>"
            ],
            "text/plain": [
              "UsoTC                       NO    SI\n",
              "Gener                               \n",
              "BABY BOOMERS : [50 - 68]  28.8  25.1\n",
              "SILENCIOSA : [69 - MÁS>    3.4   2.3\n",
              "X : [36 - 49]             38.7  39.8\n",
              "Y : [20 - 35]             29.1  32.8\n",
              "Z : <MENOS - 19>           0.1   0.0"
            ]
          },
          "metadata": {},
          "execution_count": 58
        }
      ]
    },
    {
      "cell_type": "code",
      "metadata": {
        "id": "sushaquv9rnK"
      },
      "source": [
        "Data[\"D_Gener_BB\"] = np.where(Data[\"Gener\"] == \"BABY BOOMERS : [50 - 68]\",1,0)\n",
        "Data[\"D_Gener_X\"] = np.where(Data[\"Gener\"] == \"X : [36 - 49]\",1,0)\n",
        "Data[\"D_Gener_Y\"] = np.where(Data[\"Gener\"] == \"Y : [20 - 35]\",1,0)"
      ],
      "execution_count": null,
      "outputs": []
    },
    {
      "cell_type": "code",
      "metadata": {
        "colab": {
          "base_uri": "https://localhost:8080/",
          "height": 312
        },
        "id": "f_E1XD8k8G6G",
        "outputId": "dc6ebca7-65b7-46aa-b629-5e4180db436b"
      },
      "source": [
        "plt.hist(x=Data['EstCiv'], bins=10, color='#F2AB6D', rwidth=5,histtype='bar',orientation='vertical')\n",
        "plt.grid(True)\n",
        "plt.title('Histograma de Estado Civil')\n",
        "plt.xlabel('Estado Civil')\n",
        "plt.ylabel('Frecuencia')\n",
        "plt.show()\n",
        "plt.clf()"
      ],
      "execution_count": null,
      "outputs": [
        {
          "output_type": "display_data",
          "data": {
            "image/png": "[encoded data removed]",
            "text/plain": [
              "<Figure size 432x288 with 1 Axes>"
            ]
          },
          "metadata": {
            "needs_background": "light"
          }
        },
        {
          "output_type": "display_data",
          "data": {
            "text/plain": [
              "<Figure size 432x288 with 0 Axes>"
            ]
          },
          "metadata": {}
        }
      ]
    },
    {
      "cell_type": "code",
      "metadata": {
        "colab": {
          "base_uri": "https://localhost:8080/"
        },
        "id": "UPGNNWPg8gy3",
        "outputId": "f5b765e7-276a-40d6-d211-7c5e60772123"
      },
      "source": [
        "stats.chi2_contingency(pd.crosstab(Data['EstCiv'],Data['UsoTC']))"
      ],
      "execution_count": null,
      "outputs": [
        {
          "output_type": "execute_result",
          "data": {
            "text/plain": [
              "(611.6911331900504,\n",
              " 4.569597688169224e-131,\n",
              " 4,\n",
              " array([[25465.26920455, 37403.73079545],\n",
              "        [ 7942.27677492, 11665.72322508],\n",
              "        [ 1684.20985466,  2473.79014534],\n",
              "        [50149.19141303, 73659.80858697],\n",
              "        [  902.05275284,  1324.94724716]]))"
            ]
          },
          "metadata": {},
          "execution_count": 27
        }
      ]
    },
    {
      "cell_type": "code",
      "metadata": {
        "colab": {
          "base_uri": "https://localhost:8080/",
          "height": 235
        },
        "id": "IXHDa9nf8std",
        "outputId": "efc9afe4-a88e-4ba6-9fa5-88b038a22746"
      },
      "source": [
        "pd.crosstab(Data['EstCiv'],Data['UsoTC'])"
      ],
      "execution_count": null,
      "outputs": [
        {
          "output_type": "execute_result",
          "data": {
            "text/html": [
              "<div>\n",
              "<style scoped>\n",
              "    .dataframe tbody tr th:only-of-type {\n",
              "        vertical-align: middle;\n",
              "    }\n",
              "\n",
              "    .dataframe tbody tr th {\n",
              "        vertical-align: top;\n",
              "    }\n",
              "\n",
              "    .dataframe thead th {\n",
              "        text-align: right;\n",
              "    }\n",
              "</style>\n",
              "<table border=\"1\" class=\"dataframe\">\n",
              "  <thead>\n",
              "    <tr style=\"text-align: right;\">\n",
              "      <th>UsoTC</th>\n",
              "      <th>NO</th>\n",
              "      <th>SI</th>\n",
              "    </tr>\n",
              "    <tr>\n",
              "      <th>EstCiv</th>\n",
              "      <th></th>\n",
              "      <th></th>\n",
              "    </tr>\n",
              "  </thead>\n",
              "  <tbody>\n",
              "    <tr>\n",
              "      <th>Casado</th>\n",
              "      <td>23640</td>\n",
              "      <td>39229</td>\n",
              "    </tr>\n",
              "    <tr>\n",
              "      <th>Conviviente</th>\n",
              "      <td>7473</td>\n",
              "      <td>12135</td>\n",
              "    </tr>\n",
              "    <tr>\n",
              "      <th>Divorciado</th>\n",
              "      <td>1382</td>\n",
              "      <td>2776</td>\n",
              "    </tr>\n",
              "    <tr>\n",
              "      <th>Soltero</th>\n",
              "      <td>52830</td>\n",
              "      <td>70979</td>\n",
              "    </tr>\n",
              "    <tr>\n",
              "      <th>Viudo</th>\n",
              "      <td>818</td>\n",
              "      <td>1409</td>\n",
              "    </tr>\n",
              "  </tbody>\n",
              "</table>\n",
              "</div>"
            ],
            "text/plain": [
              "UsoTC           NO     SI\n",
              "EstCiv                   \n",
              "Casado       23640  39229\n",
              "Conviviente   7473  12135\n",
              "Divorciado    1382   2776\n",
              "Soltero      52830  70979\n",
              "Viudo          818   1409"
            ]
          },
          "metadata": {},
          "execution_count": 29
        }
      ]
    },
    {
      "cell_type": "code",
      "metadata": {
        "colab": {
          "base_uri": "https://localhost:8080/",
          "height": 235
        },
        "id": "fBDiSAvz_jub",
        "outputId": "7e9daa70-ecce-4da0-8352-5a2cb9438d9e"
      },
      "source": [
        "pd.crosstab(Data['EstCiv'],Data['UsoTC'],normalize='index').round(3)*100"
      ],
      "execution_count": null,
      "outputs": [
        {
          "output_type": "execute_result",
          "data": {
            "text/html": [
              "<div>\n",
              "<style scoped>\n",
              "    .dataframe tbody tr th:only-of-type {\n",
              "        vertical-align: middle;\n",
              "    }\n",
              "\n",
              "    .dataframe tbody tr th {\n",
              "        vertical-align: top;\n",
              "    }\n",
              "\n",
              "    .dataframe thead th {\n",
              "        text-align: right;\n",
              "    }\n",
              "</style>\n",
              "<table border=\"1\" class=\"dataframe\">\n",
              "  <thead>\n",
              "    <tr style=\"text-align: right;\">\n",
              "      <th>UsoTC</th>\n",
              "      <th>NO</th>\n",
              "      <th>SI</th>\n",
              "    </tr>\n",
              "    <tr>\n",
              "      <th>EstCiv</th>\n",
              "      <th></th>\n",
              "      <th></th>\n",
              "    </tr>\n",
              "  </thead>\n",
              "  <tbody>\n",
              "    <tr>\n",
              "      <th>Casado</th>\n",
              "      <td>37.6</td>\n",
              "      <td>62.4</td>\n",
              "    </tr>\n",
              "    <tr>\n",
              "      <th>Conviviente</th>\n",
              "      <td>38.1</td>\n",
              "      <td>61.9</td>\n",
              "    </tr>\n",
              "    <tr>\n",
              "      <th>Divorciado</th>\n",
              "      <td>33.2</td>\n",
              "      <td>66.8</td>\n",
              "    </tr>\n",
              "    <tr>\n",
              "      <th>Soltero</th>\n",
              "      <td>42.7</td>\n",
              "      <td>57.3</td>\n",
              "    </tr>\n",
              "    <tr>\n",
              "      <th>Viudo</th>\n",
              "      <td>36.7</td>\n",
              "      <td>63.3</td>\n",
              "    </tr>\n",
              "  </tbody>\n",
              "</table>\n",
              "</div>"
            ],
            "text/plain": [
              "UsoTC          NO    SI\n",
              "EstCiv                 \n",
              "Casado       37.6  62.4\n",
              "Conviviente  38.1  61.9\n",
              "Divorciado   33.2  66.8\n",
              "Soltero      42.7  57.3\n",
              "Viudo        36.7  63.3"
            ]
          },
          "metadata": {},
          "execution_count": 30
        }
      ]
    },
    {
      "cell_type": "code",
      "metadata": {
        "colab": {
          "base_uri": "https://localhost:8080/",
          "height": 235
        },
        "id": "ka1CV4OE__GJ",
        "outputId": "08f78cf9-9d43-4446-ecd8-08169faa4745"
      },
      "source": [
        "pd.crosstab(Data['EstCiv'],Data['UsoTC'],normalize='columns').round(3)*100"
      ],
      "execution_count": null,
      "outputs": [
        {
          "output_type": "execute_result",
          "data": {
            "text/html": [
              "<div>\n",
              "<style scoped>\n",
              "    .dataframe tbody tr th:only-of-type {\n",
              "        vertical-align: middle;\n",
              "    }\n",
              "\n",
              "    .dataframe tbody tr th {\n",
              "        vertical-align: top;\n",
              "    }\n",
              "\n",
              "    .dataframe thead th {\n",
              "        text-align: right;\n",
              "    }\n",
              "</style>\n",
              "<table border=\"1\" class=\"dataframe\">\n",
              "  <thead>\n",
              "    <tr style=\"text-align: right;\">\n",
              "      <th>UsoTC</th>\n",
              "      <th>NO</th>\n",
              "      <th>SI</th>\n",
              "    </tr>\n",
              "    <tr>\n",
              "      <th>EstCiv</th>\n",
              "      <th></th>\n",
              "      <th></th>\n",
              "    </tr>\n",
              "  </thead>\n",
              "  <tbody>\n",
              "    <tr>\n",
              "      <th>Casado</th>\n",
              "      <td>27.4</td>\n",
              "      <td>31.0</td>\n",
              "    </tr>\n",
              "    <tr>\n",
              "      <th>Conviviente</th>\n",
              "      <td>8.7</td>\n",
              "      <td>9.6</td>\n",
              "    </tr>\n",
              "    <tr>\n",
              "      <th>Divorciado</th>\n",
              "      <td>1.6</td>\n",
              "      <td>2.2</td>\n",
              "    </tr>\n",
              "    <tr>\n",
              "      <th>Soltero</th>\n",
              "      <td>61.3</td>\n",
              "      <td>56.1</td>\n",
              "    </tr>\n",
              "    <tr>\n",
              "      <th>Viudo</th>\n",
              "      <td>0.9</td>\n",
              "      <td>1.1</td>\n",
              "    </tr>\n",
              "  </tbody>\n",
              "</table>\n",
              "</div>"
            ],
            "text/plain": [
              "UsoTC          NO    SI\n",
              "EstCiv                 \n",
              "Casado       27.4  31.0\n",
              "Conviviente   8.7   9.6\n",
              "Divorciado    1.6   2.2\n",
              "Soltero      61.3  56.1\n",
              "Viudo         0.9   1.1"
            ]
          },
          "metadata": {},
          "execution_count": 31
        }
      ]
    },
    {
      "cell_type": "code",
      "metadata": {
        "id": "Aw0KhtVFAMgp",
        "colab": {
          "base_uri": "https://localhost:8080/",
          "height": 312
        },
        "outputId": "9cf5d9a3-01cc-4306-aba3-c09db85585f2"
      },
      "source": [
        "plt.hist(x=Data['Sexo'], bins=10, color='#F2AB6D', rwidth=5,histtype='bar',orientation='vertical')\n",
        "plt.grid(True)\n",
        "plt.title('Histograma de Sexo')\n",
        "plt.xlabel('Sexo')\n",
        "plt.ylabel('Frecuencia')\n",
        "plt.show()\n",
        "plt.clf()"
      ],
      "execution_count": null,
      "outputs": [
        {
          "output_type": "display_data",
          "data": {
            "image/png": "[encoded data removed]",
            "text/plain": [
              "<Figure size 432x288 with 1 Axes>"
            ]
          },
          "metadata": {
            "needs_background": "light"
          }
        },
        {
          "output_type": "display_data",
          "data": {
            "text/plain": [
              "<Figure size 432x288 with 0 Axes>"
            ]
          },
          "metadata": {}
        }
      ]
    },
    {
      "cell_type": "code",
      "metadata": {
        "id": "5v7jcsrSEdM6",
        "colab": {
          "base_uri": "https://localhost:8080/"
        },
        "outputId": "1862670b-d78a-433f-a4c8-0a64d10b2d1a"
      },
      "source": [
        "stats.chi2_contingency(pd.crosstab(Data['Sexo'],Data['UsoTC']))"
      ],
      "execution_count": null,
      "outputs": [
        {
          "output_type": "execute_result",
          "data": {
            "text/plain": [
              "(248.32578927122447,\n",
              " 6.017796932896763e-56,\n",
              " 1,\n",
              " array([[39904.59409605, 58612.40590395],\n",
              "        [46238.40590395, 67915.59409605]]))"
            ]
          },
          "metadata": {},
          "execution_count": 33
        }
      ]
    },
    {
      "cell_type": "code",
      "metadata": {
        "id": "xzXz0CJREhDJ",
        "colab": {
          "base_uri": "https://localhost:8080/",
          "height": 142
        },
        "outputId": "6c211d1e-60c5-4512-e81c-039efd99bd2a"
      },
      "source": [
        "pd.crosstab(Data['Sexo'],Data['UsoTC'])"
      ],
      "execution_count": null,
      "outputs": [
        {
          "output_type": "execute_result",
          "data": {
            "text/html": [
              "<div>\n",
              "<style scoped>\n",
              "    .dataframe tbody tr th:only-of-type {\n",
              "        vertical-align: middle;\n",
              "    }\n",
              "\n",
              "    .dataframe tbody tr th {\n",
              "        vertical-align: top;\n",
              "    }\n",
              "\n",
              "    .dataframe thead th {\n",
              "        text-align: right;\n",
              "    }\n",
              "</style>\n",
              "<table border=\"1\" class=\"dataframe\">\n",
              "  <thead>\n",
              "    <tr style=\"text-align: right;\">\n",
              "      <th>UsoTC</th>\n",
              "      <th>NO</th>\n",
              "      <th>SI</th>\n",
              "    </tr>\n",
              "    <tr>\n",
              "      <th>Sexo</th>\n",
              "      <th></th>\n",
              "      <th></th>\n",
              "    </tr>\n",
              "  </thead>\n",
              "  <tbody>\n",
              "    <tr>\n",
              "      <th>Femenino</th>\n",
              "      <td>41684</td>\n",
              "      <td>56833</td>\n",
              "    </tr>\n",
              "    <tr>\n",
              "      <th>Masculino</th>\n",
              "      <td>44459</td>\n",
              "      <td>69695</td>\n",
              "    </tr>\n",
              "  </tbody>\n",
              "</table>\n",
              "</div>"
            ],
            "text/plain": [
              "UsoTC         NO     SI\n",
              "Sexo                   \n",
              "Femenino   41684  56833\n",
              "Masculino  44459  69695"
            ]
          },
          "metadata": {},
          "execution_count": 34
        }
      ]
    },
    {
      "cell_type": "code",
      "metadata": {
        "id": "SxP5oGdrFALn"
      },
      "source": [
        "pd.crosstab(Data['Sexo'],Data['UsoTC'],normalize='index').round(3)*100"
      ],
      "execution_count": null,
      "outputs": []
    },
    {
      "cell_type": "code",
      "metadata": {
        "id": "lwMI5-7GFAJA"
      },
      "source": [
        "pd.crosstab(Data['Sexo'],Data['UsoTC'],normalize='columns').round(3)*100"
      ],
      "execution_count": null,
      "outputs": []
    },
    {
      "cell_type": "code",
      "metadata": {
        "id": "QfyO_6PpFwrs"
      },
      "source": [
        "plt.hist(x=Data['NZONA'], bins=10, color='#F2AB6D', rwidth=5,histtype='bar',orientation='vertical')\n",
        "plt.grid(True)\n",
        "plt.title('Histograma de Zonas')\n",
        "plt.xlabel('Zonas')\n",
        "plt.ylabel('Frecuencia')\n",
        "plt.show()\n",
        "plt.clf()"
      ],
      "execution_count": null,
      "outputs": []
    },
    {
      "cell_type": "code",
      "metadata": {
        "id": "-KidaDDBFxJ1"
      },
      "source": [
        "stats.chi2_contingency(pd.crosstab(Data['NZONA'],Data['UsoTC']))"
      ],
      "execution_count": null,
      "outputs": []
    },
    {
      "cell_type": "code",
      "metadata": {
        "id": "C5vAjPrgFxvZ"
      },
      "source": [
        "pd.crosstab(Data['NZONA'],Data['UsoTC'])"
      ],
      "execution_count": null,
      "outputs": []
    },
    {
      "cell_type": "code",
      "metadata": {
        "id": "JMBq73DMFyP7"
      },
      "source": [
        "pd.crosstab(Data['NZONA'],Data['UsoTC'],normalize='index').round(3)*100"
      ],
      "execution_count": null,
      "outputs": []
    },
    {
      "cell_type": "code",
      "metadata": {
        "id": "6Z-SxEFiFy62"
      },
      "source": [
        "pd.crosstab(Data['NZONA'],Data['UsoTC'],normalize='columns').round(3)*100"
      ],
      "execution_count": null,
      "outputs": []
    },
    {
      "cell_type": "code",
      "metadata": {
        "id": "vcmrILv-RGRk"
      },
      "source": [
        "plt.hist(x=Data['Perfil'], bins=10, color='#F2AB6D', rwidth=5,histtype='bar',orientation='vertical')\n",
        "plt.grid(True)\n",
        "plt.title('Histograma del Perfil')\n",
        "plt.xlabel('Perfiles')\n",
        "plt.ylabel('Frecuencia')\n",
        "plt.show()\n",
        "plt.clf()"
      ],
      "execution_count": null,
      "outputs": []
    },
    {
      "cell_type": "code",
      "metadata": {
        "id": "OXt5cK82RQZM"
      },
      "source": [
        "stats.chi2_contingency(pd.crosstab(Data['Perfil'],Data['UsoTC']))"
      ],
      "execution_count": null,
      "outputs": []
    },
    {
      "cell_type": "code",
      "metadata": {
        "id": "QvdaEOMiRtFi"
      },
      "source": [
        "pd.crosstab(Data['Perfil'],Data['UsoTC'],normalize='index').round(3)*100"
      ],
      "execution_count": null,
      "outputs": []
    },
    {
      "cell_type": "code",
      "metadata": {
        "id": "Iu-d0-jHRs5G"
      },
      "source": [
        "pd.crosstab(Data['Perfil'],Data['UsoTC'],normalize='columns').round(3)*100"
      ],
      "execution_count": null,
      "outputs": []
    },
    {
      "cell_type": "code",
      "metadata": {
        "id": "QagodLChRslL"
      },
      "source": [],
      "execution_count": null,
      "outputs": []
    },
    {
      "cell_type": "code",
      "metadata": {
        "id": "q1j0MDL5RsWX"
      },
      "source": [],
      "execution_count": null,
      "outputs": []
    }
  ]
}