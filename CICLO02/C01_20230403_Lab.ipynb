{
  "nbformat": 4,
  "nbformat_minor": 0,
  "metadata": {
    "colab": {
      "provenance": [],
      "authorship_tag": "ABX9TyM1e2rXhqU0P8kJOC7fkms8",
      "include_colab_link": true
    },
    "kernelspec": {
      "name": "python3",
      "display_name": "Python 3"
    },
    "language_info": {
      "name": "python"
    }
  },
  "cells": [
    {
      "cell_type": "markdown",
      "metadata": {
        "id": "view-in-github",
        "colab_type": "text"
      },
      "source": [
        "<a href=\"https://colab.research.google.com/github/HenryZumaeta/MDS_UNI/blob/Zeta/CICLO02/C01_20230403_Lab.ipynb\" target=\"_parent\"><img src=\"https://colab.research.google.com/assets/colab-badge.svg\" alt=\"Open In Colab\"/></a>"
      ]
    },
    {
      "cell_type": "code",
      "execution_count": 2,
      "metadata": {
        "id": "_SO56GDuuZRj"
      },
      "outputs": [],
      "source": [
        "#Se importa el tensorflow\n",
        "import tensorflow as tf\n",
        "import logging\n",
        "tf.get_logger().setLevel(logging.ERROR)\n",
        "#se importa el numpy que ayuda a representar nuestros datos como listas de alto rendimiento.\n",
        "import numpy as np"
      ]
    },
    {
      "cell_type": "markdown",
      "source": [
        "kilogramos = 2.2*lbs"
      ],
      "metadata": {
        "id": "at7byBLS31DO"
      }
    },
    {
      "cell_type": "code",
      "source": [
        "#creamos dos listas KILOGRAMOS y LIBRAS que podemos usar para entrenar nuestro modelo.\n",
        "kilogramos = np.array([0, 15, 23, 35, 43, 60, 72], dtype=float)\n",
        "libras= np.array([0, 33.0693, 50.7063, 77.1618, 94.7988, 132.277, 158.733], dtype=float)\n",
        "\n",
        "for i,c in enumerate (kilogramos):\n",
        "    print(\"{} degrees Kilogramos = {} degrees Libras\".format(c, libras[i]))"
      ],
      "metadata": {
        "colab": {
          "base_uri": "https://localhost:8080/"
        },
        "id": "OaI2yky9usJ5",
        "outputId": "8ea572e5-6f41-4dfa-b9b1-0c7e8fa8d7dc"
      },
      "execution_count": 3,
      "outputs": [
        {
          "output_type": "stream",
          "name": "stdout",
          "text": [
            "0.0 degrees Kilogramos = 0.0 degrees Libras\n",
            "15.0 degrees Kilogramos = 33.0693 degrees Libras\n",
            "23.0 degrees Kilogramos = 50.7063 degrees Libras\n",
            "35.0 degrees Kilogramos = 77.1618 degrees Libras\n",
            "43.0 degrees Kilogramos = 94.7988 degrees Libras\n",
            "60.0 degrees Kilogramos = 132.277 degrees Libras\n",
            "72.0 degrees Kilogramos = 158.733 degrees Libras\n"
          ]
        }
      ]
    },
    {
      "cell_type": "code",
      "source": [
        "#Llamaremos a la capa 10 y la crearemos creando una instancia de tf.keras.layers. Denso con la siguiente configuración:\n",
        "#input_shape = [1]: Esto especifica que la entrada a esta capa es un valor único.\n",
        "#unidades = 1: Especifica el número de neuronas en la capa. El número de neuronas define cuántas variables internas. (En el sgto código la variable es letra l y el # 0)\n",
        "l0 = tf.keras.layers.Dense(units=1, input_shape=[1])"
      ],
      "metadata": {
        "id": "nSlL0bJMwF8P"
      },
      "execution_count": 4,
      "outputs": []
    },
    {
      "cell_type": "code",
      "source": [
        "model = tf.keras.Sequential([l0])"
      ],
      "metadata": {
        "id": "vs-dGR7nwnkH"
      },
      "execution_count": 5,
      "outputs": []
    },
    {
      "cell_type": "code",
      "source": [
        "model = tf.keras.Sequential(tf.keras.layers.Dense(units=1,input_shape=[1]))"
      ],
      "metadata": {
        "id": "usNBbDzAxDq_"
      },
      "execution_count": 6,
      "outputs": []
    },
    {
      "cell_type": "code",
      "source": [
        "#Antes del entrenamiento, se debe compilar el modelo. Cuando se compila para entrenamiento, el modelo obtiene:\n",
        "#Función de pérdida: Una forma de medir qué tan alejadas están las predicciones del resultado deseado. (La diferencia medida se llama \"pérdida\").\n",
        "#Función optimizadora: Una forma de ajustar los valores internos para reducir la pérdida.\n",
        "\n",
        "model.compile(loss='mean_squared_error',optimizer=tf.keras.optimizers.Adam(0.1))"
      ],
      "metadata": {
        "id": "ZGrFVmvkxOxh"
      },
      "execution_count": 7,
      "outputs": []
    },
    {
      "cell_type": "code",
      "source": [
        "history = model.fit(kilogramos, libras, epochs=500, verbose=False)\n",
        "print(\"Terminé de entrenar el modelo.\")"
      ],
      "metadata": {
        "colab": {
          "base_uri": "https://localhost:8080/"
        },
        "id": "VbjMn7RzxhB6",
        "outputId": "cb96976a-1b63-4156-b907-6ee3fb4fc0e2"
      },
      "execution_count": 8,
      "outputs": [
        {
          "output_type": "stream",
          "name": "stdout",
          "text": [
            "Terminé de entrenar el modelo.\n"
          ]
        }
      ]
    },
    {
      "cell_type": "code",
      "source": [
        "#Usaremos Matplotlib para visualizar esto (podrías usar otra herramienta).\n",
        "#Como puede ver, nuestro modelo mejora muy rápidamente al principio y luego tiene una mejora lenta y\n",
        "#constante hasta que es casi \"perfecto\" hacia el final.\n",
        "import matplotlib.pyplot as plt\n",
        "plt.xlabel('Número de época')\n",
        "plt.ylabel(\"Magnitud de la pérdida\")\n",
        "plt.plot(history.history['loss'])\n"
      ],
      "metadata": {
        "colab": {
          "base_uri": "https://localhost:8080/",
          "height": 468
        },
        "id": "n3zUF7Jixq57",
        "outputId": "ed2187f4-7767-4979-ed01-af23bf85f5b4"
      },
      "execution_count": 9,
      "outputs": [
        {
          "output_type": "execute_result",
          "data": {
            "text/plain": [
              "[<matplotlib.lines.Line2D at 0x7e638c223bb0>]"
            ]
          },
          "metadata": {},
          "execution_count": 9
        },
        {
          "output_type": "display_data",
          "data": {
            "text/plain": [
              "<Figure size 640x480 with 1 Axes>"
            ],
            "image/png": "[encoded data removed]"
          },
          "metadata": {}
        }
      ]
    },
    {
      "cell_type": "code",
      "source": [
        "print(model.predict([100.0]))"
      ],
      "metadata": {
        "colab": {
          "base_uri": "https://localhost:8080/"
        },
        "id": "9uQWka03x8SO",
        "outputId": "14625dbf-b3b4-4ee1-8e09-c6d2047ea35a"
      },
      "execution_count": 10,
      "outputs": [
        {
          "output_type": "stream",
          "name": "stdout",
          "text": [
            "1/1 [==============================] - 0s 185ms/step\n",
            "[[218.65924]]\n"
          ]
        }
      ]
    },
    {
      "cell_type": "code",
      "source": [
        "print(\"Estas son las variables de capa: {}\".format(model.get_weights()))"
      ],
      "metadata": {
        "colab": {
          "base_uri": "https://localhost:8080/"
        },
        "id": "rPfhlgr5yGM9",
        "outputId": "c3bff9d2-d668-4200-ac41-e6b25bb99f0e"
      },
      "execution_count": 11,
      "outputs": [
        {
          "output_type": "stream",
          "name": "stdout",
          "text": [
            "Estas son las variables de capa: [array([[2.1682527]], dtype=float32), array([1.833973], dtype=float32)]\n"
          ]
        }
      ]
    },
    {
      "cell_type": "code",
      "source": [
        "model1 = tf.keras.layers.Dense (units=4, input_shape=[1])\n",
        "model2 = tf.keras.layers.Dense (units=4)\n",
        "model3 = tf.keras.layers.Dense (units=1)\n",
        "model = tf.keras.Sequential ([model1, model2, model3])\n",
        "model.compile(loss='mean_squared_error', optimizer=tf.keras.optimizers.Adam(0.1))\n",
        "model.fit(kilogramos, libras, epochs=500, verbose=False)\n",
        "print(\"Terminé de entrenar el modelo:\")\n",
        "print(model.predict([100.0]))\n",
        "print(\"El modelo predice que 100 grados Celsius son: {} grados Fahrenheit\".format(model.predict([100.0])))\n",
        "print(\"Estas son las 10 variables: {}\".format(model1.get_weights()))\n",
        "print(\"Estas son las 11 variables: {}\".format(model2.get_weights()))\n",
        "print(\"Estas son las 12 variables: {}\".format(model3.get_weights()))\n"
      ],
      "metadata": {
        "colab": {
          "base_uri": "https://localhost:8080/"
        },
        "id": "7TokPJvnyaKU",
        "outputId": "597d1f61-90e3-4826-b7da-34fa7f4148d5"
      },
      "execution_count": 12,
      "outputs": [
        {
          "output_type": "stream",
          "name": "stdout",
          "text": [
            "Terminé de entrenar el modelo:\n",
            "1/1 [==============================] - 0s 74ms/step\n",
            "[[220.46217]]\n",
            "1/1 [==============================] - 0s 35ms/step\n",
            "El modelo predice que 100 grados Celsius son: [[220.46217]] grados Fahrenheit\n",
            "Estas son las 10 variables: [array([[ 0.34364322, -0.33744454, -0.2896982 ,  1.3272294 ]],\n",
            "      dtype=float32), array([0.9966005 , 0.925342  , 0.6368602 , 0.08544226], dtype=float32)]\n",
            "Estas son las 11 variables: [array([[ 0.30652672, -0.777805  ,  0.54989725,  0.5400374 ],\n",
            "       [ 0.63580203,  0.22910482,  0.3985485 ,  0.19494554],\n",
            "       [ 0.5735746 , -0.07899779, -0.06780635,  1.3584648 ],\n",
            "       [-1.0711515 ,  0.9337954 , -0.8272139 ,  0.05190906]],\n",
            "      dtype=float32), array([-0.50244653,  0.32426158, -0.54871416, -0.71589965], dtype=float32)]\n",
            "Estas son las 12 variables: [array([[-1.3583270e+00],\n",
            "       [-4.0555812e-02],\n",
            "       [-1.8674659e-04],\n",
            "       [ 3.0991820e-01]], dtype=float32), array([0.6246769], dtype=float32)]\n"
          ]
        }
      ]
    }
  ]
}