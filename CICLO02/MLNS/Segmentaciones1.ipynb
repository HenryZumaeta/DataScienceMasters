{
  "cells": [
    {
      "cell_type": "markdown",
      "metadata": {
        "id": "view-in-github",
        "colab_type": "text"
      },
      "source": [
        "<a href=\"https://colab.research.google.com/github/HenryZumaeta/MDS_UNI/blob/Zeta/CICLO02/MLNS/Segmentaciones1.ipynb\" target=\"_parent\"><img src=\"https://colab.research.google.com/assets/colab-badge.svg\" alt=\"Open In Colab\"/></a>"
      ]
    },
    {
      "cell_type": "markdown",
      "metadata": {
        "id": "-n5XaPyRIYHC"
      },
      "source": [
        "Librerias"
      ]
    },
    {
      "cell_type": "code",
      "execution_count": null,
      "metadata": {
        "id": "KLqLRblLD6GW"
      },
      "outputs": [],
      "source": [
        "import pandas as pd\n",
        "import seaborn as sns\n",
        "import numpy as np\n",
        "import matplotlib.pyplot as plt\n",
        "%matplotlib inline\n",
        "from sklearn.cluster import KMeans #segmentación solo de variables numéricas, particularidad de los modelos de mixturas gausianas\n",
        "from sklearn.preprocessing import StandardScaler     ## Transformar variables\n",
        "from sklearn.decomposition import PCA               ## Componentes principales, agrupamiento de variables\n",
        "from sklearn.mixture import GaussianMixture          ## Elección del número de cluster por BIC y AIC"
      ]
    },
    {
      "cell_type": "code",
      "execution_count": null,
      "metadata": {
        "colab": {
          "base_uri": "https://localhost:8080/",
          "height": 380
        },
        "id": "nRo6ke-5HDfh",
        "outputId": "672bb7a6-ffa0-49f3-d69c-1501c109ba08"
      },
      "outputs": [
        {
          "data": {
            "text/html": [
              "<div>\n",
              "<style scoped>\n",
              "    .dataframe tbody tr th:only-of-type {\n",
              "        vertical-align: middle;\n",
              "    }\n",
              "\n",
              "    .dataframe tbody tr th {\n",
              "        vertical-align: top;\n",
              "    }\n",
              "\n",
              "    .dataframe thead th {\n",
              "        text-align: right;\n",
              "    }\n",
              "</style>\n",
              "<table border=\"1\" class=\"dataframe\">\n",
              "  <thead>\n",
              "    <tr style=\"text-align: right;\">\n",
              "      <th></th>\n",
              "      <th>CodPais</th>\n",
              "      <th>PKEbelista</th>\n",
              "      <th>CodEbelista</th>\n",
              "      <th>PUP_Lbel</th>\n",
              "      <th>PUP_Esika</th>\n",
              "      <th>PUP_Cyzone</th>\n",
              "      <th>PUP_CP</th>\n",
              "      <th>PUP_FG</th>\n",
              "      <th>PUP_MQ</th>\n",
              "      <th>PUP_TC</th>\n",
              "      <th>PUP_TF</th>\n",
              "      <th>PPU_Lbel</th>\n",
              "      <th>PPU_Esika</th>\n",
              "      <th>PPU_Cyzone</th>\n",
              "      <th>PPU_CP</th>\n",
              "      <th>PPU_FG</th>\n",
              "      <th>PPU_MQ</th>\n",
              "      <th>PPU_TC</th>\n",
              "      <th>PPU_TF</th>\n",
              "      <th>Perfil</th>\n",
              "    </tr>\n",
              "  </thead>\n",
              "  <tbody>\n",
              "    <tr>\n",
              "      <th>0</th>\n",
              "      <td>CL</td>\n",
              "      <td>677351</td>\n",
              "      <td>723124</td>\n",
              "      <td>3.0</td>\n",
              "      <td>10.0</td>\n",
              "      <td>1.0</td>\n",
              "      <td>0.0</td>\n",
              "      <td>0.0</td>\n",
              "      <td>69.0</td>\n",
              "      <td>0.0</td>\n",
              "      <td>0.0</td>\n",
              "      <td>4.8403</td>\n",
              "      <td>2.7058</td>\n",
              "      <td>3.5798</td>\n",
              "      <td>0.0000</td>\n",
              "      <td>0.0000</td>\n",
              "      <td>3.2538</td>\n",
              "      <td>0.000</td>\n",
              "      <td>0.0000</td>\n",
              "      <td>2</td>\n",
              "    </tr>\n",
              "    <tr>\n",
              "      <th>1</th>\n",
              "      <td>CL</td>\n",
              "      <td>677175</td>\n",
              "      <td>722921</td>\n",
              "      <td>1.0</td>\n",
              "      <td>4.0</td>\n",
              "      <td>3.0</td>\n",
              "      <td>1.0</td>\n",
              "      <td>5.0</td>\n",
              "      <td>24.0</td>\n",
              "      <td>6.0</td>\n",
              "      <td>0.0</td>\n",
              "      <td>2.9011</td>\n",
              "      <td>5.2601</td>\n",
              "      <td>4.5171</td>\n",
              "      <td>5.3251</td>\n",
              "      <td>10.3686</td>\n",
              "      <td>3.2237</td>\n",
              "      <td>5.519</td>\n",
              "      <td>0.0000</td>\n",
              "      <td>6</td>\n",
              "    </tr>\n",
              "    <tr>\n",
              "      <th>2</th>\n",
              "      <td>CL</td>\n",
              "      <td>677174</td>\n",
              "      <td>722920</td>\n",
              "      <td>1.0</td>\n",
              "      <td>9.0</td>\n",
              "      <td>3.0</td>\n",
              "      <td>0.0</td>\n",
              "      <td>12.0</td>\n",
              "      <td>60.0</td>\n",
              "      <td>0.0</td>\n",
              "      <td>0.0</td>\n",
              "      <td>8.5910</td>\n",
              "      <td>3.4853</td>\n",
              "      <td>4.2457</td>\n",
              "      <td>0.0000</td>\n",
              "      <td>7.6907</td>\n",
              "      <td>3.4250</td>\n",
              "      <td>0.000</td>\n",
              "      <td>0.0000</td>\n",
              "      <td>2</td>\n",
              "    </tr>\n",
              "    <tr>\n",
              "      <th>3</th>\n",
              "      <td>CL</td>\n",
              "      <td>677171</td>\n",
              "      <td>722917</td>\n",
              "      <td>0.0</td>\n",
              "      <td>4.0</td>\n",
              "      <td>6.0</td>\n",
              "      <td>1.0</td>\n",
              "      <td>0.0</td>\n",
              "      <td>38.0</td>\n",
              "      <td>0.0</td>\n",
              "      <td>11.0</td>\n",
              "      <td>0.0000</td>\n",
              "      <td>4.3501</td>\n",
              "      <td>3.4844</td>\n",
              "      <td>3.3859</td>\n",
              "      <td>0.0000</td>\n",
              "      <td>3.5530</td>\n",
              "      <td>0.000</td>\n",
              "      <td>4.7879</td>\n",
              "      <td>6</td>\n",
              "    </tr>\n",
              "    <tr>\n",
              "      <th>4</th>\n",
              "      <td>CL</td>\n",
              "      <td>677170</td>\n",
              "      <td>722916</td>\n",
              "      <td>0.0</td>\n",
              "      <td>6.0</td>\n",
              "      <td>6.0</td>\n",
              "      <td>0.0</td>\n",
              "      <td>10.0</td>\n",
              "      <td>48.0</td>\n",
              "      <td>0.0</td>\n",
              "      <td>0.0</td>\n",
              "      <td>0.0000</td>\n",
              "      <td>5.9053</td>\n",
              "      <td>4.2006</td>\n",
              "      <td>0.0000</td>\n",
              "      <td>8.9080</td>\n",
              "      <td>4.1949</td>\n",
              "      <td>0.000</td>\n",
              "      <td>0.0000</td>\n",
              "      <td>6</td>\n",
              "    </tr>\n",
              "  </tbody>\n",
              "</table>\n",
              "</div>"
            ],
            "text/plain": [
              "  CodPais  PKEbelista  CodEbelista  PUP_Lbel  PUP_Esika  PUP_Cyzone  PUP_CP  \\\n",
              "0      CL      677351       723124       3.0       10.0         1.0     0.0   \n",
              "1      CL      677175       722921       1.0        4.0         3.0     1.0   \n",
              "2      CL      677174       722920       1.0        9.0         3.0     0.0   \n",
              "3      CL      677171       722917       0.0        4.0         6.0     1.0   \n",
              "4      CL      677170       722916       0.0        6.0         6.0     0.0   \n",
              "\n",
              "   PUP_FG  PUP_MQ  PUP_TC  PUP_TF  PPU_Lbel  PPU_Esika  PPU_Cyzone  PPU_CP  \\\n",
              "0     0.0    69.0     0.0     0.0    4.8403     2.7058      3.5798  0.0000   \n",
              "1     5.0    24.0     6.0     0.0    2.9011     5.2601      4.5171  5.3251   \n",
              "2    12.0    60.0     0.0     0.0    8.5910     3.4853      4.2457  0.0000   \n",
              "3     0.0    38.0     0.0    11.0    0.0000     4.3501      3.4844  3.3859   \n",
              "4    10.0    48.0     0.0     0.0    0.0000     5.9053      4.2006  0.0000   \n",
              "\n",
              "    PPU_FG  PPU_MQ  PPU_TC  PPU_TF  Perfil  \n",
              "0   0.0000  3.2538   0.000  0.0000       2  \n",
              "1  10.3686  3.2237   5.519  0.0000       6  \n",
              "2   7.6907  3.4250   0.000  0.0000       2  \n",
              "3   0.0000  3.5530   0.000  4.7879       6  \n",
              "4   8.9080  4.1949   0.000  0.0000       6  "
            ]
          },
          "execution_count": 2,
          "metadata": {},
          "output_type": "execute_result"
        }
      ],
      "source": [
        "camp12 = pd.read_excel('data cluster países.xlsx') ## Importar Data\n",
        "camp12.head()"
      ]
    },
    {
      "cell_type": "code",
      "execution_count": null,
      "metadata": {
        "colab": {
          "base_uri": "https://localhost:8080/"
        },
        "id": "fPKbY-zbHQNU",
        "outputId": "9c93c436-b41d-4412-aa7f-6661a41fbbed",
        "scrolled": false
      },
      "outputs": [
        {
          "name": "stdout",
          "output_type": "stream",
          "text": [
            "<class 'pandas.core.frame.DataFrame'>\n",
            "RangeIndex: 511269 entries, 0 to 511268\n",
            "Data columns (total 20 columns):\n",
            " #   Column       Non-Null Count   Dtype  \n",
            "---  ------       --------------   -----  \n",
            " 0   CodPais      511269 non-null  object \n",
            " 1   PKEbelista   511269 non-null  int64  \n",
            " 2   CodEbelista  511269 non-null  int64  \n",
            " 3   PUP_Lbel     511269 non-null  float64\n",
            " 4   PUP_Esika    511269 non-null  float64\n",
            " 5   PUP_Cyzone   511269 non-null  float64\n",
            " 6   PUP_CP       511269 non-null  float64\n",
            " 7   PUP_FG       511269 non-null  float64\n",
            " 8   PUP_MQ       511269 non-null  float64\n",
            " 9   PUP_TC       511269 non-null  float64\n",
            " 10  PUP_TF       511269 non-null  float64\n",
            " 11  PPU_Lbel     511269 non-null  float64\n",
            " 12  PPU_Esika    511269 non-null  float64\n",
            " 13  PPU_Cyzone   511269 non-null  float64\n",
            " 14  PPU_CP       511269 non-null  float64\n",
            " 15  PPU_FG       511269 non-null  float64\n",
            " 16  PPU_MQ       511269 non-null  float64\n",
            " 17  PPU_TC       511269 non-null  float64\n",
            " 18  PPU_TF       511269 non-null  float64\n",
            " 19  Perfil       511269 non-null  int64  \n",
            "dtypes: float64(16), int64(3), object(1)\n",
            "memory usage: 78.0+ MB\n"
          ]
        }
      ],
      "source": [
        "camp12.info()  ## Información de la data"
      ]
    },
    {
      "cell_type": "markdown",
      "metadata": {
        "id": "XwbPMF8pAZ0Z"
      },
      "source": [
        "**CHILE**"
      ]
    },
    {
      "cell_type": "code",
      "execution_count": null,
      "metadata": {
        "colab": {
          "base_uri": "https://localhost:8080/",
          "height": 224
        },
        "id": "wG524X9tIgJH",
        "outputId": "c6a664c1-0ea7-4106-da62-2456a85c5a71"
      },
      "outputs": [
        {
          "data": {
            "text/html": [
              "<div>\n",
              "<style scoped>\n",
              "    .dataframe tbody tr th:only-of-type {\n",
              "        vertical-align: middle;\n",
              "    }\n",
              "\n",
              "    .dataframe tbody tr th {\n",
              "        vertical-align: top;\n",
              "    }\n",
              "\n",
              "    .dataframe thead th {\n",
              "        text-align: right;\n",
              "    }\n",
              "</style>\n",
              "<table border=\"1\" class=\"dataframe\">\n",
              "  <thead>\n",
              "    <tr style=\"text-align: right;\">\n",
              "      <th></th>\n",
              "      <th>CodPais</th>\n",
              "      <th>PKEbelista</th>\n",
              "      <th>CodEbelista</th>\n",
              "      <th>PUP_Lbel</th>\n",
              "      <th>PUP_Esika</th>\n",
              "      <th>PUP_Cyzone</th>\n",
              "      <th>PUP_CP</th>\n",
              "      <th>PUP_FG</th>\n",
              "      <th>PUP_MQ</th>\n",
              "      <th>PUP_TC</th>\n",
              "      <th>PUP_TF</th>\n",
              "      <th>PPU_Lbel</th>\n",
              "      <th>PPU_Esika</th>\n",
              "      <th>PPU_Cyzone</th>\n",
              "      <th>PPU_CP</th>\n",
              "      <th>PPU_FG</th>\n",
              "      <th>PPU_MQ</th>\n",
              "      <th>PPU_TC</th>\n",
              "      <th>PPU_TF</th>\n",
              "      <th>Perfil</th>\n",
              "    </tr>\n",
              "  </thead>\n",
              "  <tbody>\n",
              "    <tr>\n",
              "      <th>0</th>\n",
              "      <td>CL</td>\n",
              "      <td>677351</td>\n",
              "      <td>723124</td>\n",
              "      <td>3.0</td>\n",
              "      <td>10.0</td>\n",
              "      <td>1.0</td>\n",
              "      <td>0.0</td>\n",
              "      <td>0.0</td>\n",
              "      <td>69.0</td>\n",
              "      <td>0.0</td>\n",
              "      <td>0.0</td>\n",
              "      <td>4.8403</td>\n",
              "      <td>2.7058</td>\n",
              "      <td>3.5798</td>\n",
              "      <td>0.0000</td>\n",
              "      <td>0.0000</td>\n",
              "      <td>3.2538</td>\n",
              "      <td>0.000</td>\n",
              "      <td>0.0000</td>\n",
              "      <td>2</td>\n",
              "    </tr>\n",
              "    <tr>\n",
              "      <th>1</th>\n",
              "      <td>CL</td>\n",
              "      <td>677175</td>\n",
              "      <td>722921</td>\n",
              "      <td>1.0</td>\n",
              "      <td>4.0</td>\n",
              "      <td>3.0</td>\n",
              "      <td>1.0</td>\n",
              "      <td>5.0</td>\n",
              "      <td>24.0</td>\n",
              "      <td>6.0</td>\n",
              "      <td>0.0</td>\n",
              "      <td>2.9011</td>\n",
              "      <td>5.2601</td>\n",
              "      <td>4.5171</td>\n",
              "      <td>5.3251</td>\n",
              "      <td>10.3686</td>\n",
              "      <td>3.2237</td>\n",
              "      <td>5.519</td>\n",
              "      <td>0.0000</td>\n",
              "      <td>6</td>\n",
              "    </tr>\n",
              "    <tr>\n",
              "      <th>2</th>\n",
              "      <td>CL</td>\n",
              "      <td>677174</td>\n",
              "      <td>722920</td>\n",
              "      <td>1.0</td>\n",
              "      <td>9.0</td>\n",
              "      <td>3.0</td>\n",
              "      <td>0.0</td>\n",
              "      <td>12.0</td>\n",
              "      <td>60.0</td>\n",
              "      <td>0.0</td>\n",
              "      <td>0.0</td>\n",
              "      <td>8.5910</td>\n",
              "      <td>3.4853</td>\n",
              "      <td>4.2457</td>\n",
              "      <td>0.0000</td>\n",
              "      <td>7.6907</td>\n",
              "      <td>3.4250</td>\n",
              "      <td>0.000</td>\n",
              "      <td>0.0000</td>\n",
              "      <td>2</td>\n",
              "    </tr>\n",
              "    <tr>\n",
              "      <th>3</th>\n",
              "      <td>CL</td>\n",
              "      <td>677171</td>\n",
              "      <td>722917</td>\n",
              "      <td>0.0</td>\n",
              "      <td>4.0</td>\n",
              "      <td>6.0</td>\n",
              "      <td>1.0</td>\n",
              "      <td>0.0</td>\n",
              "      <td>38.0</td>\n",
              "      <td>0.0</td>\n",
              "      <td>11.0</td>\n",
              "      <td>0.0000</td>\n",
              "      <td>4.3501</td>\n",
              "      <td>3.4844</td>\n",
              "      <td>3.3859</td>\n",
              "      <td>0.0000</td>\n",
              "      <td>3.5530</td>\n",
              "      <td>0.000</td>\n",
              "      <td>4.7879</td>\n",
              "      <td>6</td>\n",
              "    </tr>\n",
              "    <tr>\n",
              "      <th>4</th>\n",
              "      <td>CL</td>\n",
              "      <td>677170</td>\n",
              "      <td>722916</td>\n",
              "      <td>0.0</td>\n",
              "      <td>6.0</td>\n",
              "      <td>6.0</td>\n",
              "      <td>0.0</td>\n",
              "      <td>10.0</td>\n",
              "      <td>48.0</td>\n",
              "      <td>0.0</td>\n",
              "      <td>0.0</td>\n",
              "      <td>0.0000</td>\n",
              "      <td>5.9053</td>\n",
              "      <td>4.2006</td>\n",
              "      <td>0.0000</td>\n",
              "      <td>8.9080</td>\n",
              "      <td>4.1949</td>\n",
              "      <td>0.000</td>\n",
              "      <td>0.0000</td>\n",
              "      <td>6</td>\n",
              "    </tr>\n",
              "  </tbody>\n",
              "</table>\n",
              "</div>"
            ],
            "text/plain": [
              "  CodPais  PKEbelista  CodEbelista  PUP_Lbel  PUP_Esika  PUP_Cyzone  PUP_CP  \\\n",
              "0      CL      677351       723124       3.0       10.0         1.0     0.0   \n",
              "1      CL      677175       722921       1.0        4.0         3.0     1.0   \n",
              "2      CL      677174       722920       1.0        9.0         3.0     0.0   \n",
              "3      CL      677171       722917       0.0        4.0         6.0     1.0   \n",
              "4      CL      677170       722916       0.0        6.0         6.0     0.0   \n",
              "\n",
              "   PUP_FG  PUP_MQ  PUP_TC  PUP_TF  PPU_Lbel  PPU_Esika  PPU_Cyzone  PPU_CP  \\\n",
              "0     0.0    69.0     0.0     0.0    4.8403     2.7058      3.5798  0.0000   \n",
              "1     5.0    24.0     6.0     0.0    2.9011     5.2601      4.5171  5.3251   \n",
              "2    12.0    60.0     0.0     0.0    8.5910     3.4853      4.2457  0.0000   \n",
              "3     0.0    38.0     0.0    11.0    0.0000     4.3501      3.4844  3.3859   \n",
              "4    10.0    48.0     0.0     0.0    0.0000     5.9053      4.2006  0.0000   \n",
              "\n",
              "    PPU_FG  PPU_MQ  PPU_TC  PPU_TF  Perfil  \n",
              "0   0.0000  3.2538   0.000  0.0000       2  \n",
              "1  10.3686  3.2237   5.519  0.0000       6  \n",
              "2   7.6907  3.4250   0.000  0.0000       2  \n",
              "3   0.0000  3.5530   0.000  4.7879       6  \n",
              "4   8.9080  4.1949   0.000  0.0000       6  "
            ]
          },
          "execution_count": 4,
          "metadata": {},
          "output_type": "execute_result"
        }
      ],
      "source": [
        "chile=pd.DataFrame(camp12[camp12['CodPais']=='CL']) ## Seleccionamos el país de Chile\n",
        "chile.head()"
      ]
    },
    {
      "cell_type": "code",
      "execution_count": null,
      "metadata": {
        "id": "ATSzhl5MIpkL"
      },
      "outputs": [],
      "source": [
        "## Se eliminan las variables que no ingresan al cluster\n",
        "chile.drop(['PKEbelista','CodEbelista','PPU_Lbel','PPU_Esika','PPU_Cyzone','PPU_CP','PPU_FG','PPU_MQ','PPU_TC'\n",
        "                 ,'PPU_TF','Perfil'],axis=1,inplace=True)\n"
      ]
    },
    {
      "cell_type": "code",
      "execution_count": null,
      "metadata": {
        "colab": {
          "base_uri": "https://localhost:8080/"
        },
        "id": "ZUovjdfvIuYg",
        "outputId": "6051b5d5-53b2-4934-bc9d-6992e2f33a2c",
        "scrolled": false
      },
      "outputs": [
        {
          "name": "stdout",
          "output_type": "stream",
          "text": [
            "<class 'pandas.core.frame.DataFrame'>\n",
            "Index: 80184 entries, 0 to 80183\n",
            "Data columns (total 9 columns):\n",
            " #   Column      Non-Null Count  Dtype  \n",
            "---  ------      --------------  -----  \n",
            " 0   CodPais     80184 non-null  object \n",
            " 1   PUP_Lbel    80184 non-null  float64\n",
            " 2   PUP_Esika   80184 non-null  float64\n",
            " 3   PUP_Cyzone  80184 non-null  float64\n",
            " 4   PUP_CP      80184 non-null  float64\n",
            " 5   PUP_FG      80184 non-null  float64\n",
            " 6   PUP_MQ      80184 non-null  float64\n",
            " 7   PUP_TC      80184 non-null  float64\n",
            " 8   PUP_TF      80184 non-null  float64\n",
            "dtypes: float64(8), object(1)\n",
            "memory usage: 6.1+ MB\n"
          ]
        }
      ],
      "source": [
        "chile.info()"
      ]
    },
    {
      "cell_type": "code",
      "execution_count": null,
      "metadata": {
        "colab": {
          "base_uri": "https://localhost:8080/",
          "height": 204
        },
        "id": "hn87JQ7wIw_C",
        "outputId": "6fb18b22-456d-4da4-d2f6-fc08bdb397ea",
        "scrolled": true
      },
      "outputs": [
        {
          "data": {
            "text/html": [
              "<div>\n",
              "<style scoped>\n",
              "    .dataframe tbody tr th:only-of-type {\n",
              "        vertical-align: middle;\n",
              "    }\n",
              "\n",
              "    .dataframe tbody tr th {\n",
              "        vertical-align: top;\n",
              "    }\n",
              "\n",
              "    .dataframe thead th {\n",
              "        text-align: right;\n",
              "    }\n",
              "</style>\n",
              "<table border=\"1\" class=\"dataframe\">\n",
              "  <thead>\n",
              "    <tr style=\"text-align: right;\">\n",
              "      <th></th>\n",
              "      <th>CodPais</th>\n",
              "      <th>PUP_Lbel</th>\n",
              "      <th>PUP_Esika</th>\n",
              "      <th>PUP_Cyzone</th>\n",
              "      <th>PUP_CP</th>\n",
              "      <th>PUP_FG</th>\n",
              "      <th>PUP_MQ</th>\n",
              "      <th>PUP_TC</th>\n",
              "      <th>PUP_TF</th>\n",
              "    </tr>\n",
              "  </thead>\n",
              "  <tbody>\n",
              "    <tr>\n",
              "      <th>0</th>\n",
              "      <td>CL</td>\n",
              "      <td>3.0</td>\n",
              "      <td>10.0</td>\n",
              "      <td>1.0</td>\n",
              "      <td>0.0</td>\n",
              "      <td>0.0</td>\n",
              "      <td>69.0</td>\n",
              "      <td>0.0</td>\n",
              "      <td>0.0</td>\n",
              "    </tr>\n",
              "    <tr>\n",
              "      <th>1</th>\n",
              "      <td>CL</td>\n",
              "      <td>1.0</td>\n",
              "      <td>4.0</td>\n",
              "      <td>3.0</td>\n",
              "      <td>1.0</td>\n",
              "      <td>5.0</td>\n",
              "      <td>24.0</td>\n",
              "      <td>6.0</td>\n",
              "      <td>0.0</td>\n",
              "    </tr>\n",
              "    <tr>\n",
              "      <th>2</th>\n",
              "      <td>CL</td>\n",
              "      <td>1.0</td>\n",
              "      <td>9.0</td>\n",
              "      <td>3.0</td>\n",
              "      <td>0.0</td>\n",
              "      <td>12.0</td>\n",
              "      <td>60.0</td>\n",
              "      <td>0.0</td>\n",
              "      <td>0.0</td>\n",
              "    </tr>\n",
              "    <tr>\n",
              "      <th>3</th>\n",
              "      <td>CL</td>\n",
              "      <td>0.0</td>\n",
              "      <td>4.0</td>\n",
              "      <td>6.0</td>\n",
              "      <td>1.0</td>\n",
              "      <td>0.0</td>\n",
              "      <td>38.0</td>\n",
              "      <td>0.0</td>\n",
              "      <td>11.0</td>\n",
              "    </tr>\n",
              "    <tr>\n",
              "      <th>4</th>\n",
              "      <td>CL</td>\n",
              "      <td>0.0</td>\n",
              "      <td>6.0</td>\n",
              "      <td>6.0</td>\n",
              "      <td>0.0</td>\n",
              "      <td>10.0</td>\n",
              "      <td>48.0</td>\n",
              "      <td>0.0</td>\n",
              "      <td>0.0</td>\n",
              "    </tr>\n",
              "  </tbody>\n",
              "</table>\n",
              "</div>"
            ],
            "text/plain": [
              "  CodPais  PUP_Lbel  PUP_Esika  PUP_Cyzone  PUP_CP  PUP_FG  PUP_MQ  PUP_TC  \\\n",
              "0      CL       3.0       10.0         1.0     0.0     0.0    69.0     0.0   \n",
              "1      CL       1.0        4.0         3.0     1.0     5.0    24.0     6.0   \n",
              "2      CL       1.0        9.0         3.0     0.0    12.0    60.0     0.0   \n",
              "3      CL       0.0        4.0         6.0     1.0     0.0    38.0     0.0   \n",
              "4      CL       0.0        6.0         6.0     0.0    10.0    48.0     0.0   \n",
              "\n",
              "   PUP_TF  \n",
              "0     0.0  \n",
              "1     0.0  \n",
              "2     0.0  \n",
              "3    11.0  \n",
              "4     0.0  "
            ]
          },
          "execution_count": 7,
          "metadata": {},
          "output_type": "execute_result"
        }
      ],
      "source": [
        "chile.head()"
      ]
    },
    {
      "cell_type": "markdown",
      "metadata": {
        "id": "7iXDOlorJfCc"
      },
      "source": [
        "**Punto 1)**\n",
        "- 5means Chile"
      ]
    },
    {
      "cell_type": "code",
      "execution_count": null,
      "metadata": {
        "colab": {
          "base_uri": "https://localhost:8080/"
        },
        "id": "YduZ64llJoB4",
        "outputId": "9182691c-ce12-4139-dd7d-c4ae7df7e5fc"
      },
      "outputs": [
        {
          "data": {
            "text/plain": [
              "(80184, 8)"
            ]
          },
          "execution_count": 8,
          "metadata": {},
          "output_type": "execute_result"
        }
      ],
      "source": [
        "## generamos un array con las variables\n",
        "X = np.array(chile[[\"PUP_Lbel\",\"PUP_Esika\",\"PUP_Cyzone\",\"PUP_CP\",\"PUP_FG\",\"PUP_MQ\",\"PUP_TC\",\"PUP_TF\"]])\n",
        "X.shape"
      ]
    },
    {
      "cell_type": "code",
      "execution_count": null,
      "metadata": {
        "id": "Hlb7oIAkJsAH"
      },
      "outputs": [],
      "source": [
        "## generamos el algoritmo de cluster\n",
        "kmeans = KMeans(n_clusters=5)"
      ]
    },
    {
      "cell_type": "code",
      "execution_count": null,
      "metadata": {
        "colab": {
          "base_uri": "https://localhost:8080/"
        },
        "id": "vaDoYm3ZMxeH",
        "outputId": "be2712e3-4b72-4219-a580-7804bc837034",
        "scrolled": false
      },
      "outputs": [
        {
          "name": "stderr",
          "output_type": "stream",
          "text": [
            "C:\\Users\\avaldiviac\\AppData\\Local\\anaconda3\\Lib\\site-packages\\sklearn\\cluster\\_kmeans.py:1412: FutureWarning: The default value of `n_init` will change from 10 to 'auto' in 1.4. Set the value of `n_init` explicitly to suppress the warning\n",
            "  super()._check_params_vs_input(X, default_n_init=10)\n"
          ]
        },
        {
          "data": {
            "text/html": [
              "<style>#sk-container-id-1 {color: black;}#sk-container-id-1 pre{padding: 0;}#sk-container-id-1 div.sk-toggleable {background-color: white;}#sk-container-id-1 label.sk-toggleable__label {cursor: pointer;display: block;width: 100%;margin-bottom: 0;padding: 0.3em;box-sizing: border-box;text-align: center;}#sk-container-id-1 label.sk-toggleable__label-arrow:before {content: \"▸\";float: left;margin-right: 0.25em;color: #696969;}#sk-container-id-1 label.sk-toggleable__label-arrow:hover:before {color: black;}#sk-container-id-1 div.sk-estimator:hover label.sk-toggleable__label-arrow:before {color: black;}#sk-container-id-1 div.sk-toggleable__content {max-height: 0;max-width: 0;overflow: hidden;text-align: left;background-color: #f0f8ff;}#sk-container-id-1 div.sk-toggleable__content pre {margin: 0.2em;color: black;border-radius: 0.25em;background-color: #f0f8ff;}#sk-container-id-1 input.sk-toggleable__control:checked~div.sk-toggleable__content {max-height: 200px;max-width: 100%;overflow: auto;}#sk-container-id-1 input.sk-toggleable__control:checked~label.sk-toggleable__label-arrow:before {content: \"▾\";}#sk-container-id-1 div.sk-estimator input.sk-toggleable__control:checked~label.sk-toggleable__label {background-color: #d4ebff;}#sk-container-id-1 div.sk-label input.sk-toggleable__control:checked~label.sk-toggleable__label {background-color: #d4ebff;}#sk-container-id-1 input.sk-hidden--visually {border: 0;clip: rect(1px 1px 1px 1px);clip: rect(1px, 1px, 1px, 1px);height: 1px;margin: -1px;overflow: hidden;padding: 0;position: absolute;width: 1px;}#sk-container-id-1 div.sk-estimator {font-family: monospace;background-color: #f0f8ff;border: 1px dotted black;border-radius: 0.25em;box-sizing: border-box;margin-bottom: 0.5em;}#sk-container-id-1 div.sk-estimator:hover {background-color: #d4ebff;}#sk-container-id-1 div.sk-parallel-item::after {content: \"\";width: 100%;border-bottom: 1px solid gray;flex-grow: 1;}#sk-container-id-1 div.sk-label:hover label.sk-toggleable__label {background-color: #d4ebff;}#sk-container-id-1 div.sk-serial::before {content: \"\";position: absolute;border-left: 1px solid gray;box-sizing: border-box;top: 0;bottom: 0;left: 50%;z-index: 0;}#sk-container-id-1 div.sk-serial {display: flex;flex-direction: column;align-items: center;background-color: white;padding-right: 0.2em;padding-left: 0.2em;position: relative;}#sk-container-id-1 div.sk-item {position: relative;z-index: 1;}#sk-container-id-1 div.sk-parallel {display: flex;align-items: stretch;justify-content: center;background-color: white;position: relative;}#sk-container-id-1 div.sk-item::before, #sk-container-id-1 div.sk-parallel-item::before {content: \"\";position: absolute;border-left: 1px solid gray;box-sizing: border-box;top: 0;bottom: 0;left: 50%;z-index: -1;}#sk-container-id-1 div.sk-parallel-item {display: flex;flex-direction: column;z-index: 1;position: relative;background-color: white;}#sk-container-id-1 div.sk-parallel-item:first-child::after {align-self: flex-end;width: 50%;}#sk-container-id-1 div.sk-parallel-item:last-child::after {align-self: flex-start;width: 50%;}#sk-container-id-1 div.sk-parallel-item:only-child::after {width: 0;}#sk-container-id-1 div.sk-dashed-wrapped {border: 1px dashed gray;margin: 0 0.4em 0.5em 0.4em;box-sizing: border-box;padding-bottom: 0.4em;background-color: white;}#sk-container-id-1 div.sk-label label {font-family: monospace;font-weight: bold;display: inline-block;line-height: 1.2em;}#sk-container-id-1 div.sk-label-container {text-align: center;}#sk-container-id-1 div.sk-container {/* jupyter's `normalize.less` sets `[hidden] { display: none; }` but bootstrap.min.css set `[hidden] { display: none !important; }` so we also need the `!important` here to be able to override the default hidden behavior on the sphinx rendered scikit-learn.org. See: https://github.com/scikit-learn/scikit-learn/issues/21755 */display: inline-block !important;position: relative;}#sk-container-id-1 div.sk-text-repr-fallback {display: none;}</style><div id=\"sk-container-id-1\" class=\"sk-top-container\"><div class=\"sk-text-repr-fallback\"><pre>KMeans(n_clusters=5)</pre><b>In a Jupyter environment, please rerun this cell to show the HTML representation or trust the notebook. <br />On GitHub, the HTML representation is unable to render, please try loading this page with nbviewer.org.</b></div><div class=\"sk-container\" hidden><div class=\"sk-item\"><div class=\"sk-estimator sk-toggleable\"><input class=\"sk-toggleable__control sk-hidden--visually\" id=\"sk-estimator-id-1\" type=\"checkbox\" checked><label for=\"sk-estimator-id-1\" class=\"sk-toggleable__label sk-toggleable__label-arrow\">KMeans</label><div class=\"sk-toggleable__content\"><pre>KMeans(n_clusters=5)</pre></div></div></div></div></div>"
            ],
            "text/plain": [
              "KMeans(n_clusters=5)"
            ]
          },
          "execution_count": 10,
          "metadata": {},
          "output_type": "execute_result"
        }
      ],
      "source": [
        "## ingresamos el array al algoritmo\n",
        "kmeans.fit(X)"
      ]
    },
    {
      "cell_type": "markdown",
      "metadata": {
        "id": "gto_JmbbR7tT"
      },
      "source": [
        "Centroides"
      ]
    },
    {
      "cell_type": "code",
      "execution_count": null,
      "metadata": {
        "colab": {
          "base_uri": "https://localhost:8080/"
        },
        "id": "9Y7Ec8AsM4cC",
        "outputId": "12fa1aad-7b9c-4087-a2d0-d3ed347ffbe4"
      },
      "outputs": [
        {
          "data": {
            "text/plain": [
              "array([[  2.75681736,  15.95199467,   6.70083385,  14.43966304,\n",
              "         29.69473693,  80.84887753,   7.98184721,  10.53240875],\n",
              "       [  1.57745242,   6.20544904,   2.98685267,   9.87375805,\n",
              "         18.81971697,  21.6057103 ,   5.20747188,   6.39253506],\n",
              "       [  1.89069428,   9.24762924,   4.38054453,  10.75164208,\n",
              "         18.22979288,  46.11125222,   6.06373351,   7.96685374],\n",
              "       [  6.20018917,  39.52907229,  13.09229584,  29.48725945,\n",
              "         77.63146524, 178.71851411,  14.44175063,  20.43872796],\n",
              "       [ 30.21793846, 183.5641    ,  53.28460769,  96.07436154,\n",
              "        262.58975385, 949.06411538,  53.36025385,  73.24486923]])"
            ]
          },
          "execution_count": 11,
          "metadata": {},
          "output_type": "execute_result"
        }
      ],
      "source": [
        "## centroides del cluster: son los promedio de las observaciones en cada cluster por cada variable\n",
        "kmeans.cluster_centers_"
      ]
    },
    {
      "cell_type": "code",
      "execution_count": null,
      "metadata": {
        "colab": {
          "base_uri": "https://localhost:8080/"
        },
        "id": "j9-vLwKQM99I",
        "outputId": "cfcea7b8-c8cf-411a-deda-00d38ef28424"
      },
      "outputs": [
        {
          "data": {
            "text/plain": [
              "array([2, 1, 2, ..., 1, 2, 1])"
            ]
          },
          "execution_count": 12,
          "metadata": {},
          "output_type": "execute_result"
        }
      ],
      "source": [
        "## Etiquetas de cada observación, esto se logra con los centroides\n",
        "kmeans.labels_"
      ]
    },
    {
      "cell_type": "code",
      "execution_count": null,
      "metadata": {
        "id": "c2CQ2Yg7L9bY",
        "outputId": "3f203dc1-e9a3-4f38-cbab-7eb70d2f1504"
      },
      "outputs": [
        {
          "data": {
            "text/html": [
              "<div>\n",
              "<style scoped>\n",
              "    .dataframe tbody tr th:only-of-type {\n",
              "        vertical-align: middle;\n",
              "    }\n",
              "\n",
              "    .dataframe tbody tr th {\n",
              "        vertical-align: top;\n",
              "    }\n",
              "\n",
              "    .dataframe thead th {\n",
              "        text-align: right;\n",
              "    }\n",
              "</style>\n",
              "<table border=\"1\" class=\"dataframe\">\n",
              "  <thead>\n",
              "    <tr style=\"text-align: right;\">\n",
              "      <th></th>\n",
              "      <th>PUP_Lbel</th>\n",
              "      <th>PUP_Esika</th>\n",
              "      <th>PUP_Cyzone</th>\n",
              "      <th>PUP_CP</th>\n",
              "      <th>PUP_FG</th>\n",
              "      <th>PUP_MQ</th>\n",
              "      <th>PUP_TC</th>\n",
              "      <th>PUP_TF</th>\n",
              "    </tr>\n",
              "  </thead>\n",
              "  <tbody>\n",
              "    <tr>\n",
              "      <th>0</th>\n",
              "      <td>3.0000</td>\n",
              "      <td>10.0000</td>\n",
              "      <td>1.0000</td>\n",
              "      <td>0.0000</td>\n",
              "      <td>0.0000</td>\n",
              "      <td>69.0000</td>\n",
              "      <td>0.0</td>\n",
              "      <td>0.0000</td>\n",
              "    </tr>\n",
              "    <tr>\n",
              "      <th>1</th>\n",
              "      <td>1.0000</td>\n",
              "      <td>4.0000</td>\n",
              "      <td>3.0000</td>\n",
              "      <td>1.0000</td>\n",
              "      <td>5.0000</td>\n",
              "      <td>24.0000</td>\n",
              "      <td>6.0</td>\n",
              "      <td>0.0000</td>\n",
              "    </tr>\n",
              "    <tr>\n",
              "      <th>2</th>\n",
              "      <td>1.0000</td>\n",
              "      <td>9.0000</td>\n",
              "      <td>3.0000</td>\n",
              "      <td>0.0000</td>\n",
              "      <td>12.0000</td>\n",
              "      <td>60.0000</td>\n",
              "      <td>0.0</td>\n",
              "      <td>0.0000</td>\n",
              "    </tr>\n",
              "    <tr>\n",
              "      <th>3</th>\n",
              "      <td>0.0000</td>\n",
              "      <td>4.0000</td>\n",
              "      <td>6.0000</td>\n",
              "      <td>1.0000</td>\n",
              "      <td>0.0000</td>\n",
              "      <td>38.0000</td>\n",
              "      <td>0.0</td>\n",
              "      <td>11.0000</td>\n",
              "    </tr>\n",
              "    <tr>\n",
              "      <th>4</th>\n",
              "      <td>0.0000</td>\n",
              "      <td>6.0000</td>\n",
              "      <td>6.0000</td>\n",
              "      <td>0.0000</td>\n",
              "      <td>10.0000</td>\n",
              "      <td>48.0000</td>\n",
              "      <td>0.0</td>\n",
              "      <td>0.0000</td>\n",
              "    </tr>\n",
              "    <tr>\n",
              "      <th>...</th>\n",
              "      <td>...</td>\n",
              "      <td>...</td>\n",
              "      <td>...</td>\n",
              "      <td>...</td>\n",
              "      <td>...</td>\n",
              "      <td>...</td>\n",
              "      <td>...</td>\n",
              "      <td>...</td>\n",
              "    </tr>\n",
              "    <tr>\n",
              "      <th>80179</th>\n",
              "      <td>8.0000</td>\n",
              "      <td>42.6667</td>\n",
              "      <td>13.6667</td>\n",
              "      <td>68.8333</td>\n",
              "      <td>77.6667</td>\n",
              "      <td>133.6667</td>\n",
              "      <td>22.4</td>\n",
              "      <td>39.6000</td>\n",
              "    </tr>\n",
              "    <tr>\n",
              "      <th>80180</th>\n",
              "      <td>1.6667</td>\n",
              "      <td>15.1667</td>\n",
              "      <td>2.5000</td>\n",
              "      <td>6.0000</td>\n",
              "      <td>43.8333</td>\n",
              "      <td>44.1667</td>\n",
              "      <td>3.0</td>\n",
              "      <td>7.4000</td>\n",
              "    </tr>\n",
              "    <tr>\n",
              "      <th>80181</th>\n",
              "      <td>2.0000</td>\n",
              "      <td>8.5000</td>\n",
              "      <td>2.2000</td>\n",
              "      <td>20.8000</td>\n",
              "      <td>15.3333</td>\n",
              "      <td>20.5000</td>\n",
              "      <td>6.0</td>\n",
              "      <td>15.0000</td>\n",
              "    </tr>\n",
              "    <tr>\n",
              "      <th>80182</th>\n",
              "      <td>5.3333</td>\n",
              "      <td>11.3333</td>\n",
              "      <td>4.0000</td>\n",
              "      <td>16.6667</td>\n",
              "      <td>16.6667</td>\n",
              "      <td>52.0000</td>\n",
              "      <td>4.0</td>\n",
              "      <td>7.6667</td>\n",
              "    </tr>\n",
              "    <tr>\n",
              "      <th>80183</th>\n",
              "      <td>1.0000</td>\n",
              "      <td>5.6667</td>\n",
              "      <td>3.2000</td>\n",
              "      <td>8.0000</td>\n",
              "      <td>14.6667</td>\n",
              "      <td>26.8333</td>\n",
              "      <td>12.0</td>\n",
              "      <td>6.6000</td>\n",
              "    </tr>\n",
              "  </tbody>\n",
              "</table>\n",
              "<p>80184 rows × 8 columns</p>\n",
              "</div>"
            ],
            "text/plain": [
              "       PUP_Lbel  PUP_Esika  PUP_Cyzone   PUP_CP   PUP_FG    PUP_MQ  PUP_TC  \\\n",
              "0        3.0000    10.0000      1.0000   0.0000   0.0000   69.0000     0.0   \n",
              "1        1.0000     4.0000      3.0000   1.0000   5.0000   24.0000     6.0   \n",
              "2        1.0000     9.0000      3.0000   0.0000  12.0000   60.0000     0.0   \n",
              "3        0.0000     4.0000      6.0000   1.0000   0.0000   38.0000     0.0   \n",
              "4        0.0000     6.0000      6.0000   0.0000  10.0000   48.0000     0.0   \n",
              "...         ...        ...         ...      ...      ...       ...     ...   \n",
              "80179    8.0000    42.6667     13.6667  68.8333  77.6667  133.6667    22.4   \n",
              "80180    1.6667    15.1667      2.5000   6.0000  43.8333   44.1667     3.0   \n",
              "80181    2.0000     8.5000      2.2000  20.8000  15.3333   20.5000     6.0   \n",
              "80182    5.3333    11.3333      4.0000  16.6667  16.6667   52.0000     4.0   \n",
              "80183    1.0000     5.6667      3.2000   8.0000  14.6667   26.8333    12.0   \n",
              "\n",
              "        PUP_TF  \n",
              "0       0.0000  \n",
              "1       0.0000  \n",
              "2       0.0000  \n",
              "3      11.0000  \n",
              "4       0.0000  \n",
              "...        ...  \n",
              "80179  39.6000  \n",
              "80180   7.4000  \n",
              "80181  15.0000  \n",
              "80182   7.6667  \n",
              "80183   6.6000  \n",
              "\n",
              "[80184 rows x 8 columns]"
            ]
          },
          "execution_count": 13,
          "metadata": {},
          "output_type": "execute_result"
        }
      ],
      "source": [
        "## Se convierte en un DataFrame el X y se le agrega etiquetas\n",
        "column_names = ['PUP_Lbel', 'PUP_Esika', 'PUP_Cyzone', 'PUP_CP', 'PUP_FG', 'PUP_MQ',\n",
        "       'PUP_TC', 'PUP_TF']\n",
        "chile_real=pd.DataFrame(X,columns=column_names)\n",
        "chile_real"
      ]
    },
    {
      "cell_type": "code",
      "execution_count": null,
      "metadata": {
        "id": "hNjD15VVNdAb"
      },
      "outputs": [],
      "source": [
        "## A cada observación en la data se le coloca las equiquetas del cluster\n",
        "chile_re = pd.concat([chile_real,pd.DataFrame({'kmeans_labels':kmeans.labels_})],axis=1)"
      ]
    },
    {
      "cell_type": "code",
      "execution_count": null,
      "metadata": {
        "colab": {
          "base_uri": "https://localhost:8080/"
        },
        "id": "X076A-tiNyhA",
        "outputId": "ec7d8215-99a9-47ef-bee4-6d58c93ef5dd",
        "scrolled": false
      },
      "outputs": [
        {
          "data": {
            "text/plain": [
              "kmeans_labels\n",
              "1    37305\n",
              "2    32558\n",
              "0     9514\n",
              "3      794\n",
              "4       13\n",
              "Name: count, dtype: int64"
            ]
          },
          "execution_count": 15,
          "metadata": {},
          "output_type": "execute_result"
        }
      ],
      "source": [
        "## Se cuentan los valores por cada cluster: se puede observar que los cluster son asimétricos, esto se debe a los\n",
        "## puntos extremos, debería mejorar con el tratamiento de datos\n",
        "chile_re['kmeans_labels'].value_counts()"
      ]
    },
    {
      "cell_type": "code",
      "execution_count": null,
      "metadata": {
        "colab": {
          "base_uri": "https://localhost:8080/",
          "height": 235
        },
        "id": "s7q_0oiEN4I2",
        "outputId": "7eff394d-cc19-4f8d-c452-1676e1ca532c",
        "scrolled": true
      },
      "outputs": [
        {
          "data": {
            "text/html": [
              "<div>\n",
              "<style scoped>\n",
              "    .dataframe tbody tr th:only-of-type {\n",
              "        vertical-align: middle;\n",
              "    }\n",
              "\n",
              "    .dataframe tbody tr th {\n",
              "        vertical-align: top;\n",
              "    }\n",
              "\n",
              "    .dataframe thead th {\n",
              "        text-align: right;\n",
              "    }\n",
              "</style>\n",
              "<table border=\"1\" class=\"dataframe\">\n",
              "  <thead>\n",
              "    <tr style=\"text-align: right;\">\n",
              "      <th></th>\n",
              "      <th>PUP_Lbel</th>\n",
              "      <th>PUP_Esika</th>\n",
              "      <th>PUP_Cyzone</th>\n",
              "      <th>PUP_CP</th>\n",
              "      <th>PUP_FG</th>\n",
              "      <th>PUP_MQ</th>\n",
              "      <th>PUP_TC</th>\n",
              "      <th>PUP_TF</th>\n",
              "    </tr>\n",
              "    <tr>\n",
              "      <th>kmeans_labels</th>\n",
              "      <th></th>\n",
              "      <th></th>\n",
              "      <th></th>\n",
              "      <th></th>\n",
              "      <th></th>\n",
              "      <th></th>\n",
              "      <th></th>\n",
              "      <th></th>\n",
              "    </tr>\n",
              "  </thead>\n",
              "  <tbody>\n",
              "    <tr>\n",
              "      <th>0</th>\n",
              "      <td>2.758090</td>\n",
              "      <td>15.962196</td>\n",
              "      <td>6.702197</td>\n",
              "      <td>14.449559</td>\n",
              "      <td>29.708529</td>\n",
              "      <td>80.878935</td>\n",
              "      <td>7.986865</td>\n",
              "      <td>10.539074</td>\n",
              "    </tr>\n",
              "    <tr>\n",
              "      <th>1</th>\n",
              "      <td>1.577683</td>\n",
              "      <td>6.206206</td>\n",
              "      <td>2.988036</td>\n",
              "      <td>9.874499</td>\n",
              "      <td>18.818050</td>\n",
              "      <td>21.617490</td>\n",
              "      <td>5.208261</td>\n",
              "      <td>6.393830</td>\n",
              "    </tr>\n",
              "    <tr>\n",
              "      <th>2</th>\n",
              "      <td>1.890883</td>\n",
              "      <td>9.250851</td>\n",
              "      <td>4.381614</td>\n",
              "      <td>10.750911</td>\n",
              "      <td>18.233359</td>\n",
              "      <td>46.135274</td>\n",
              "      <td>6.063370</td>\n",
              "      <td>7.966581</td>\n",
              "    </tr>\n",
              "    <tr>\n",
              "      <th>3</th>\n",
              "      <td>6.200189</td>\n",
              "      <td>39.529072</td>\n",
              "      <td>13.092296</td>\n",
              "      <td>29.487259</td>\n",
              "      <td>77.631465</td>\n",
              "      <td>178.718514</td>\n",
              "      <td>14.441751</td>\n",
              "      <td>20.438728</td>\n",
              "    </tr>\n",
              "    <tr>\n",
              "      <th>4</th>\n",
              "      <td>30.217938</td>\n",
              "      <td>183.564100</td>\n",
              "      <td>53.284608</td>\n",
              "      <td>96.074362</td>\n",
              "      <td>262.589754</td>\n",
              "      <td>949.064115</td>\n",
              "      <td>53.360254</td>\n",
              "      <td>73.244869</td>\n",
              "    </tr>\n",
              "  </tbody>\n",
              "</table>\n",
              "</div>"
            ],
            "text/plain": [
              "                PUP_Lbel   PUP_Esika  PUP_Cyzone     PUP_CP      PUP_FG  \\\n",
              "kmeans_labels                                                             \n",
              "0               2.758090   15.962196    6.702197  14.449559   29.708529   \n",
              "1               1.577683    6.206206    2.988036   9.874499   18.818050   \n",
              "2               1.890883    9.250851    4.381614  10.750911   18.233359   \n",
              "3               6.200189   39.529072   13.092296  29.487259   77.631465   \n",
              "4              30.217938  183.564100   53.284608  96.074362  262.589754   \n",
              "\n",
              "                   PUP_MQ     PUP_TC     PUP_TF  \n",
              "kmeans_labels                                    \n",
              "0               80.878935   7.986865  10.539074  \n",
              "1               21.617490   5.208261   6.393830  \n",
              "2               46.135274   6.063370   7.966581  \n",
              "3              178.718514  14.441751  20.438728  \n",
              "4              949.064115  53.360254  73.244869  "
            ]
          },
          "execution_count": 16,
          "metadata": {},
          "output_type": "execute_result"
        }
      ],
      "source": [
        "## Calculamos los promedios por cada Cluster\n",
        "chile_re.groupby('kmeans_labels').mean()"
      ]
    },
    {
      "cell_type": "code",
      "execution_count": null,
      "metadata": {
        "colab": {
          "base_uri": "https://localhost:8080/",
          "height": 235
        },
        "id": "mR-jpH8zOrJB",
        "outputId": "27860589-250e-4a57-b5e8-d748aa3d0e45",
        "scrolled": true
      },
      "outputs": [
        {
          "data": {
            "text/html": [
              "<div>\n",
              "<style scoped>\n",
              "    .dataframe tbody tr th:only-of-type {\n",
              "        vertical-align: middle;\n",
              "    }\n",
              "\n",
              "    .dataframe tbody tr th {\n",
              "        vertical-align: top;\n",
              "    }\n",
              "\n",
              "    .dataframe thead th {\n",
              "        text-align: right;\n",
              "    }\n",
              "</style>\n",
              "<table border=\"1\" class=\"dataframe\">\n",
              "  <thead>\n",
              "    <tr style=\"text-align: right;\">\n",
              "      <th></th>\n",
              "      <th>PUP_Lbel</th>\n",
              "      <th>PUP_Esika</th>\n",
              "      <th>PUP_Cyzone</th>\n",
              "      <th>PUP_CP</th>\n",
              "      <th>PUP_FG</th>\n",
              "      <th>PUP_MQ</th>\n",
              "      <th>PUP_TC</th>\n",
              "      <th>PUP_TF</th>\n",
              "    </tr>\n",
              "    <tr>\n",
              "      <th>kmeans_labels</th>\n",
              "      <th></th>\n",
              "      <th></th>\n",
              "      <th></th>\n",
              "      <th></th>\n",
              "      <th></th>\n",
              "      <th></th>\n",
              "      <th></th>\n",
              "      <th></th>\n",
              "    </tr>\n",
              "  </thead>\n",
              "  <tbody>\n",
              "    <tr>\n",
              "      <th>0</th>\n",
              "      <td>3.608995</td>\n",
              "      <td>24.347706</td>\n",
              "      <td>8.091897</td>\n",
              "      <td>101.267119</td>\n",
              "      <td>367.601069</td>\n",
              "      <td>284.864544</td>\n",
              "      <td>44.981429</td>\n",
              "      <td>51.761596</td>\n",
              "    </tr>\n",
              "    <tr>\n",
              "      <th>1</th>\n",
              "      <td>1.758061</td>\n",
              "      <td>6.411097</td>\n",
              "      <td>2.975501</td>\n",
              "      <td>64.672709</td>\n",
              "      <td>124.120686</td>\n",
              "      <td>71.707053</td>\n",
              "      <td>34.655179</td>\n",
              "      <td>35.996263</td>\n",
              "    </tr>\n",
              "    <tr>\n",
              "      <th>2</th>\n",
              "      <td>1.873607</td>\n",
              "      <td>8.140943</td>\n",
              "      <td>3.673723</td>\n",
              "      <td>57.856271</td>\n",
              "      <td>111.572616</td>\n",
              "      <td>75.324781</td>\n",
              "      <td>34.259801</td>\n",
              "      <td>35.158256</td>\n",
              "    </tr>\n",
              "    <tr>\n",
              "      <th>3</th>\n",
              "      <td>21.802564</td>\n",
              "      <td>227.669357</td>\n",
              "      <td>40.615962</td>\n",
              "      <td>393.051297</td>\n",
              "      <td>2509.639942</td>\n",
              "      <td>3963.668730</td>\n",
              "      <td>96.362294</td>\n",
              "      <td>163.833982</td>\n",
              "    </tr>\n",
              "    <tr>\n",
              "      <th>4</th>\n",
              "      <td>383.723796</td>\n",
              "      <td>4935.998984</td>\n",
              "      <td>748.762509</td>\n",
              "      <td>2339.587505</td>\n",
              "      <td>18292.822024</td>\n",
              "      <td>117412.019256</td>\n",
              "      <td>1469.705556</td>\n",
              "      <td>1966.081811</td>\n",
              "    </tr>\n",
              "  </tbody>\n",
              "</table>\n",
              "</div>"
            ],
            "text/plain": [
              "                 PUP_Lbel    PUP_Esika  PUP_Cyzone       PUP_CP        PUP_FG  \\\n",
              "kmeans_labels                                                                   \n",
              "0                3.608995    24.347706    8.091897   101.267119    367.601069   \n",
              "1                1.758061     6.411097    2.975501    64.672709    124.120686   \n",
              "2                1.873607     8.140943    3.673723    57.856271    111.572616   \n",
              "3               21.802564   227.669357   40.615962   393.051297   2509.639942   \n",
              "4              383.723796  4935.998984  748.762509  2339.587505  18292.822024   \n",
              "\n",
              "                      PUP_MQ       PUP_TC       PUP_TF  \n",
              "kmeans_labels                                           \n",
              "0                 284.864544    44.981429    51.761596  \n",
              "1                  71.707053    34.655179    35.996263  \n",
              "2                  75.324781    34.259801    35.158256  \n",
              "3                3963.668730    96.362294   163.833982  \n",
              "4              117412.019256  1469.705556  1966.081811  "
            ]
          },
          "execution_count": 17,
          "metadata": {},
          "output_type": "execute_result"
        }
      ],
      "source": [
        "chile_re.groupby('kmeans_labels').var()"
      ]
    },
    {
      "cell_type": "code",
      "execution_count": null,
      "metadata": {
        "colab": {
          "base_uri": "https://localhost:8080/",
          "height": 407
        },
        "id": "PZG8uwejNYlF",
        "outputId": "060b8785-fd51-40c0-f2af-ea634d5912be",
        "scrolled": true
      },
      "outputs": [
        {
          "data": {
            "image/png": "[encoded data removed]",
            "text/plain": [
              "<Figure size 1000x600 with 2 Axes>"
            ]
          },
          "metadata": {},
          "output_type": "display_data"
        }
      ],
      "source": [
        "f, (ax1,ax2) = plt.subplots(1,2, sharey=True,figsize=(10,6))\n",
        "ax1.set_title('K Means')\n",
        "ax1.scatter(X[:, 0], X[:, 1], X[:, 2],c=kmeans.labels_,cmap='rainbow')\n",
        "ax2.set_title('K Means')\n",
        "ax2.scatter(X[:, 3], X[:, 4], X[:, 5],c=kmeans.labels_,cmap='rainbow');\n"
      ]
    },
    {
      "cell_type": "markdown",
      "metadata": {
        "id": "wpt9NQduOV2A"
      },
      "source": [
        "**Punto 2)**"
      ]
    },
    {
      "cell_type": "markdown",
      "metadata": {
        "id": "4NdpwVL4UxUc"
      },
      "source": [
        "- Estandarizando"
      ]
    },
    {
      "cell_type": "code",
      "execution_count": null,
      "metadata": {
        "id": "t5MtKx4SSqCa"
      },
      "outputs": [],
      "source": [
        "#from sklearn.preprocessing import StandardScaler"
      ]
    },
    {
      "cell_type": "code",
      "execution_count": null,
      "metadata": {
        "colab": {
          "base_uri": "https://localhost:8080/"
        },
        "id": "rY5uVyRlTKz1",
        "outputId": "6466d8a6-38a1-4b14-ae40-118e92ca8d3e"
      },
      "outputs": [
        {
          "name": "stdout",
          "output_type": "stream",
          "text": [
            "<class 'pandas.core.frame.DataFrame'>\n",
            "Index: 80184 entries, 0 to 80183\n",
            "Data columns (total 8 columns):\n",
            " #   Column      Non-Null Count  Dtype  \n",
            "---  ------      --------------  -----  \n",
            " 0   PUP_Lbel    80184 non-null  float64\n",
            " 1   PUP_Esika   80184 non-null  float64\n",
            " 2   PUP_Cyzone  80184 non-null  float64\n",
            " 3   PUP_CP      80184 non-null  float64\n",
            " 4   PUP_FG      80184 non-null  float64\n",
            " 5   PUP_MQ      80184 non-null  float64\n",
            " 6   PUP_TC      80184 non-null  float64\n",
            " 7   PUP_TF      80184 non-null  float64\n",
            "dtypes: float64(8)\n",
            "memory usage: 5.5 MB\n"
          ]
        }
      ],
      "source": [
        "chile.drop(['CodPais'],axis=1,inplace=True)\n",
        "chile.info()"
      ]
    },
    {
      "cell_type": "code",
      "execution_count": null,
      "metadata": {
        "colab": {
          "base_uri": "https://localhost:8080/"
        },
        "id": "X2FHJ9Y2TrxC",
        "outputId": "7929d8c7-e614-4e7e-eead-f3b73ba1d6ee"
      },
      "outputs": [
        {
          "data": {
            "text/html": [
              "<style>#sk-container-id-2 {color: black;}#sk-container-id-2 pre{padding: 0;}#sk-container-id-2 div.sk-toggleable {background-color: white;}#sk-container-id-2 label.sk-toggleable__label {cursor: pointer;display: block;width: 100%;margin-bottom: 0;padding: 0.3em;box-sizing: border-box;text-align: center;}#sk-container-id-2 label.sk-toggleable__label-arrow:before {content: \"▸\";float: left;margin-right: 0.25em;color: #696969;}#sk-container-id-2 label.sk-toggleable__label-arrow:hover:before {color: black;}#sk-container-id-2 div.sk-estimator:hover label.sk-toggleable__label-arrow:before {color: black;}#sk-container-id-2 div.sk-toggleable__content {max-height: 0;max-width: 0;overflow: hidden;text-align: left;background-color: #f0f8ff;}#sk-container-id-2 div.sk-toggleable__content pre {margin: 0.2em;color: black;border-radius: 0.25em;background-color: #f0f8ff;}#sk-container-id-2 input.sk-toggleable__control:checked~div.sk-toggleable__content {max-height: 200px;max-width: 100%;overflow: auto;}#sk-container-id-2 input.sk-toggleable__control:checked~label.sk-toggleable__label-arrow:before {content: \"▾\";}#sk-container-id-2 div.sk-estimator input.sk-toggleable__control:checked~label.sk-toggleable__label {background-color: #d4ebff;}#sk-container-id-2 div.sk-label input.sk-toggleable__control:checked~label.sk-toggleable__label {background-color: #d4ebff;}#sk-container-id-2 input.sk-hidden--visually {border: 0;clip: rect(1px 1px 1px 1px);clip: rect(1px, 1px, 1px, 1px);height: 1px;margin: -1px;overflow: hidden;padding: 0;position: absolute;width: 1px;}#sk-container-id-2 div.sk-estimator {font-family: monospace;background-color: #f0f8ff;border: 1px dotted black;border-radius: 0.25em;box-sizing: border-box;margin-bottom: 0.5em;}#sk-container-id-2 div.sk-estimator:hover {background-color: #d4ebff;}#sk-container-id-2 div.sk-parallel-item::after {content: \"\";width: 100%;border-bottom: 1px solid gray;flex-grow: 1;}#sk-container-id-2 div.sk-label:hover label.sk-toggleable__label {background-color: #d4ebff;}#sk-container-id-2 div.sk-serial::before {content: \"\";position: absolute;border-left: 1px solid gray;box-sizing: border-box;top: 0;bottom: 0;left: 50%;z-index: 0;}#sk-container-id-2 div.sk-serial {display: flex;flex-direction: column;align-items: center;background-color: white;padding-right: 0.2em;padding-left: 0.2em;position: relative;}#sk-container-id-2 div.sk-item {position: relative;z-index: 1;}#sk-container-id-2 div.sk-parallel {display: flex;align-items: stretch;justify-content: center;background-color: white;position: relative;}#sk-container-id-2 div.sk-item::before, #sk-container-id-2 div.sk-parallel-item::before {content: \"\";position: absolute;border-left: 1px solid gray;box-sizing: border-box;top: 0;bottom: 0;left: 50%;z-index: -1;}#sk-container-id-2 div.sk-parallel-item {display: flex;flex-direction: column;z-index: 1;position: relative;background-color: white;}#sk-container-id-2 div.sk-parallel-item:first-child::after {align-self: flex-end;width: 50%;}#sk-container-id-2 div.sk-parallel-item:last-child::after {align-self: flex-start;width: 50%;}#sk-container-id-2 div.sk-parallel-item:only-child::after {width: 0;}#sk-container-id-2 div.sk-dashed-wrapped {border: 1px dashed gray;margin: 0 0.4em 0.5em 0.4em;box-sizing: border-box;padding-bottom: 0.4em;background-color: white;}#sk-container-id-2 div.sk-label label {font-family: monospace;font-weight: bold;display: inline-block;line-height: 1.2em;}#sk-container-id-2 div.sk-label-container {text-align: center;}#sk-container-id-2 div.sk-container {/* jupyter's `normalize.less` sets `[hidden] { display: none; }` but bootstrap.min.css set `[hidden] { display: none !important; }` so we also need the `!important` here to be able to override the default hidden behavior on the sphinx rendered scikit-learn.org. See: https://github.com/scikit-learn/scikit-learn/issues/21755 */display: inline-block !important;position: relative;}#sk-container-id-2 div.sk-text-repr-fallback {display: none;}</style><div id=\"sk-container-id-2\" class=\"sk-top-container\"><div class=\"sk-text-repr-fallback\"><pre>StandardScaler()</pre><b>In a Jupyter environment, please rerun this cell to show the HTML representation or trust the notebook. <br />On GitHub, the HTML representation is unable to render, please try loading this page with nbviewer.org.</b></div><div class=\"sk-container\" hidden><div class=\"sk-item\"><div class=\"sk-estimator sk-toggleable\"><input class=\"sk-toggleable__control sk-hidden--visually\" id=\"sk-estimator-id-2\" type=\"checkbox\" checked><label for=\"sk-estimator-id-2\" class=\"sk-toggleable__label sk-toggleable__label-arrow\">StandardScaler</label><div class=\"sk-toggleable__content\"><pre>StandardScaler()</pre></div></div></div></div></div>"
            ],
            "text/plain": [
              "StandardScaler()"
            ]
          },
          "execution_count": 21,
          "metadata": {},
          "output_type": "execute_result"
        }
      ],
      "source": [
        "## Estandarizamos las variables\n",
        "scaler = StandardScaler()\n",
        "scaler.fit(chile)"
      ]
    },
    {
      "cell_type": "code",
      "execution_count": null,
      "metadata": {
        "id": "U-QxfMCLUCGs"
      },
      "outputs": [],
      "source": [
        "## Se estandariza la data de chile\n",
        "scaled_data = scaler.transform(chile)"
      ]
    },
    {
      "cell_type": "markdown",
      "metadata": {
        "id": "FpSWHkAPUhUx"
      },
      "source": [
        "- 5means estandarizado Chile"
      ]
    },
    {
      "cell_type": "code",
      "execution_count": null,
      "metadata": {
        "id": "R3H-YzyiUmO2"
      },
      "outputs": [],
      "source": [
        "## Data estandarizada\n",
        "chile_es=scaled_data"
      ]
    },
    {
      "cell_type": "code",
      "execution_count": null,
      "metadata": {
        "colab": {
          "base_uri": "https://localhost:8080/"
        },
        "id": "N0udDgSnVRZc",
        "outputId": "58f7d28c-d833-460c-c9c6-390ef7b008c3",
        "scrolled": true
      },
      "outputs": [
        {
          "data": {
            "text/plain": [
              "(80184, 8)"
            ]
          },
          "execution_count": 24,
          "metadata": {},
          "output_type": "execute_result"
        }
      ],
      "source": [
        "chile_es.shape"
      ]
    },
    {
      "cell_type": "code",
      "execution_count": null,
      "metadata": {
        "colab": {
          "base_uri": "https://localhost:8080/"
        },
        "id": "SawA5ujaVTBG",
        "outputId": "dc90c8cf-7ea6-4f4f-e3d8-344ae026fe57"
      },
      "outputs": [
        {
          "data": {
            "text/plain": [
              "array([[ 6.68737628e-01,  1.74164151e-01, -1.17665884e+00, ...,\n",
              "         9.84213904e-01, -9.66063121e-01, -1.16814494e+00],\n",
              "       [-5.42008212e-01, -8.29423640e-01, -4.18206250e-01, ...,\n",
              "        -5.59528702e-01,  2.51886964e-03, -1.16814494e+00],\n",
              "       [-5.42008212e-01,  6.89951921e-03, -4.18206250e-01, ...,\n",
              "         6.75465383e-01, -9.66063121e-01, -1.16814494e+00],\n",
              "       ...,\n",
              "       [ 6.33647076e-02, -7.67327967e-02, -7.21587286e-01, ...,\n",
              "        -6.79597572e-01,  2.51886964e-03,  1.11511613e+00],\n",
              "       [ 2.08125426e+00,  3.97178085e-01, -3.89799546e-02, ...,\n",
              "         4.01022253e-01, -3.20341794e-01, -1.13976503e-03],\n",
              "       [-5.42008212e-01, -5.50643678e-01, -3.42360991e-01, ...,\n",
              "        -4.62331237e-01,  9.71100860e-01, -1.63510071e-01]])"
            ]
          },
          "execution_count": 25,
          "metadata": {},
          "output_type": "execute_result"
        }
      ],
      "source": [
        "chile_es"
      ]
    },
    {
      "cell_type": "code",
      "execution_count": null,
      "metadata": {
        "id": "qZfcV5utVfLw"
      },
      "outputs": [],
      "source": [
        "## Contruimos un algoritmo de kmeans\n",
        "kmeans = KMeans(n_clusters=5)"
      ]
    },
    {
      "cell_type": "code",
      "execution_count": null,
      "metadata": {
        "colab": {
          "base_uri": "https://localhost:8080/"
        },
        "id": "dgRxSL4BViyV",
        "outputId": "03546b56-d064-4714-e967-c7fbef077c03",
        "scrolled": true
      },
      "outputs": [
        {
          "name": "stderr",
          "output_type": "stream",
          "text": [
            "C:\\Users\\avaldiviac\\AppData\\Local\\anaconda3\\Lib\\site-packages\\sklearn\\cluster\\_kmeans.py:1412: FutureWarning: The default value of `n_init` will change from 10 to 'auto' in 1.4. Set the value of `n_init` explicitly to suppress the warning\n",
            "  super()._check_params_vs_input(X, default_n_init=10)\n"
          ]
        },
        {
          "data": {
            "text/html": [
              "<style>#sk-container-id-3 {color: black;}#sk-container-id-3 pre{padding: 0;}#sk-container-id-3 div.sk-toggleable {background-color: white;}#sk-container-id-3 label.sk-toggleable__label {cursor: pointer;display: block;width: 100%;margin-bottom: 0;padding: 0.3em;box-sizing: border-box;text-align: center;}#sk-container-id-3 label.sk-toggleable__label-arrow:before {content: \"▸\";float: left;margin-right: 0.25em;color: #696969;}#sk-container-id-3 label.sk-toggleable__label-arrow:hover:before {color: black;}#sk-container-id-3 div.sk-estimator:hover label.sk-toggleable__label-arrow:before {color: black;}#sk-container-id-3 div.sk-toggleable__content {max-height: 0;max-width: 0;overflow: hidden;text-align: left;background-color: #f0f8ff;}#sk-container-id-3 div.sk-toggleable__content pre {margin: 0.2em;color: black;border-radius: 0.25em;background-color: #f0f8ff;}#sk-container-id-3 input.sk-toggleable__control:checked~div.sk-toggleable__content {max-height: 200px;max-width: 100%;overflow: auto;}#sk-container-id-3 input.sk-toggleable__control:checked~label.sk-toggleable__label-arrow:before {content: \"▾\";}#sk-container-id-3 div.sk-estimator input.sk-toggleable__control:checked~label.sk-toggleable__label {background-color: #d4ebff;}#sk-container-id-3 div.sk-label input.sk-toggleable__control:checked~label.sk-toggleable__label {background-color: #d4ebff;}#sk-container-id-3 input.sk-hidden--visually {border: 0;clip: rect(1px 1px 1px 1px);clip: rect(1px, 1px, 1px, 1px);height: 1px;margin: -1px;overflow: hidden;padding: 0;position: absolute;width: 1px;}#sk-container-id-3 div.sk-estimator {font-family: monospace;background-color: #f0f8ff;border: 1px dotted black;border-radius: 0.25em;box-sizing: border-box;margin-bottom: 0.5em;}#sk-container-id-3 div.sk-estimator:hover {background-color: #d4ebff;}#sk-container-id-3 div.sk-parallel-item::after {content: \"\";width: 100%;border-bottom: 1px solid gray;flex-grow: 1;}#sk-container-id-3 div.sk-label:hover label.sk-toggleable__label {background-color: #d4ebff;}#sk-container-id-3 div.sk-serial::before {content: \"\";position: absolute;border-left: 1px solid gray;box-sizing: border-box;top: 0;bottom: 0;left: 50%;z-index: 0;}#sk-container-id-3 div.sk-serial {display: flex;flex-direction: column;align-items: center;background-color: white;padding-right: 0.2em;padding-left: 0.2em;position: relative;}#sk-container-id-3 div.sk-item {position: relative;z-index: 1;}#sk-container-id-3 div.sk-parallel {display: flex;align-items: stretch;justify-content: center;background-color: white;position: relative;}#sk-container-id-3 div.sk-item::before, #sk-container-id-3 div.sk-parallel-item::before {content: \"\";position: absolute;border-left: 1px solid gray;box-sizing: border-box;top: 0;bottom: 0;left: 50%;z-index: -1;}#sk-container-id-3 div.sk-parallel-item {display: flex;flex-direction: column;z-index: 1;position: relative;background-color: white;}#sk-container-id-3 div.sk-parallel-item:first-child::after {align-self: flex-end;width: 50%;}#sk-container-id-3 div.sk-parallel-item:last-child::after {align-self: flex-start;width: 50%;}#sk-container-id-3 div.sk-parallel-item:only-child::after {width: 0;}#sk-container-id-3 div.sk-dashed-wrapped {border: 1px dashed gray;margin: 0 0.4em 0.5em 0.4em;box-sizing: border-box;padding-bottom: 0.4em;background-color: white;}#sk-container-id-3 div.sk-label label {font-family: monospace;font-weight: bold;display: inline-block;line-height: 1.2em;}#sk-container-id-3 div.sk-label-container {text-align: center;}#sk-container-id-3 div.sk-container {/* jupyter's `normalize.less` sets `[hidden] { display: none; }` but bootstrap.min.css set `[hidden] { display: none !important; }` so we also need the `!important` here to be able to override the default hidden behavior on the sphinx rendered scikit-learn.org. See: https://github.com/scikit-learn/scikit-learn/issues/21755 */display: inline-block !important;position: relative;}#sk-container-id-3 div.sk-text-repr-fallback {display: none;}</style><div id=\"sk-container-id-3\" class=\"sk-top-container\"><div class=\"sk-text-repr-fallback\"><pre>KMeans(n_clusters=5)</pre><b>In a Jupyter environment, please rerun this cell to show the HTML representation or trust the notebook. <br />On GitHub, the HTML representation is unable to render, please try loading this page with nbviewer.org.</b></div><div class=\"sk-container\" hidden><div class=\"sk-item\"><div class=\"sk-estimator sk-toggleable\"><input class=\"sk-toggleable__control sk-hidden--visually\" id=\"sk-estimator-id-3\" type=\"checkbox\" checked><label for=\"sk-estimator-id-3\" class=\"sk-toggleable__label sk-toggleable__label-arrow\">KMeans</label><div class=\"sk-toggleable__content\"><pre>KMeans(n_clusters=5)</pre></div></div></div></div></div>"
            ],
            "text/plain": [
              "KMeans(n_clusters=5)"
            ]
          },
          "execution_count": 27,
          "metadata": {},
          "output_type": "execute_result"
        }
      ],
      "source": [
        "kmeans.fit(chile_es)"
      ]
    },
    {
      "cell_type": "markdown",
      "metadata": {
        "id": "dDsAtSc8V8Px"
      },
      "source": [
        "Centroides\n",
        "\n",
        "Un centroide es un vector que contiene un número para cada variable, donde cada número es la media de una variable para las observaciones en ese conglomerado. El centroide se puede considerar como el promedio multidimensional del conglomerado."
      ]
    },
    {
      "cell_type": "code",
      "execution_count": null,
      "metadata": {
        "colab": {
          "base_uri": "https://localhost:8080/"
        },
        "id": "IEnG1W7zWGcZ",
        "outputId": "9605e0f6-e114-4811-ad86-f2c8ae388393"
      },
      "outputs": [
        {
          "data": {
            "text/plain": [
              "array([[ 0.12367467, -0.12937065, -0.22236758,  0.18045275, -0.20545478,\n",
              "        -0.21477838,  0.44303429,  0.33533524],\n",
              "       [ 0.52506627,  0.82052725,  0.91327208,  0.56049404,  0.69671479,\n",
              "         0.8473244 ,  0.34157619,  0.48748582],\n",
              "       [-0.44546261, -0.40823948, -0.30464634, -0.4971819 , -0.25878899,\n",
              "        -0.31567174, -0.614472  , -0.59618888],\n",
              "       [ 2.28961828,  3.86762104,  2.66111564,  2.03061624,  3.35167138,\n",
              "         3.28912756,  1.30644784,  1.73122566],\n",
              "       [13.9364916 , 20.48069992, 13.5989445 ,  8.62165746, 15.13561334,\n",
              "        19.67127186,  5.52309973,  7.5685005 ]])"
            ]
          },
          "execution_count": 28,
          "metadata": {},
          "output_type": "execute_result"
        }
      ],
      "source": [
        "## Calculamos los centroides de cada cluster\n",
        "kmeans.cluster_centers_"
      ]
    },
    {
      "cell_type": "code",
      "execution_count": null,
      "metadata": {
        "colab": {
          "base_uri": "https://localhost:8080/"
        },
        "id": "h39ve0fqWH0o",
        "outputId": "6c0e8773-abdd-4d21-89ae-ae44aa7bbcdc"
      },
      "outputs": [
        {
          "data": {
            "text/plain": [
              "array([2, 2, 2, ..., 0, 1, 0])"
            ]
          },
          "execution_count": 29,
          "metadata": {},
          "output_type": "execute_result"
        }
      ],
      "source": [
        "## Etiquetamos las observaciones\n",
        "kmeans.labels_"
      ]
    },
    {
      "cell_type": "code",
      "execution_count": null,
      "metadata": {
        "id": "Qp-_2IuYJEm4"
      },
      "outputs": [],
      "source": [
        "a = pd.DataFrame({'kmeans_labels':kmeans.labels_})"
      ]
    },
    {
      "cell_type": "code",
      "execution_count": null,
      "metadata": {
        "id": "6PkgmXAkJEm4",
        "outputId": "0ff165d9-d1f7-4072-bb34-336065cc6f7f",
        "scrolled": true
      },
      "outputs": [
        {
          "data": {
            "text/plain": [
              "kmeans_labels\n",
              "2    33532\n",
              "0    31053\n",
              "1    14173\n",
              "3     1394\n",
              "4       32\n",
              "Name: count, dtype: int64"
            ]
          },
          "execution_count": 31,
          "metadata": {},
          "output_type": "execute_result"
        }
      ],
      "source": [
        "## Distribución de observaciones en los cluster\n",
        "a['kmeans_labels'].value_counts()"
      ]
    },
    {
      "cell_type": "code",
      "execution_count": null,
      "metadata": {
        "colab": {
          "base_uri": "https://localhost:8080/",
          "height": 441
        },
        "id": "1o0MLn8NWNvU",
        "outputId": "b6a1123a-9849-4292-9e29-66a39b7c154f",
        "scrolled": true
      },
      "outputs": [
        {
          "name": "stderr",
          "output_type": "stream",
          "text": [
            "C:\\Users\\avaldiviac\\AppData\\Local\\anaconda3\\Lib\\site-packages\\matplotlib\\collections.py:963: RuntimeWarning: invalid value encountered in sqrt\n",
            "  scale = np.sqrt(self._sizes) * dpi / 72.0 * self._factor\n"
          ]
        },
        {
          "data": {
            "image/png": "[encoded data removed]",
            "text/plain": [
              "<Figure size 1000x600 with 2 Axes>"
            ]
          },
          "metadata": {},
          "output_type": "display_data"
        }
      ],
      "source": [
        "f, (ax1_ch,ax2_ch) = plt.subplots(1,2, sharey=True,figsize=(10,6))\n",
        "ax1_ch.set_title('K Means')\n",
        "ax1_ch.scatter(chile_es[:, 0], chile_es[:, 1], chile_es[:, 2],c=kmeans.labels_,cmap='rainbow')\n",
        "ax2_ch.set_title('K Means')\n",
        "ax2_ch.scatter(chile_es[:, 3], chile_es[:, 4], chile_es[:, 5],c=kmeans.labels_,cmap='rainbow');"
      ]
    },
    {
      "cell_type": "markdown",
      "metadata": {
        "id": "T79KzIO5Wxt3"
      },
      "source": [
        "**Punto 3)**\n"
      ]
    },
    {
      "cell_type": "markdown",
      "metadata": {
        "id": "TPitZFk5cYJW"
      },
      "source": [
        "- Decilando variables\n"
      ]
    },
    {
      "cell_type": "code",
      "execution_count": null,
      "metadata": {
        "colab": {
          "base_uri": "https://localhost:8080/",
          "height": 439
        },
        "id": "fUCGK-qFXMKt",
        "outputId": "4c99ae1b-6a22-4c6c-b6ca-f1b2655af34b"
      },
      "outputs": [
        {
          "data": {
            "text/html": [
              "<div>\n",
              "<style scoped>\n",
              "    .dataframe tbody tr th:only-of-type {\n",
              "        vertical-align: middle;\n",
              "    }\n",
              "\n",
              "    .dataframe tbody tr th {\n",
              "        vertical-align: top;\n",
              "    }\n",
              "\n",
              "    .dataframe thead th {\n",
              "        text-align: right;\n",
              "    }\n",
              "</style>\n",
              "<table border=\"1\" class=\"dataframe\">\n",
              "  <thead>\n",
              "    <tr style=\"text-align: right;\">\n",
              "      <th></th>\n",
              "      <th>PUP_Lbel</th>\n",
              "      <th>PUP_Esika</th>\n",
              "      <th>PUP_Cyzone</th>\n",
              "      <th>PUP_CP</th>\n",
              "      <th>PUP_FG</th>\n",
              "      <th>PUP_MQ</th>\n",
              "      <th>PUP_TC</th>\n",
              "      <th>PUP_TF</th>\n",
              "      <th>decile_Lbel</th>\n",
              "      <th>decile_Esika</th>\n",
              "      <th>decile_Cyzone</th>\n",
              "      <th>decile_CP</th>\n",
              "      <th>decile_FG</th>\n",
              "      <th>decile_MQ</th>\n",
              "      <th>decile_TC</th>\n",
              "      <th>decile_TF</th>\n",
              "    </tr>\n",
              "  </thead>\n",
              "  <tbody>\n",
              "    <tr>\n",
              "      <th>0</th>\n",
              "      <td>3.0000</td>\n",
              "      <td>10.0000</td>\n",
              "      <td>1.0000</td>\n",
              "      <td>0.0000</td>\n",
              "      <td>0.0000</td>\n",
              "      <td>69.0000</td>\n",
              "      <td>0.0</td>\n",
              "      <td>0.0000</td>\n",
              "      <td>5</td>\n",
              "      <td>6</td>\n",
              "      <td>0</td>\n",
              "      <td>0</td>\n",
              "      <td>0</td>\n",
              "      <td>8</td>\n",
              "      <td>0</td>\n",
              "      <td>0</td>\n",
              "    </tr>\n",
              "    <tr>\n",
              "      <th>1</th>\n",
              "      <td>1.0000</td>\n",
              "      <td>4.0000</td>\n",
              "      <td>3.0000</td>\n",
              "      <td>1.0000</td>\n",
              "      <td>5.0000</td>\n",
              "      <td>24.0000</td>\n",
              "      <td>6.0</td>\n",
              "      <td>0.0000</td>\n",
              "      <td>0</td>\n",
              "      <td>0</td>\n",
              "      <td>3</td>\n",
              "      <td>0</td>\n",
              "      <td>0</td>\n",
              "      <td>2</td>\n",
              "      <td>1</td>\n",
              "      <td>0</td>\n",
              "    </tr>\n",
              "    <tr>\n",
              "      <th>2</th>\n",
              "      <td>1.0000</td>\n",
              "      <td>9.0000</td>\n",
              "      <td>3.0000</td>\n",
              "      <td>0.0000</td>\n",
              "      <td>12.0000</td>\n",
              "      <td>60.0000</td>\n",
              "      <td>0.0</td>\n",
              "      <td>0.0000</td>\n",
              "      <td>0</td>\n",
              "      <td>5</td>\n",
              "      <td>3</td>\n",
              "      <td>0</td>\n",
              "      <td>2</td>\n",
              "      <td>8</td>\n",
              "      <td>0</td>\n",
              "      <td>0</td>\n",
              "    </tr>\n",
              "    <tr>\n",
              "      <th>3</th>\n",
              "      <td>0.0000</td>\n",
              "      <td>4.0000</td>\n",
              "      <td>6.0000</td>\n",
              "      <td>1.0000</td>\n",
              "      <td>0.0000</td>\n",
              "      <td>38.0000</td>\n",
              "      <td>0.0</td>\n",
              "      <td>11.0000</td>\n",
              "      <td>0</td>\n",
              "      <td>0</td>\n",
              "      <td>8</td>\n",
              "      <td>0</td>\n",
              "      <td>0</td>\n",
              "      <td>5</td>\n",
              "      <td>0</td>\n",
              "      <td>5</td>\n",
              "    </tr>\n",
              "    <tr>\n",
              "      <th>4</th>\n",
              "      <td>0.0000</td>\n",
              "      <td>6.0000</td>\n",
              "      <td>6.0000</td>\n",
              "      <td>0.0000</td>\n",
              "      <td>10.0000</td>\n",
              "      <td>48.0000</td>\n",
              "      <td>0.0</td>\n",
              "      <td>0.0000</td>\n",
              "      <td>0</td>\n",
              "      <td>2</td>\n",
              "      <td>8</td>\n",
              "      <td>0</td>\n",
              "      <td>1</td>\n",
              "      <td>7</td>\n",
              "      <td>0</td>\n",
              "      <td>0</td>\n",
              "    </tr>\n",
              "    <tr>\n",
              "      <th>...</th>\n",
              "      <td>...</td>\n",
              "      <td>...</td>\n",
              "      <td>...</td>\n",
              "      <td>...</td>\n",
              "      <td>...</td>\n",
              "      <td>...</td>\n",
              "      <td>...</td>\n",
              "      <td>...</td>\n",
              "      <td>...</td>\n",
              "      <td>...</td>\n",
              "      <td>...</td>\n",
              "      <td>...</td>\n",
              "      <td>...</td>\n",
              "      <td>...</td>\n",
              "      <td>...</td>\n",
              "      <td>...</td>\n",
              "    </tr>\n",
              "    <tr>\n",
              "      <th>80179</th>\n",
              "      <td>8.0000</td>\n",
              "      <td>42.6667</td>\n",
              "      <td>13.6667</td>\n",
              "      <td>68.8333</td>\n",
              "      <td>77.6667</td>\n",
              "      <td>133.6667</td>\n",
              "      <td>22.4</td>\n",
              "      <td>39.6000</td>\n",
              "      <td>7</td>\n",
              "      <td>9</td>\n",
              "      <td>9</td>\n",
              "      <td>8</td>\n",
              "      <td>9</td>\n",
              "      <td>9</td>\n",
              "      <td>5</td>\n",
              "      <td>7</td>\n",
              "    </tr>\n",
              "    <tr>\n",
              "      <th>80180</th>\n",
              "      <td>1.6667</td>\n",
              "      <td>15.1667</td>\n",
              "      <td>2.5000</td>\n",
              "      <td>6.0000</td>\n",
              "      <td>43.8333</td>\n",
              "      <td>44.1667</td>\n",
              "      <td>3.0</td>\n",
              "      <td>7.4000</td>\n",
              "      <td>2</td>\n",
              "      <td>9</td>\n",
              "      <td>2</td>\n",
              "      <td>1</td>\n",
              "      <td>9</td>\n",
              "      <td>6</td>\n",
              "      <td>0</td>\n",
              "      <td>3</td>\n",
              "    </tr>\n",
              "    <tr>\n",
              "      <th>80181</th>\n",
              "      <td>2.0000</td>\n",
              "      <td>8.5000</td>\n",
              "      <td>2.2000</td>\n",
              "      <td>20.8000</td>\n",
              "      <td>15.3333</td>\n",
              "      <td>20.5000</td>\n",
              "      <td>6.0</td>\n",
              "      <td>15.0000</td>\n",
              "      <td>3</td>\n",
              "      <td>5</td>\n",
              "      <td>2</td>\n",
              "      <td>7</td>\n",
              "      <td>4</td>\n",
              "      <td>1</td>\n",
              "      <td>1</td>\n",
              "      <td>6</td>\n",
              "    </tr>\n",
              "    <tr>\n",
              "      <th>80182</th>\n",
              "      <td>5.3333</td>\n",
              "      <td>11.3333</td>\n",
              "      <td>4.0000</td>\n",
              "      <td>16.6667</td>\n",
              "      <td>16.6667</td>\n",
              "      <td>52.0000</td>\n",
              "      <td>4.0</td>\n",
              "      <td>7.6667</td>\n",
              "      <td>7</td>\n",
              "      <td>7</td>\n",
              "      <td>5</td>\n",
              "      <td>7</td>\n",
              "      <td>4</td>\n",
              "      <td>7</td>\n",
              "      <td>0</td>\n",
              "      <td>3</td>\n",
              "    </tr>\n",
              "    <tr>\n",
              "      <th>80183</th>\n",
              "      <td>1.0000</td>\n",
              "      <td>5.6667</td>\n",
              "      <td>3.2000</td>\n",
              "      <td>8.0000</td>\n",
              "      <td>14.6667</td>\n",
              "      <td>26.8333</td>\n",
              "      <td>12.0</td>\n",
              "      <td>6.6000</td>\n",
              "      <td>0</td>\n",
              "      <td>2</td>\n",
              "      <td>3</td>\n",
              "      <td>2</td>\n",
              "      <td>3</td>\n",
              "      <td>3</td>\n",
              "      <td>4</td>\n",
              "      <td>3</td>\n",
              "    </tr>\n",
              "  </tbody>\n",
              "</table>\n",
              "<p>80184 rows × 16 columns</p>\n",
              "</div>"
            ],
            "text/plain": [
              "       PUP_Lbel  PUP_Esika  PUP_Cyzone   PUP_CP   PUP_FG    PUP_MQ  PUP_TC  \\\n",
              "0        3.0000    10.0000      1.0000   0.0000   0.0000   69.0000     0.0   \n",
              "1        1.0000     4.0000      3.0000   1.0000   5.0000   24.0000     6.0   \n",
              "2        1.0000     9.0000      3.0000   0.0000  12.0000   60.0000     0.0   \n",
              "3        0.0000     4.0000      6.0000   1.0000   0.0000   38.0000     0.0   \n",
              "4        0.0000     6.0000      6.0000   0.0000  10.0000   48.0000     0.0   \n",
              "...         ...        ...         ...      ...      ...       ...     ...   \n",
              "80179    8.0000    42.6667     13.6667  68.8333  77.6667  133.6667    22.4   \n",
              "80180    1.6667    15.1667      2.5000   6.0000  43.8333   44.1667     3.0   \n",
              "80181    2.0000     8.5000      2.2000  20.8000  15.3333   20.5000     6.0   \n",
              "80182    5.3333    11.3333      4.0000  16.6667  16.6667   52.0000     4.0   \n",
              "80183    1.0000     5.6667      3.2000   8.0000  14.6667   26.8333    12.0   \n",
              "\n",
              "        PUP_TF  decile_Lbel  decile_Esika  decile_Cyzone  decile_CP  \\\n",
              "0       0.0000            5             6              0          0   \n",
              "1       0.0000            0             0              3          0   \n",
              "2       0.0000            0             5              3          0   \n",
              "3      11.0000            0             0              8          0   \n",
              "4       0.0000            0             2              8          0   \n",
              "...        ...          ...           ...            ...        ...   \n",
              "80179  39.6000            7             9              9          8   \n",
              "80180   7.4000            2             9              2          1   \n",
              "80181  15.0000            3             5              2          7   \n",
              "80182   7.6667            7             7              5          7   \n",
              "80183   6.6000            0             2              3          2   \n",
              "\n",
              "       decile_FG  decile_MQ  decile_TC  decile_TF  \n",
              "0              0          8          0          0  \n",
              "1              0          2          1          0  \n",
              "2              2          8          0          0  \n",
              "3              0          5          0          5  \n",
              "4              1          7          0          0  \n",
              "...          ...        ...        ...        ...  \n",
              "80179          9          9          5          7  \n",
              "80180          9          6          0          3  \n",
              "80181          4          1          1          6  \n",
              "80182          4          7          0          3  \n",
              "80183          3          3          4          3  \n",
              "\n",
              "[80184 rows x 16 columns]"
            ]
          },
          "execution_count": 33,
          "metadata": {},
          "output_type": "execute_result"
        }
      ],
      "source": [
        "chile['decile_Lbel'] = pd.qcut(chile['PUP_Lbel'], 10, labels=False, duplicates='drop')\n",
        "chile['decile_Esika'] = pd.qcut(chile['PUP_Esika'], 10, labels=False, duplicates='drop')\n",
        "chile['decile_Cyzone'] = pd.qcut(chile['PUP_Cyzone'], 10, labels=False, duplicates='drop')\n",
        "chile['decile_CP'] = pd.qcut(chile['PUP_CP'], 10, labels=False, duplicates='drop')\n",
        "chile['decile_FG'] = pd.qcut(chile['PUP_FG'], 10, labels=False, duplicates='drop')\n",
        "chile['decile_MQ'] = pd.qcut(chile['PUP_MQ'], 10, labels=False, duplicates='drop')\n",
        "chile['decile_TC'] = pd.qcut(chile['PUP_TC'], 10, labels=False, duplicates='drop')\n",
        "chile['decile_TF'] = pd.qcut(chile['PUP_TF'], 10, labels=False, duplicates='drop')\n",
        "chile"
      ]
    },
    {
      "cell_type": "markdown",
      "metadata": {
        "id": "X_B5I_xBa8Yd"
      },
      "source": [
        "- 5means decilado Chile"
      ]
    },
    {
      "cell_type": "code",
      "execution_count": null,
      "metadata": {
        "colab": {
          "base_uri": "https://localhost:8080/"
        },
        "id": "WrW25iufclDa",
        "outputId": "89f11fe3-f97b-401a-9091-9caf0afa2667"
      },
      "outputs": [
        {
          "data": {
            "text/plain": [
              "(80184, 8)"
            ]
          },
          "execution_count": 34,
          "metadata": {},
          "output_type": "execute_result"
        }
      ],
      "source": [
        "X_dech = np.array(chile[[\"decile_Lbel\",\"decile_Esika\",\"decile_Cyzone\",\"decile_CP\",\"decile_FG\",\"decile_MQ\",\"decile_TC\",\"decile_TF\"]])\n",
        "X_dech.shape"
      ]
    },
    {
      "cell_type": "code",
      "execution_count": null,
      "metadata": {
        "id": "yQexS5zfdFoE"
      },
      "outputs": [],
      "source": [
        "kmeans = KMeans(n_clusters=5)"
      ]
    },
    {
      "cell_type": "code",
      "execution_count": null,
      "metadata": {
        "colab": {
          "base_uri": "https://localhost:8080/"
        },
        "id": "RiJc-ZtBdLN7",
        "outputId": "02ddab97-35d9-42af-c4f8-51d886e333b5",
        "scrolled": true
      },
      "outputs": [
        {
          "name": "stderr",
          "output_type": "stream",
          "text": [
            "C:\\Users\\avaldiviac\\AppData\\Local\\anaconda3\\Lib\\site-packages\\sklearn\\cluster\\_kmeans.py:1412: FutureWarning: The default value of `n_init` will change from 10 to 'auto' in 1.4. Set the value of `n_init` explicitly to suppress the warning\n",
            "  super()._check_params_vs_input(X, default_n_init=10)\n"
          ]
        },
        {
          "data": {
            "text/html": [
              "<style>#sk-container-id-4 {color: black;}#sk-container-id-4 pre{padding: 0;}#sk-container-id-4 div.sk-toggleable {background-color: white;}#sk-container-id-4 label.sk-toggleable__label {cursor: pointer;display: block;width: 100%;margin-bottom: 0;padding: 0.3em;box-sizing: border-box;text-align: center;}#sk-container-id-4 label.sk-toggleable__label-arrow:before {content: \"▸\";float: left;margin-right: 0.25em;color: #696969;}#sk-container-id-4 label.sk-toggleable__label-arrow:hover:before {color: black;}#sk-container-id-4 div.sk-estimator:hover label.sk-toggleable__label-arrow:before {color: black;}#sk-container-id-4 div.sk-toggleable__content {max-height: 0;max-width: 0;overflow: hidden;text-align: left;background-color: #f0f8ff;}#sk-container-id-4 div.sk-toggleable__content pre {margin: 0.2em;color: black;border-radius: 0.25em;background-color: #f0f8ff;}#sk-container-id-4 input.sk-toggleable__control:checked~div.sk-toggleable__content {max-height: 200px;max-width: 100%;overflow: auto;}#sk-container-id-4 input.sk-toggleable__control:checked~label.sk-toggleable__label-arrow:before {content: \"▾\";}#sk-container-id-4 div.sk-estimator input.sk-toggleable__control:checked~label.sk-toggleable__label {background-color: #d4ebff;}#sk-container-id-4 div.sk-label input.sk-toggleable__control:checked~label.sk-toggleable__label {background-color: #d4ebff;}#sk-container-id-4 input.sk-hidden--visually {border: 0;clip: rect(1px 1px 1px 1px);clip: rect(1px, 1px, 1px, 1px);height: 1px;margin: -1px;overflow: hidden;padding: 0;position: absolute;width: 1px;}#sk-container-id-4 div.sk-estimator {font-family: monospace;background-color: #f0f8ff;border: 1px dotted black;border-radius: 0.25em;box-sizing: border-box;margin-bottom: 0.5em;}#sk-container-id-4 div.sk-estimator:hover {background-color: #d4ebff;}#sk-container-id-4 div.sk-parallel-item::after {content: \"\";width: 100%;border-bottom: 1px solid gray;flex-grow: 1;}#sk-container-id-4 div.sk-label:hover label.sk-toggleable__label {background-color: #d4ebff;}#sk-container-id-4 div.sk-serial::before {content: \"\";position: absolute;border-left: 1px solid gray;box-sizing: border-box;top: 0;bottom: 0;left: 50%;z-index: 0;}#sk-container-id-4 div.sk-serial {display: flex;flex-direction: column;align-items: center;background-color: white;padding-right: 0.2em;padding-left: 0.2em;position: relative;}#sk-container-id-4 div.sk-item {position: relative;z-index: 1;}#sk-container-id-4 div.sk-parallel {display: flex;align-items: stretch;justify-content: center;background-color: white;position: relative;}#sk-container-id-4 div.sk-item::before, #sk-container-id-4 div.sk-parallel-item::before {content: \"\";position: absolute;border-left: 1px solid gray;box-sizing: border-box;top: 0;bottom: 0;left: 50%;z-index: -1;}#sk-container-id-4 div.sk-parallel-item {display: flex;flex-direction: column;z-index: 1;position: relative;background-color: white;}#sk-container-id-4 div.sk-parallel-item:first-child::after {align-self: flex-end;width: 50%;}#sk-container-id-4 div.sk-parallel-item:last-child::after {align-self: flex-start;width: 50%;}#sk-container-id-4 div.sk-parallel-item:only-child::after {width: 0;}#sk-container-id-4 div.sk-dashed-wrapped {border: 1px dashed gray;margin: 0 0.4em 0.5em 0.4em;box-sizing: border-box;padding-bottom: 0.4em;background-color: white;}#sk-container-id-4 div.sk-label label {font-family: monospace;font-weight: bold;display: inline-block;line-height: 1.2em;}#sk-container-id-4 div.sk-label-container {text-align: center;}#sk-container-id-4 div.sk-container {/* jupyter's `normalize.less` sets `[hidden] { display: none; }` but bootstrap.min.css set `[hidden] { display: none !important; }` so we also need the `!important` here to be able to override the default hidden behavior on the sphinx rendered scikit-learn.org. See: https://github.com/scikit-learn/scikit-learn/issues/21755 */display: inline-block !important;position: relative;}#sk-container-id-4 div.sk-text-repr-fallback {display: none;}</style><div id=\"sk-container-id-4\" class=\"sk-top-container\"><div class=\"sk-text-repr-fallback\"><pre>KMeans(n_clusters=5)</pre><b>In a Jupyter environment, please rerun this cell to show the HTML representation or trust the notebook. <br />On GitHub, the HTML representation is unable to render, please try loading this page with nbviewer.org.</b></div><div class=\"sk-container\" hidden><div class=\"sk-item\"><div class=\"sk-estimator sk-toggleable\"><input class=\"sk-toggleable__control sk-hidden--visually\" id=\"sk-estimator-id-4\" type=\"checkbox\" checked><label for=\"sk-estimator-id-4\" class=\"sk-toggleable__label sk-toggleable__label-arrow\">KMeans</label><div class=\"sk-toggleable__content\"><pre>KMeans(n_clusters=5)</pre></div></div></div></div></div>"
            ],
            "text/plain": [
              "KMeans(n_clusters=5)"
            ]
          },
          "execution_count": 36,
          "metadata": {},
          "output_type": "execute_result"
        }
      ],
      "source": [
        "kmeans.fit(X_dech)"
      ]
    },
    {
      "cell_type": "markdown",
      "metadata": {
        "id": "i0w0fIixdOE3"
      },
      "source": [
        "Centroides"
      ]
    },
    {
      "cell_type": "code",
      "execution_count": null,
      "metadata": {
        "colab": {
          "base_uri": "https://localhost:8080/"
        },
        "id": "Sql-pxwWdQ4L",
        "outputId": "94ac07c2-d81a-4677-f6a7-3ec5122a185b"
      },
      "outputs": [
        {
          "data": {
            "text/plain": [
              "array([[1.89153424, 5.02688013, 5.390205  , 2.27080995, 2.47244048,\n",
              "        6.87144798, 1.25397294, 2.44792344],\n",
              "       [4.33943615, 7.74896102, 6.84055936, 5.56542738, 7.11541054,\n",
              "        7.34218803, 2.49915759, 4.34359205],\n",
              "       [1.57865065, 1.44720878, 1.95373491, 1.39922789, 2.20405662,\n",
              "        1.93927324, 0.94772964, 1.58195968],\n",
              "       [3.20693132, 3.86925016, 2.96698173, 6.07668557, 3.91260239,\n",
              "        2.8547574 , 1.78374291, 2.96238185],\n",
              "       [1.72749208, 3.37988237, 4.71844367, 1.99268587, 7.03385613,\n",
              "        2.72809531, 1.12569748, 1.45023375]])"
            ]
          },
          "execution_count": 37,
          "metadata": {},
          "output_type": "execute_result"
        }
      ],
      "source": [
        "kmeans.cluster_centers_"
      ]
    },
    {
      "cell_type": "code",
      "execution_count": null,
      "metadata": {
        "colab": {
          "base_uri": "https://localhost:8080/"
        },
        "id": "SgKZiBhoddB0",
        "outputId": "4c014c5e-bcbc-473b-963c-41481d243e52",
        "scrolled": true
      },
      "outputs": [
        {
          "data": {
            "text/plain": [
              "array([0, 2, 0, ..., 3, 1, 2])"
            ]
          },
          "execution_count": 38,
          "metadata": {},
          "output_type": "execute_result"
        }
      ],
      "source": [
        " kmeans.labels_"
      ]
    },
    {
      "cell_type": "code",
      "execution_count": null,
      "metadata": {
        "colab": {
          "base_uri": "https://localhost:8080/",
          "height": 407
        },
        "id": "UF7CJum6ds9d",
        "outputId": "58a1335e-b8a2-4b1e-9d50-feba78cf591c"
      },
      "outputs": [
        {
          "data": {
            "text/plain": [
              "<matplotlib.collections.PathCollection at 0x22c734be510>"
            ]
          },
          "execution_count": 39,
          "metadata": {},
          "output_type": "execute_result"
        },
        {
          "data": {
            "image/png": "[encoded data removed]",
            "text/plain": [
              "<Figure size 1000x600 with 2 Axes>"
            ]
          },
          "metadata": {},
          "output_type": "display_data"
        }
      ],
      "source": [
        "f, (ax1_dech,ax2_dech) = plt.subplots(1,2, sharey=True,figsize=(10,6))\n",
        "ax1_dech.set_title('K Means')\n",
        "ax1_dech.scatter(X_dech[:, 0], X_dech[:, 1], X_dech[:, 2],c=kmeans.labels_,cmap='rainbow')\n",
        "ax2_dech.set_title('K Means')\n",
        "ax2_dech.scatter(X_dech[:, 3], X_dech[:, 4], X_dech[:, 5],c=kmeans.labels_,cmap='rainbow')"
      ]
    },
    {
      "cell_type": "code",
      "execution_count": null,
      "metadata": {
        "id": "UeLMlQHl9Y0_",
        "outputId": "841bf3bf-66dc-448c-8318-2cd7cca24135"
      },
      "outputs": [
        {
          "data": {
            "text/html": [
              "<div>\n",
              "<style scoped>\n",
              "    .dataframe tbody tr th:only-of-type {\n",
              "        vertical-align: middle;\n",
              "    }\n",
              "\n",
              "    .dataframe tbody tr th {\n",
              "        vertical-align: top;\n",
              "    }\n",
              "\n",
              "    .dataframe thead th {\n",
              "        text-align: right;\n",
              "    }\n",
              "</style>\n",
              "<table border=\"1\" class=\"dataframe\">\n",
              "  <thead>\n",
              "    <tr style=\"text-align: right;\">\n",
              "      <th></th>\n",
              "      <th>0</th>\n",
              "      <th>1</th>\n",
              "      <th>2</th>\n",
              "      <th>3</th>\n",
              "      <th>4</th>\n",
              "      <th>5</th>\n",
              "      <th>6</th>\n",
              "      <th>7</th>\n",
              "    </tr>\n",
              "  </thead>\n",
              "  <tbody>\n",
              "    <tr>\n",
              "      <th>0</th>\n",
              "      <td>5</td>\n",
              "      <td>6</td>\n",
              "      <td>0</td>\n",
              "      <td>0</td>\n",
              "      <td>0</td>\n",
              "      <td>8</td>\n",
              "      <td>0</td>\n",
              "      <td>0</td>\n",
              "    </tr>\n",
              "    <tr>\n",
              "      <th>1</th>\n",
              "      <td>0</td>\n",
              "      <td>0</td>\n",
              "      <td>3</td>\n",
              "      <td>0</td>\n",
              "      <td>0</td>\n",
              "      <td>2</td>\n",
              "      <td>1</td>\n",
              "      <td>0</td>\n",
              "    </tr>\n",
              "    <tr>\n",
              "      <th>2</th>\n",
              "      <td>0</td>\n",
              "      <td>5</td>\n",
              "      <td>3</td>\n",
              "      <td>0</td>\n",
              "      <td>2</td>\n",
              "      <td>8</td>\n",
              "      <td>0</td>\n",
              "      <td>0</td>\n",
              "    </tr>\n",
              "    <tr>\n",
              "      <th>3</th>\n",
              "      <td>0</td>\n",
              "      <td>0</td>\n",
              "      <td>8</td>\n",
              "      <td>0</td>\n",
              "      <td>0</td>\n",
              "      <td>5</td>\n",
              "      <td>0</td>\n",
              "      <td>5</td>\n",
              "    </tr>\n",
              "    <tr>\n",
              "      <th>4</th>\n",
              "      <td>0</td>\n",
              "      <td>2</td>\n",
              "      <td>8</td>\n",
              "      <td>0</td>\n",
              "      <td>1</td>\n",
              "      <td>7</td>\n",
              "      <td>0</td>\n",
              "      <td>0</td>\n",
              "    </tr>\n",
              "    <tr>\n",
              "      <th>...</th>\n",
              "      <td>...</td>\n",
              "      <td>...</td>\n",
              "      <td>...</td>\n",
              "      <td>...</td>\n",
              "      <td>...</td>\n",
              "      <td>...</td>\n",
              "      <td>...</td>\n",
              "      <td>...</td>\n",
              "    </tr>\n",
              "    <tr>\n",
              "      <th>80179</th>\n",
              "      <td>7</td>\n",
              "      <td>9</td>\n",
              "      <td>9</td>\n",
              "      <td>8</td>\n",
              "      <td>9</td>\n",
              "      <td>9</td>\n",
              "      <td>5</td>\n",
              "      <td>7</td>\n",
              "    </tr>\n",
              "    <tr>\n",
              "      <th>80180</th>\n",
              "      <td>2</td>\n",
              "      <td>9</td>\n",
              "      <td>2</td>\n",
              "      <td>1</td>\n",
              "      <td>9</td>\n",
              "      <td>6</td>\n",
              "      <td>0</td>\n",
              "      <td>3</td>\n",
              "    </tr>\n",
              "    <tr>\n",
              "      <th>80181</th>\n",
              "      <td>3</td>\n",
              "      <td>5</td>\n",
              "      <td>2</td>\n",
              "      <td>7</td>\n",
              "      <td>4</td>\n",
              "      <td>1</td>\n",
              "      <td>1</td>\n",
              "      <td>6</td>\n",
              "    </tr>\n",
              "    <tr>\n",
              "      <th>80182</th>\n",
              "      <td>7</td>\n",
              "      <td>7</td>\n",
              "      <td>5</td>\n",
              "      <td>7</td>\n",
              "      <td>4</td>\n",
              "      <td>7</td>\n",
              "      <td>0</td>\n",
              "      <td>3</td>\n",
              "    </tr>\n",
              "    <tr>\n",
              "      <th>80183</th>\n",
              "      <td>0</td>\n",
              "      <td>2</td>\n",
              "      <td>3</td>\n",
              "      <td>2</td>\n",
              "      <td>3</td>\n",
              "      <td>3</td>\n",
              "      <td>4</td>\n",
              "      <td>3</td>\n",
              "    </tr>\n",
              "  </tbody>\n",
              "</table>\n",
              "<p>80184 rows × 8 columns</p>\n",
              "</div>"
            ],
            "text/plain": [
              "       0  1  2  3  4  5  6  7\n",
              "0      5  6  0  0  0  8  0  0\n",
              "1      0  0  3  0  0  2  1  0\n",
              "2      0  5  3  0  2  8  0  0\n",
              "3      0  0  8  0  0  5  0  5\n",
              "4      0  2  8  0  1  7  0  0\n",
              "...   .. .. .. .. .. .. .. ..\n",
              "80179  7  9  9  8  9  9  5  7\n",
              "80180  2  9  2  1  9  6  0  3\n",
              "80181  3  5  2  7  4  1  1  6\n",
              "80182  7  7  5  7  4  7  0  3\n",
              "80183  0  2  3  2  3  3  4  3\n",
              "\n",
              "[80184 rows x 8 columns]"
            ]
          },
          "execution_count": 40,
          "metadata": {},
          "output_type": "execute_result"
        }
      ],
      "source": [
        "chile_decilado = pd.DataFrame(X_dech)\n",
        "chile_decilado"
      ]
    },
    {
      "cell_type": "code",
      "execution_count": null,
      "metadata": {
        "id": "_zTdSVPvCrLD"
      },
      "outputs": [],
      "source": [
        "chile_dec = pd.concat([chile_decilado,pd.DataFrame({'kmeans.labels':kmeans.labels_})],axis=1)"
      ]
    },
    {
      "cell_type": "code",
      "execution_count": null,
      "metadata": {
        "colab": {
          "base_uri": "https://localhost:8080/"
        },
        "id": "R9SydVUrC_WI",
        "outputId": "cdc2eb80-25f2-4d6f-c350-dc756da4455a"
      },
      "outputs": [
        {
          "data": {
            "text/plain": [
              "kmeans.labels\n",
              "1    17802\n",
              "0    16929\n",
              "2    16321\n",
              "3    15871\n",
              "4    13261\n",
              "Name: count, dtype: int64"
            ]
          },
          "execution_count": 42,
          "metadata": {},
          "output_type": "execute_result"
        }
      ],
      "source": [
        "chile_dec['kmeans.labels'].value_counts()"
      ]
    },
    {
      "cell_type": "code",
      "execution_count": null,
      "metadata": {
        "id": "SXoswCsmLtvf"
      },
      "outputs": [],
      "source": [
        "chile_dech = pd.concat([chile_real,pd.DataFrame({'kmeans.labels':kmeans.labels_})],axis=1)"
      ]
    },
    {
      "cell_type": "code",
      "execution_count": null,
      "metadata": {
        "colab": {
          "base_uri": "https://localhost:8080/",
          "height": 235
        },
        "id": "FWzXvlR4SpJb",
        "outputId": "e031f099-fe21-4a46-c5e8-38b86f4c49f5"
      },
      "outputs": [
        {
          "data": {
            "text/html": [
              "<div>\n",
              "<style scoped>\n",
              "    .dataframe tbody tr th:only-of-type {\n",
              "        vertical-align: middle;\n",
              "    }\n",
              "\n",
              "    .dataframe tbody tr th {\n",
              "        vertical-align: top;\n",
              "    }\n",
              "\n",
              "    .dataframe thead th {\n",
              "        text-align: right;\n",
              "    }\n",
              "</style>\n",
              "<table border=\"1\" class=\"dataframe\">\n",
              "  <thead>\n",
              "    <tr style=\"text-align: right;\">\n",
              "      <th></th>\n",
              "      <th>PUP_Lbel</th>\n",
              "      <th>PUP_Esika</th>\n",
              "      <th>PUP_Cyzone</th>\n",
              "      <th>PUP_CP</th>\n",
              "      <th>PUP_FG</th>\n",
              "      <th>PUP_MQ</th>\n",
              "      <th>PUP_TC</th>\n",
              "      <th>PUP_TF</th>\n",
              "    </tr>\n",
              "    <tr>\n",
              "      <th>kmeans.labels</th>\n",
              "      <th></th>\n",
              "      <th></th>\n",
              "      <th></th>\n",
              "      <th></th>\n",
              "      <th></th>\n",
              "      <th></th>\n",
              "      <th></th>\n",
              "      <th></th>\n",
              "    </tr>\n",
              "  </thead>\n",
              "  <tbody>\n",
              "    <tr>\n",
              "      <th>0</th>\n",
              "      <td>1.458119</td>\n",
              "      <td>9.069788</td>\n",
              "      <td>4.655601</td>\n",
              "      <td>7.505834</td>\n",
              "      <td>12.344901</td>\n",
              "      <td>53.351679</td>\n",
              "      <td>5.019669</td>\n",
              "      <td>7.195292</td>\n",
              "    </tr>\n",
              "    <tr>\n",
              "      <th>1</th>\n",
              "      <td>2.987828</td>\n",
              "      <td>15.129089</td>\n",
              "      <td>6.270958</td>\n",
              "      <td>16.970604</td>\n",
              "      <td>33.715788</td>\n",
              "      <td>66.663629</td>\n",
              "      <td>9.162232</td>\n",
              "      <td>11.853299</td>\n",
              "    </tr>\n",
              "    <tr>\n",
              "      <th>2</th>\n",
              "      <td>1.305530</td>\n",
              "      <td>4.934078</td>\n",
              "      <td>2.252794</td>\n",
              "      <td>5.245947</td>\n",
              "      <td>11.510404</td>\n",
              "      <td>21.920258</td>\n",
              "      <td>3.956677</td>\n",
              "      <td>5.200564</td>\n",
              "    </tr>\n",
              "    <tr>\n",
              "      <th>3</th>\n",
              "      <td>2.162184</td>\n",
              "      <td>7.615609</td>\n",
              "      <td>2.941970</td>\n",
              "      <td>17.426624</td>\n",
              "      <td>16.837120</td>\n",
              "      <td>27.366709</td>\n",
              "      <td>6.742255</td>\n",
              "      <td>8.336536</td>\n",
              "    </tr>\n",
              "    <tr>\n",
              "      <th>4</th>\n",
              "      <td>1.393386</td>\n",
              "      <td>7.094607</td>\n",
              "      <td>4.152617</td>\n",
              "      <td>6.723271</td>\n",
              "      <td>28.585364</td>\n",
              "      <td>26.408352</td>\n",
              "      <td>4.538539</td>\n",
              "      <td>4.927077</td>\n",
              "    </tr>\n",
              "  </tbody>\n",
              "</table>\n",
              "</div>"
            ],
            "text/plain": [
              "               PUP_Lbel  PUP_Esika  PUP_Cyzone     PUP_CP     PUP_FG  \\\n",
              "kmeans.labels                                                          \n",
              "0              1.458119   9.069788    4.655601   7.505834  12.344901   \n",
              "1              2.987828  15.129089    6.270958  16.970604  33.715788   \n",
              "2              1.305530   4.934078    2.252794   5.245947  11.510404   \n",
              "3              2.162184   7.615609    2.941970  17.426624  16.837120   \n",
              "4              1.393386   7.094607    4.152617   6.723271  28.585364   \n",
              "\n",
              "                  PUP_MQ    PUP_TC     PUP_TF  \n",
              "kmeans.labels                                  \n",
              "0              53.351679  5.019669   7.195292  \n",
              "1              66.663629  9.162232  11.853299  \n",
              "2              21.920258  3.956677   5.200564  \n",
              "3              27.366709  6.742255   8.336536  \n",
              "4              26.408352  4.538539   4.927077  "
            ]
          },
          "execution_count": 44,
          "metadata": {},
          "output_type": "execute_result"
        }
      ],
      "source": [
        "## Calculamos los promedios por cada variables y cada cluster\n",
        "chile_dech.groupby('kmeans.labels').mean()"
      ]
    },
    {
      "cell_type": "code",
      "execution_count": null,
      "metadata": {
        "colab": {
          "base_uri": "https://localhost:8080/",
          "height": 235
        },
        "id": "IQMiOn0GTSKy",
        "outputId": "03046841-802b-453e-d8eb-a49457c1a797"
      },
      "outputs": [
        {
          "data": {
            "text/html": [
              "<div>\n",
              "<style scoped>\n",
              "    .dataframe tbody tr th:only-of-type {\n",
              "        vertical-align: middle;\n",
              "    }\n",
              "\n",
              "    .dataframe tbody tr th {\n",
              "        vertical-align: top;\n",
              "    }\n",
              "\n",
              "    .dataframe thead th {\n",
              "        text-align: right;\n",
              "    }\n",
              "</style>\n",
              "<table border=\"1\" class=\"dataframe\">\n",
              "  <thead>\n",
              "    <tr style=\"text-align: right;\">\n",
              "      <th></th>\n",
              "      <th>PUP_Lbel</th>\n",
              "      <th>PUP_Esika</th>\n",
              "      <th>PUP_Cyzone</th>\n",
              "      <th>PUP_CP</th>\n",
              "      <th>PUP_FG</th>\n",
              "      <th>PUP_MQ</th>\n",
              "      <th>PUP_TC</th>\n",
              "      <th>PUP_TF</th>\n",
              "    </tr>\n",
              "    <tr>\n",
              "      <th>kmeans.labels</th>\n",
              "      <th></th>\n",
              "      <th></th>\n",
              "      <th></th>\n",
              "      <th></th>\n",
              "      <th></th>\n",
              "      <th></th>\n",
              "      <th></th>\n",
              "      <th></th>\n",
              "    </tr>\n",
              "  </thead>\n",
              "  <tbody>\n",
              "    <tr>\n",
              "      <th>0</th>\n",
              "      <td>1.313597</td>\n",
              "      <td>9.737139</td>\n",
              "      <td>4.579480</td>\n",
              "      <td>27.600524</td>\n",
              "      <td>34.414126</td>\n",
              "      <td>244.290236</td>\n",
              "      <td>29.128603</td>\n",
              "      <td>33.269199</td>\n",
              "    </tr>\n",
              "    <tr>\n",
              "      <th>1</th>\n",
              "      <td>4.839209</td>\n",
              "      <td>81.262130</td>\n",
              "      <td>11.311552</td>\n",
              "      <td>102.862168</td>\n",
              "      <td>467.147447</td>\n",
              "      <td>1848.236300</td>\n",
              "      <td>45.906424</td>\n",
              "      <td>53.810254</td>\n",
              "    </tr>\n",
              "    <tr>\n",
              "      <th>2</th>\n",
              "      <td>1.389349</td>\n",
              "      <td>3.714877</td>\n",
              "      <td>1.736697</td>\n",
              "      <td>18.622432</td>\n",
              "      <td>31.184377</td>\n",
              "      <td>103.453422</td>\n",
              "      <td>28.778769</td>\n",
              "      <td>30.288928</td>\n",
              "    </tr>\n",
              "    <tr>\n",
              "      <th>3</th>\n",
              "      <td>2.040908</td>\n",
              "      <td>5.648286</td>\n",
              "      <td>1.801135</td>\n",
              "      <td>55.522331</td>\n",
              "      <td>62.292827</td>\n",
              "      <td>102.057755</td>\n",
              "      <td>36.498870</td>\n",
              "      <td>35.543636</td>\n",
              "    </tr>\n",
              "    <tr>\n",
              "      <th>4</th>\n",
              "      <td>1.562750</td>\n",
              "      <td>6.584618</td>\n",
              "      <td>4.194293</td>\n",
              "      <td>27.466114</td>\n",
              "      <td>103.522747</td>\n",
              "      <td>136.186798</td>\n",
              "      <td>31.544291</td>\n",
              "      <td>27.112643</td>\n",
              "    </tr>\n",
              "  </tbody>\n",
              "</table>\n",
              "</div>"
            ],
            "text/plain": [
              "               PUP_Lbel  PUP_Esika  PUP_Cyzone      PUP_CP      PUP_FG  \\\n",
              "kmeans.labels                                                            \n",
              "0              1.313597   9.737139    4.579480   27.600524   34.414126   \n",
              "1              4.839209  81.262130   11.311552  102.862168  467.147447   \n",
              "2              1.389349   3.714877    1.736697   18.622432   31.184377   \n",
              "3              2.040908   5.648286    1.801135   55.522331   62.292827   \n",
              "4              1.562750   6.584618    4.194293   27.466114  103.522747   \n",
              "\n",
              "                    PUP_MQ     PUP_TC     PUP_TF  \n",
              "kmeans.labels                                     \n",
              "0               244.290236  29.128603  33.269199  \n",
              "1              1848.236300  45.906424  53.810254  \n",
              "2               103.453422  28.778769  30.288928  \n",
              "3               102.057755  36.498870  35.543636  \n",
              "4               136.186798  31.544291  27.112643  "
            ]
          },
          "execution_count": 45,
          "metadata": {},
          "output_type": "execute_result"
        }
      ],
      "source": [
        "chile_dech.groupby('kmeans.labels').var()"
      ]
    },
    {
      "cell_type": "markdown",
      "metadata": {
        "id": "O-ZF0vv5eAs2"
      },
      "source": [
        "**Punto 4)**"
      ]
    },
    {
      "cell_type": "markdown",
      "metadata": {
        "id": "2XeDFhkBgXkf"
      },
      "source": [
        "- 3 componentes principales"
      ]
    },
    {
      "cell_type": "code",
      "execution_count": null,
      "metadata": {
        "id": "8SXi2GhnerAM"
      },
      "outputs": [],
      "source": [
        "#from sklearn.decomposition import PCA"
      ]
    },
    {
      "cell_type": "code",
      "execution_count": null,
      "metadata": {
        "id": "OuTNqsqJfrZF"
      },
      "outputs": [],
      "source": [
        "pca = PCA(n_components=3)"
      ]
    },
    {
      "cell_type": "code",
      "execution_count": null,
      "metadata": {
        "colab": {
          "base_uri": "https://localhost:8080/"
        },
        "id": "NHcrpwy3f5KN",
        "outputId": "8342b9a4-cefc-48a0-8069-0fd4c250075a"
      },
      "outputs": [
        {
          "data": {
            "text/html": [
              "<style>#sk-container-id-5 {color: black;}#sk-container-id-5 pre{padding: 0;}#sk-container-id-5 div.sk-toggleable {background-color: white;}#sk-container-id-5 label.sk-toggleable__label {cursor: pointer;display: block;width: 100%;margin-bottom: 0;padding: 0.3em;box-sizing: border-box;text-align: center;}#sk-container-id-5 label.sk-toggleable__label-arrow:before {content: \"▸\";float: left;margin-right: 0.25em;color: #696969;}#sk-container-id-5 label.sk-toggleable__label-arrow:hover:before {color: black;}#sk-container-id-5 div.sk-estimator:hover label.sk-toggleable__label-arrow:before {color: black;}#sk-container-id-5 div.sk-toggleable__content {max-height: 0;max-width: 0;overflow: hidden;text-align: left;background-color: #f0f8ff;}#sk-container-id-5 div.sk-toggleable__content pre {margin: 0.2em;color: black;border-radius: 0.25em;background-color: #f0f8ff;}#sk-container-id-5 input.sk-toggleable__control:checked~div.sk-toggleable__content {max-height: 200px;max-width: 100%;overflow: auto;}#sk-container-id-5 input.sk-toggleable__control:checked~label.sk-toggleable__label-arrow:before {content: \"▾\";}#sk-container-id-5 div.sk-estimator input.sk-toggleable__control:checked~label.sk-toggleable__label {background-color: #d4ebff;}#sk-container-id-5 div.sk-label input.sk-toggleable__control:checked~label.sk-toggleable__label {background-color: #d4ebff;}#sk-container-id-5 input.sk-hidden--visually {border: 0;clip: rect(1px 1px 1px 1px);clip: rect(1px, 1px, 1px, 1px);height: 1px;margin: -1px;overflow: hidden;padding: 0;position: absolute;width: 1px;}#sk-container-id-5 div.sk-estimator {font-family: monospace;background-color: #f0f8ff;border: 1px dotted black;border-radius: 0.25em;box-sizing: border-box;margin-bottom: 0.5em;}#sk-container-id-5 div.sk-estimator:hover {background-color: #d4ebff;}#sk-container-id-5 div.sk-parallel-item::after {content: \"\";width: 100%;border-bottom: 1px solid gray;flex-grow: 1;}#sk-container-id-5 div.sk-label:hover label.sk-toggleable__label {background-color: #d4ebff;}#sk-container-id-5 div.sk-serial::before {content: \"\";position: absolute;border-left: 1px solid gray;box-sizing: border-box;top: 0;bottom: 0;left: 50%;z-index: 0;}#sk-container-id-5 div.sk-serial {display: flex;flex-direction: column;align-items: center;background-color: white;padding-right: 0.2em;padding-left: 0.2em;position: relative;}#sk-container-id-5 div.sk-item {position: relative;z-index: 1;}#sk-container-id-5 div.sk-parallel {display: flex;align-items: stretch;justify-content: center;background-color: white;position: relative;}#sk-container-id-5 div.sk-item::before, #sk-container-id-5 div.sk-parallel-item::before {content: \"\";position: absolute;border-left: 1px solid gray;box-sizing: border-box;top: 0;bottom: 0;left: 50%;z-index: -1;}#sk-container-id-5 div.sk-parallel-item {display: flex;flex-direction: column;z-index: 1;position: relative;background-color: white;}#sk-container-id-5 div.sk-parallel-item:first-child::after {align-self: flex-end;width: 50%;}#sk-container-id-5 div.sk-parallel-item:last-child::after {align-self: flex-start;width: 50%;}#sk-container-id-5 div.sk-parallel-item:only-child::after {width: 0;}#sk-container-id-5 div.sk-dashed-wrapped {border: 1px dashed gray;margin: 0 0.4em 0.5em 0.4em;box-sizing: border-box;padding-bottom: 0.4em;background-color: white;}#sk-container-id-5 div.sk-label label {font-family: monospace;font-weight: bold;display: inline-block;line-height: 1.2em;}#sk-container-id-5 div.sk-label-container {text-align: center;}#sk-container-id-5 div.sk-container {/* jupyter's `normalize.less` sets `[hidden] { display: none; }` but bootstrap.min.css set `[hidden] { display: none !important; }` so we also need the `!important` here to be able to override the default hidden behavior on the sphinx rendered scikit-learn.org. See: https://github.com/scikit-learn/scikit-learn/issues/21755 */display: inline-block !important;position: relative;}#sk-container-id-5 div.sk-text-repr-fallback {display: none;}</style><div id=\"sk-container-id-5\" class=\"sk-top-container\"><div class=\"sk-text-repr-fallback\"><pre>PCA(n_components=3)</pre><b>In a Jupyter environment, please rerun this cell to show the HTML representation or trust the notebook. <br />On GitHub, the HTML representation is unable to render, please try loading this page with nbviewer.org.</b></div><div class=\"sk-container\" hidden><div class=\"sk-item\"><div class=\"sk-estimator sk-toggleable\"><input class=\"sk-toggleable__control sk-hidden--visually\" id=\"sk-estimator-id-5\" type=\"checkbox\" checked><label for=\"sk-estimator-id-5\" class=\"sk-toggleable__label sk-toggleable__label-arrow\">PCA</label><div class=\"sk-toggleable__content\"><pre>PCA(n_components=3)</pre></div></div></div></div></div>"
            ],
            "text/plain": [
              "PCA(n_components=3)"
            ]
          },
          "execution_count": 48,
          "metadata": {},
          "output_type": "execute_result"
        }
      ],
      "source": [
        "pca.fit(chile_es)"
      ]
    },
    {
      "cell_type": "code",
      "execution_count": null,
      "metadata": {
        "id": "OzLxDo4Cf_eo"
      },
      "outputs": [],
      "source": [
        "x_pca = pca.transform(chile_es)"
      ]
    },
    {
      "cell_type": "code",
      "execution_count": null,
      "metadata": {
        "colab": {
          "base_uri": "https://localhost:8080/"
        },
        "id": "UvSBRBvbgGNt",
        "outputId": "d2d0b414-3d32-46d4-eafb-f026b6635cd1"
      },
      "outputs": [
        {
          "data": {
            "text/plain": [
              "(80184, 8)"
            ]
          },
          "execution_count": 50,
          "metadata": {},
          "output_type": "execute_result"
        }
      ],
      "source": [
        "chile_es.shape #Original"
      ]
    },
    {
      "cell_type": "code",
      "execution_count": null,
      "metadata": {
        "colab": {
          "base_uri": "https://localhost:8080/"
        },
        "id": "PxH33xr9gJ4i",
        "outputId": "3c2dcab8-e89f-4048-8197-4ee0dd4b6954"
      },
      "outputs": [
        {
          "data": {
            "text/plain": [
              "(80184, 3)"
            ]
          },
          "execution_count": 51,
          "metadata": {},
          "output_type": "execute_result"
        }
      ],
      "source": [
        "x_pca.shape  #Con 3 componentes principales"
      ]
    },
    {
      "cell_type": "markdown",
      "metadata": {
        "id": "rgs3C9CZgP6W"
      },
      "source": [
        "- 5means 3 componentes principales Chile"
      ]
    },
    {
      "cell_type": "code",
      "execution_count": null,
      "metadata": {
        "id": "2cDTqq2dgg1P"
      },
      "outputs": [],
      "source": [
        "kmeans = KMeans(n_clusters=5)"
      ]
    },
    {
      "cell_type": "code",
      "execution_count": null,
      "metadata": {
        "colab": {
          "base_uri": "https://localhost:8080/"
        },
        "id": "ShTm943chyXl",
        "outputId": "14b3493a-d933-4658-a222-c8b23ff42dd9",
        "scrolled": true
      },
      "outputs": [
        {
          "name": "stderr",
          "output_type": "stream",
          "text": [
            "C:\\Users\\avaldiviac\\AppData\\Local\\anaconda3\\Lib\\site-packages\\sklearn\\cluster\\_kmeans.py:1412: FutureWarning: The default value of `n_init` will change from 10 to 'auto' in 1.4. Set the value of `n_init` explicitly to suppress the warning\n",
            "  super()._check_params_vs_input(X, default_n_init=10)\n"
          ]
        },
        {
          "data": {
            "text/html": [
              "<style>#sk-container-id-6 {color: black;}#sk-container-id-6 pre{padding: 0;}#sk-container-id-6 div.sk-toggleable {background-color: white;}#sk-container-id-6 label.sk-toggleable__label {cursor: pointer;display: block;width: 100%;margin-bottom: 0;padding: 0.3em;box-sizing: border-box;text-align: center;}#sk-container-id-6 label.sk-toggleable__label-arrow:before {content: \"▸\";float: left;margin-right: 0.25em;color: #696969;}#sk-container-id-6 label.sk-toggleable__label-arrow:hover:before {color: black;}#sk-container-id-6 div.sk-estimator:hover label.sk-toggleable__label-arrow:before {color: black;}#sk-container-id-6 div.sk-toggleable__content {max-height: 0;max-width: 0;overflow: hidden;text-align: left;background-color: #f0f8ff;}#sk-container-id-6 div.sk-toggleable__content pre {margin: 0.2em;color: black;border-radius: 0.25em;background-color: #f0f8ff;}#sk-container-id-6 input.sk-toggleable__control:checked~div.sk-toggleable__content {max-height: 200px;max-width: 100%;overflow: auto;}#sk-container-id-6 input.sk-toggleable__control:checked~label.sk-toggleable__label-arrow:before {content: \"▾\";}#sk-container-id-6 div.sk-estimator input.sk-toggleable__control:checked~label.sk-toggleable__label {background-color: #d4ebff;}#sk-container-id-6 div.sk-label input.sk-toggleable__control:checked~label.sk-toggleable__label {background-color: #d4ebff;}#sk-container-id-6 input.sk-hidden--visually {border: 0;clip: rect(1px 1px 1px 1px);clip: rect(1px, 1px, 1px, 1px);height: 1px;margin: -1px;overflow: hidden;padding: 0;position: absolute;width: 1px;}#sk-container-id-6 div.sk-estimator {font-family: monospace;background-color: #f0f8ff;border: 1px dotted black;border-radius: 0.25em;box-sizing: border-box;margin-bottom: 0.5em;}#sk-container-id-6 div.sk-estimator:hover {background-color: #d4ebff;}#sk-container-id-6 div.sk-parallel-item::after {content: \"\";width: 100%;border-bottom: 1px solid gray;flex-grow: 1;}#sk-container-id-6 div.sk-label:hover label.sk-toggleable__label {background-color: #d4ebff;}#sk-container-id-6 div.sk-serial::before {content: \"\";position: absolute;border-left: 1px solid gray;box-sizing: border-box;top: 0;bottom: 0;left: 50%;z-index: 0;}#sk-container-id-6 div.sk-serial {display: flex;flex-direction: column;align-items: center;background-color: white;padding-right: 0.2em;padding-left: 0.2em;position: relative;}#sk-container-id-6 div.sk-item {position: relative;z-index: 1;}#sk-container-id-6 div.sk-parallel {display: flex;align-items: stretch;justify-content: center;background-color: white;position: relative;}#sk-container-id-6 div.sk-item::before, #sk-container-id-6 div.sk-parallel-item::before {content: \"\";position: absolute;border-left: 1px solid gray;box-sizing: border-box;top: 0;bottom: 0;left: 50%;z-index: -1;}#sk-container-id-6 div.sk-parallel-item {display: flex;flex-direction: column;z-index: 1;position: relative;background-color: white;}#sk-container-id-6 div.sk-parallel-item:first-child::after {align-self: flex-end;width: 50%;}#sk-container-id-6 div.sk-parallel-item:last-child::after {align-self: flex-start;width: 50%;}#sk-container-id-6 div.sk-parallel-item:only-child::after {width: 0;}#sk-container-id-6 div.sk-dashed-wrapped {border: 1px dashed gray;margin: 0 0.4em 0.5em 0.4em;box-sizing: border-box;padding-bottom: 0.4em;background-color: white;}#sk-container-id-6 div.sk-label label {font-family: monospace;font-weight: bold;display: inline-block;line-height: 1.2em;}#sk-container-id-6 div.sk-label-container {text-align: center;}#sk-container-id-6 div.sk-container {/* jupyter's `normalize.less` sets `[hidden] { display: none; }` but bootstrap.min.css set `[hidden] { display: none !important; }` so we also need the `!important` here to be able to override the default hidden behavior on the sphinx rendered scikit-learn.org. See: https://github.com/scikit-learn/scikit-learn/issues/21755 */display: inline-block !important;position: relative;}#sk-container-id-6 div.sk-text-repr-fallback {display: none;}</style><div id=\"sk-container-id-6\" class=\"sk-top-container\"><div class=\"sk-text-repr-fallback\"><pre>KMeans(n_clusters=5)</pre><b>In a Jupyter environment, please rerun this cell to show the HTML representation or trust the notebook. <br />On GitHub, the HTML representation is unable to render, please try loading this page with nbviewer.org.</b></div><div class=\"sk-container\" hidden><div class=\"sk-item\"><div class=\"sk-estimator sk-toggleable\"><input class=\"sk-toggleable__control sk-hidden--visually\" id=\"sk-estimator-id-6\" type=\"checkbox\" checked><label for=\"sk-estimator-id-6\" class=\"sk-toggleable__label sk-toggleable__label-arrow\">KMeans</label><div class=\"sk-toggleable__content\"><pre>KMeans(n_clusters=5)</pre></div></div></div></div></div>"
            ],
            "text/plain": [
              "KMeans(n_clusters=5)"
            ]
          },
          "execution_count": 53,
          "metadata": {},
          "output_type": "execute_result"
        }
      ],
      "source": [
        "kmeans.fit(x_pca)"
      ]
    },
    {
      "cell_type": "markdown",
      "metadata": {
        "id": "CDMzN6LyiC-b"
      },
      "source": [
        "Centroides"
      ]
    },
    {
      "cell_type": "code",
      "execution_count": null,
      "metadata": {
        "colab": {
          "base_uri": "https://localhost:8080/"
        },
        "id": "wunkw2-biMBh",
        "outputId": "4a4b5a09-5276-49a0-da5c-72ffd59daec7"
      },
      "outputs": [
        {
          "data": {
            "text/plain": [
              "array([[ 1.83668826e+00,  1.60796307e-01, -1.16880318e-02],\n",
              "       [ 7.30007495e+00,  6.12643711e-01, -1.52809063e-01],\n",
              "       [-4.46175366e-02, -7.21833228e-01,  3.90924374e-03],\n",
              "       [ 3.81466011e+01,  4.74294543e+00,  1.07493645e+00],\n",
              "       [-1.12621921e+00,  5.53085333e-01,  7.37422117e-03]])"
            ]
          },
          "execution_count": 54,
          "metadata": {},
          "output_type": "execute_result"
        }
      ],
      "source": [
        "kmeans.cluster_centers_\n",
        "### El segundo cluster presenta la mayor cantidad de clientes\n",
        "### cluster 2: 2do componente"
      ]
    },
    {
      "cell_type": "code",
      "execution_count": null,
      "metadata": {
        "colab": {
          "base_uri": "https://localhost:8080/"
        },
        "id": "jUAWiz8DiMYe",
        "outputId": "afd145c8-db4f-4b85-d5e0-6e36b01d9315",
        "scrolled": true
      },
      "outputs": [
        {
          "data": {
            "text/plain": [
              "array([4, 4, 4, ..., 2, 0, 2])"
            ]
          },
          "execution_count": 55,
          "metadata": {},
          "output_type": "execute_result"
        }
      ],
      "source": [
        "kmeans.labels_"
      ]
    },
    {
      "cell_type": "code",
      "execution_count": null,
      "metadata": {
        "colab": {
          "base_uri": "https://localhost:8080/",
          "height": 441
        },
        "id": "TX5tFaIaiULf",
        "outputId": "26807b47-3702-478f-8553-263454b99366",
        "scrolled": true
      },
      "outputs": [
        {
          "name": "stderr",
          "output_type": "stream",
          "text": [
            "C:\\Users\\avaldiviac\\AppData\\Local\\anaconda3\\Lib\\site-packages\\matplotlib\\collections.py:963: RuntimeWarning: invalid value encountered in sqrt\n",
            "  scale = np.sqrt(self._sizes) * dpi / 72.0 * self._factor\n"
          ]
        },
        {
          "data": {
            "image/png": "[encoded data removed]",
            "text/plain": [
              "<Figure size 1000x600 with 1 Axes>"
            ]
          },
          "metadata": {},
          "output_type": "display_data"
        }
      ],
      "source": [
        "f, (ax1_pca) = plt.subplots(1, sharey=True,figsize=(10,6))\n",
        "ax1_pca.set_title('K Means')\n",
        "ax1_pca.scatter(x_pca[:, 0], x_pca[:, 1], x_pca[:, 2],c=kmeans.labels_,cmap='rainbow');"
      ]
    },
    {
      "cell_type": "code",
      "execution_count": null,
      "metadata": {
        "colab": {
          "base_uri": "https://localhost:8080/",
          "height": 336
        },
        "id": "_18tg-TrmKgc",
        "outputId": "4acd92b5-95cd-4389-e549-a2c4e5e5f98e"
      },
      "outputs": [
        {
          "data": {
            "text/plain": [
              "<Figure size 640x480 with 0 Axes>"
            ]
          },
          "metadata": {},
          "output_type": "display_data"
        }
      ],
      "source": [
        "from mpl_toolkits.mplot3d import Axes3D\n",
        "# Predicting the clusters\n",
        "labels = kmeans.predict(x_pca)\n",
        "# Getting the cluster centers\n",
        "C = kmeans.cluster_centers_\n",
        "colores=['red','green','blue','black','yellow']\n",
        "asignar=[]\n",
        "for row in labels:\n",
        "    asignar.append(colores[row])\n",
        "\n",
        "fig = plt.figure()\n",
        "ax = Axes3D(fig)\n",
        "ax.scatter(x_pca[:, 0], x_pca[:, 1], x_pca[:, 2], c=asignar,s=60)\n",
        "ax.scatter(C[:, 0], C[:, 1], C[:, 2], marker='*', c=colores, s=1000);"
      ]
    },
    {
      "cell_type": "code",
      "execution_count": null,
      "metadata": {
        "colab": {
          "base_uri": "https://localhost:8080/",
          "height": 204
        },
        "id": "-AHwC8wYztHl",
        "outputId": "aa9e3c6c-d5cb-4f3f-ea75-560d35df907b",
        "scrolled": true
      },
      "outputs": [
        {
          "data": {
            "text/html": [
              "<div>\n",
              "<style scoped>\n",
              "    .dataframe tbody tr th:only-of-type {\n",
              "        vertical-align: middle;\n",
              "    }\n",
              "\n",
              "    .dataframe tbody tr th {\n",
              "        vertical-align: top;\n",
              "    }\n",
              "\n",
              "    .dataframe thead th {\n",
              "        text-align: right;\n",
              "    }\n",
              "</style>\n",
              "<table border=\"1\" class=\"dataframe\">\n",
              "  <thead>\n",
              "    <tr style=\"text-align: right;\">\n",
              "      <th></th>\n",
              "      <th>color</th>\n",
              "      <th>cantidad</th>\n",
              "    </tr>\n",
              "  </thead>\n",
              "  <tbody>\n",
              "    <tr>\n",
              "      <th>0</th>\n",
              "      <td>red</td>\n",
              "      <td>14528</td>\n",
              "    </tr>\n",
              "    <tr>\n",
              "      <th>1</th>\n",
              "      <td>green</td>\n",
              "      <td>1521</td>\n",
              "    </tr>\n",
              "    <tr>\n",
              "      <th>2</th>\n",
              "      <td>blue</td>\n",
              "      <td>30540</td>\n",
              "    </tr>\n",
              "    <tr>\n",
              "      <th>3</th>\n",
              "      <td>black</td>\n",
              "      <td>34</td>\n",
              "    </tr>\n",
              "    <tr>\n",
              "      <th>4</th>\n",
              "      <td>yellow</td>\n",
              "      <td>33561</td>\n",
              "    </tr>\n",
              "  </tbody>\n",
              "</table>\n",
              "</div>"
            ],
            "text/plain": [
              "    color  cantidad\n",
              "0     red     14528\n",
              "1   green      1521\n",
              "2    blue     30540\n",
              "3   black        34\n",
              "4  yellow     33561"
            ]
          },
          "execution_count": 58,
          "metadata": {},
          "output_type": "execute_result"
        }
      ],
      "source": [
        "copy =  pd.DataFrame()\n",
        "copy['label'] = labels;\n",
        "cantidadGrupo =  pd.DataFrame()\n",
        "cantidadGrupo['color']=colores\n",
        "cantidadGrupo['cantidad']=copy.groupby('label').size()\n",
        "cantidadGrupo"
      ]
    },
    {
      "cell_type": "code",
      "execution_count": null,
      "metadata": {
        "colab": {
          "base_uri": "https://localhost:8080/"
        },
        "id": "ygAGMZjxqhQZ",
        "outputId": "e4d56451-a187-4e86-fa89-947d7624fddd",
        "scrolled": true
      },
      "outputs": [
        {
          "data": {
            "text/plain": [
              "array([[ 0.32511089,  0.46557817,  0.37273229,  0.29659698,  0.36759551,\n",
              "         0.42916906,  0.2300604 ,  0.28000075],\n",
              "       [-0.30159141,  0.14670329,  0.40034252, -0.33254154,  0.19438148,\n",
              "         0.34121245, -0.54859614, -0.40186431],\n",
              "       [ 0.30367845, -0.04855671, -0.07095242, -0.28467815, -0.21888735,\n",
              "         0.12534999, -0.55118402,  0.67224819]])"
            ]
          },
          "execution_count": 59,
          "metadata": {},
          "output_type": "execute_result"
        }
      ],
      "source": [
        "pca.components_\n",
        "###En esta matriz numerosa, cada fila representa un componente principal y cada columna\n",
        "###se relaciona con las características originales."
      ]
    },
    {
      "cell_type": "code",
      "execution_count": null,
      "metadata": {
        "id": "xNZqITytgBKR"
      },
      "outputs": [],
      "source": [
        "chile.drop(['decile_Lbel','decile_Esika','decile_Cyzone','decile_CP','decile_FG','decile_MQ','decile_TC','decile_TF'],axis=1,inplace=True)"
      ]
    },
    {
      "cell_type": "code",
      "execution_count": null,
      "metadata": {
        "colab": {
          "base_uri": "https://localhost:8080/"
        },
        "id": "52UBkGQ8hDwm",
        "outputId": "59336b43-801d-4c76-ec81-23d9735dc68d"
      },
      "outputs": [
        {
          "data": {
            "text/plain": [
              "Index(['PUP_Lbel', 'PUP_Esika', 'PUP_Cyzone', 'PUP_CP', 'PUP_FG', 'PUP_MQ',\n",
              "       'PUP_TC', 'PUP_TF'],\n",
              "      dtype='object')"
            ]
          },
          "execution_count": 61,
          "metadata": {},
          "output_type": "execute_result"
        }
      ],
      "source": [
        "chile.keys()"
      ]
    },
    {
      "cell_type": "code",
      "execution_count": null,
      "metadata": {
        "colab": {
          "base_uri": "https://localhost:8080/",
          "height": 142
        },
        "id": "sTskADJMhGre",
        "outputId": "9e765033-0ec4-43d7-c7d1-94760da28ba8"
      },
      "outputs": [
        {
          "data": {
            "text/html": [
              "<div>\n",
              "<style scoped>\n",
              "    .dataframe tbody tr th:only-of-type {\n",
              "        vertical-align: middle;\n",
              "    }\n",
              "\n",
              "    .dataframe tbody tr th {\n",
              "        vertical-align: top;\n",
              "    }\n",
              "\n",
              "    .dataframe thead th {\n",
              "        text-align: right;\n",
              "    }\n",
              "</style>\n",
              "<table border=\"1\" class=\"dataframe\">\n",
              "  <thead>\n",
              "    <tr style=\"text-align: right;\">\n",
              "      <th></th>\n",
              "      <th>PUP_Lbel</th>\n",
              "      <th>PUP_Esika</th>\n",
              "      <th>PUP_Cyzone</th>\n",
              "      <th>PUP_CP</th>\n",
              "      <th>PUP_FG</th>\n",
              "      <th>PUP_MQ</th>\n",
              "      <th>PUP_TC</th>\n",
              "      <th>PUP_TF</th>\n",
              "    </tr>\n",
              "  </thead>\n",
              "  <tbody>\n",
              "    <tr>\n",
              "      <th>0</th>\n",
              "      <td>0.325111</td>\n",
              "      <td>0.465578</td>\n",
              "      <td>0.372732</td>\n",
              "      <td>0.296597</td>\n",
              "      <td>0.367596</td>\n",
              "      <td>0.429169</td>\n",
              "      <td>0.230060</td>\n",
              "      <td>0.280001</td>\n",
              "    </tr>\n",
              "    <tr>\n",
              "      <th>1</th>\n",
              "      <td>-0.301591</td>\n",
              "      <td>0.146703</td>\n",
              "      <td>0.400343</td>\n",
              "      <td>-0.332542</td>\n",
              "      <td>0.194381</td>\n",
              "      <td>0.341212</td>\n",
              "      <td>-0.548596</td>\n",
              "      <td>-0.401864</td>\n",
              "    </tr>\n",
              "    <tr>\n",
              "      <th>2</th>\n",
              "      <td>0.303678</td>\n",
              "      <td>-0.048557</td>\n",
              "      <td>-0.070952</td>\n",
              "      <td>-0.284678</td>\n",
              "      <td>-0.218887</td>\n",
              "      <td>0.125350</td>\n",
              "      <td>-0.551184</td>\n",
              "      <td>0.672248</td>\n",
              "    </tr>\n",
              "  </tbody>\n",
              "</table>\n",
              "</div>"
            ],
            "text/plain": [
              "   PUP_Lbel  PUP_Esika  PUP_Cyzone    PUP_CP    PUP_FG    PUP_MQ    PUP_TC  \\\n",
              "0  0.325111   0.465578    0.372732  0.296597  0.367596  0.429169  0.230060   \n",
              "1 -0.301591   0.146703    0.400343 -0.332542  0.194381  0.341212 -0.548596   \n",
              "2  0.303678  -0.048557   -0.070952 -0.284678 -0.218887  0.125350 -0.551184   \n",
              "\n",
              "     PUP_TF  \n",
              "0  0.280001  \n",
              "1 -0.401864  \n",
              "2  0.672248  "
            ]
          },
          "execution_count": 62,
          "metadata": {},
          "output_type": "execute_result"
        }
      ],
      "source": [
        "df_comp = pd.DataFrame(pca.components_,columns=['PUP_Lbel', 'PUP_Esika', 'PUP_Cyzone', 'PUP_CP', 'PUP_FG', 'PUP_MQ',\n",
        "       'PUP_TC', 'PUP_TF'])\n",
        "df_comp\n",
        "### Contribución de cada variable a los componentes respectivos"
      ]
    },
    {
      "cell_type": "code",
      "execution_count": null,
      "metadata": {
        "colab": {
          "base_uri": "https://localhost:8080/",
          "height": 375
        },
        "id": "_EE71i40hzri",
        "outputId": "e805b393-1222-45aa-ffbe-acff8358267f"
      },
      "outputs": [
        {
          "data": {
            "image/png": "[encoded data removed]",
            "text/plain": [
              "<Figure size 1200x600 with 2 Axes>"
            ]
          },
          "metadata": {},
          "output_type": "display_data"
        }
      ],
      "source": [
        "plt.figure(figsize=(12,6))\n",
        "sns.heatmap(df_comp,cmap='plasma',);\n",
        "### A que componenetes estan asociadas las variables\n",
        "### Segunda componente: Cyzone y Maquillaje"
      ]
    },
    {
      "cell_type": "code",
      "execution_count": null,
      "metadata": {
        "id": "FeXZ_xbUTkW8"
      },
      "outputs": [],
      "source": []
    }
  ],
  "metadata": {
    "colab": {
      "provenance": [],
      "include_colab_link": true
    },
    "kernelspec": {
      "display_name": "Python 3 (ipykernel)",
      "language": "python",
      "name": "python3"
    },
    "language_info": {
      "codemirror_mode": {
        "name": "ipython",
        "version": 3
      },
      "file_extension": ".py",
      "mimetype": "text/x-python",
      "name": "python",
      "nbconvert_exporter": "python",
      "pygments_lexer": "ipython3",
      "version": "3.11.5"
    }
  },
  "nbformat": 4,
  "nbformat_minor": 0
}