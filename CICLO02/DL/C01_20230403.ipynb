{
  "nbformat": 4,
  "nbformat_minor": 0,
  "metadata": {
    "colab": {
      "provenance": [],
      "authorship_tag": "ABX9TyMAJzo0IaA4nfyzdtTjHrZH",
      "include_colab_link": true
    },
    "kernelspec": {
      "name": "python3",
      "display_name": "Python 3"
    },
    "language_info": {
      "name": "python"
    }
  },
  "cells": [
    {
      "cell_type": "markdown",
      "metadata": {
        "id": "view-in-github",
        "colab_type": "text"
      },
      "source": [
        "<a href=\"https://colab.research.google.com/github/HenryZumaeta/MDS_UNI/blob/Zeta/CICLO02/DL/C01_20230403.ipynb\" target=\"_parent\"><img src=\"https://colab.research.google.com/assets/colab-badge.svg\" alt=\"Open In Colab\"/></a>"
      ]
    },
    {
      "cell_type": "code",
      "execution_count": 1,
      "metadata": {
        "id": "_SO56GDuuZRj"
      },
      "outputs": [],
      "source": [
        "#Se importa el tensorflow\n",
        "import tensorflow as tf\n",
        "import logging\n",
        "tf.get_logger().setLevel(logging.ERROR)\n",
        "#se importa el numpy que ayuda a representar nuestros datos como listas de alto rendimiento.\n",
        "import numpy as np"
      ]
    },
    {
      "cell_type": "code",
      "source": [
        "#creamos dos listas celsius_g y fahrenheit_a que podemos usar para entrenar nuestro modelo.\n",
        "celsius_q = np.array([-40, -10, 0, 8, 15, 22, 38], dtype=float)\n",
        "fahrenheit_a= np.array([-40, 14, 32, 46, 59, 72, 100], dtype=float)\n",
        "\n",
        "for i,c in enumerate (celsius_q):\n",
        "    print(\"{} degrees Celsius = {} degrees Fahrenhet\".format(c, fahrenheit_a[i]))"
      ],
      "metadata": {
        "colab": {
          "base_uri": "https://localhost:8080/"
        },
        "id": "OaI2yky9usJ5",
        "outputId": "05e5faaa-1993-401c-91fe-5cd7bcff75ea"
      },
      "execution_count": 4,
      "outputs": [
        {
          "output_type": "stream",
          "name": "stdout",
          "text": [
            "-40.0 degrees Celsius = -40.0 degrees Fahrenhet\n",
            "-10.0 degrees Celsius = 14.0 degrees Fahrenhet\n",
            "0.0 degrees Celsius = 32.0 degrees Fahrenhet\n",
            "8.0 degrees Celsius = 46.0 degrees Fahrenhet\n",
            "15.0 degrees Celsius = 59.0 degrees Fahrenhet\n",
            "22.0 degrees Celsius = 72.0 degrees Fahrenhet\n",
            "38.0 degrees Celsius = 100.0 degrees Fahrenhet\n"
          ]
        }
      ]
    },
    {
      "cell_type": "code",
      "source": [
        "#Llamaremos a la capa 10 y la crearemos creando una instancia de tf.keras.layers. Denso con la siguiente configuración:\n",
        "#input_shape = [1]: Esto especifica que la entrada a esta capa es un valor único. #unidades = 1: Especifica el número de neuronas en la capa. El número de neuronas define cuántas variables internas. (En el sgto código la variable es letra l y el # 0)\n",
        "l0 = tf.keras.layers.Dense(units=1, input_shape=[1])"
      ],
      "metadata": {
        "id": "nSlL0bJMwF8P"
      },
      "execution_count": 5,
      "outputs": []
    },
    {
      "cell_type": "code",
      "source": [
        "model = tf.keras.Sequential([l0])"
      ],
      "metadata": {
        "id": "vs-dGR7nwnkH"
      },
      "execution_count": 6,
      "outputs": []
    },
    {
      "cell_type": "code",
      "source": [
        "model = tf.keras.Sequential(tf.keras.layers.Dense(units=1,input_shape=[1]))"
      ],
      "metadata": {
        "id": "usNBbDzAxDq_"
      },
      "execution_count": 7,
      "outputs": []
    },
    {
      "cell_type": "code",
      "source": [
        "#Antes del entrenamiento, se debe compilar el modelo. Cuando se compila para entrenamiento, el modelo obtiene:\n",
        "#Función de pérdida: Una forma de medir qué tan alejadas están las predicciones del resultado deseado. (La diferencia medida se llama \"pérdida\").\n",
        "#Función optimizadora: Una forma de ajustar los valores internos para reducir la pérdida.\n",
        "\n",
        "model.compile(loss='mean_squared_error',optimizer=tf.keras.optimizers.Adam(0.1))"
      ],
      "metadata": {
        "id": "ZGrFVmvkxOxh"
      },
      "execution_count": 8,
      "outputs": []
    },
    {
      "cell_type": "code",
      "source": [
        "history = model.fit(celsius_q, fahrenheit_a, epochs=500, verbose=False)\n",
        "print(\"Terminé de entrenar el modelo.\")"
      ],
      "metadata": {
        "colab": {
          "base_uri": "https://localhost:8080/"
        },
        "id": "VbjMn7RzxhB6",
        "outputId": "5b0a8da3-9747-4467-b9de-d484c0de207b"
      },
      "execution_count": 9,
      "outputs": [
        {
          "output_type": "stream",
          "name": "stdout",
          "text": [
            "Terminé de entrenar el modelo.\n"
          ]
        }
      ]
    },
    {
      "cell_type": "code",
      "source": [
        "#Usaremos Matplotlib para visualizar esto (podrías usar otra herramienta).\n",
        "#Como puede ver, nuestro modelo mejora muy rápidamente al principio y luego tiene una mejora lenta y\n",
        "#constante hasta que es casi \"perfecto\" hacia el final.\n",
        "import matplotlib.pyplot as plt\n",
        "plt.xlabel('Número de época')\n",
        "plt.ylabel(\"Magnitud de la pérdida\")\n",
        "plt.plot(history.history['loss'])\n"
      ],
      "metadata": {
        "colab": {
          "base_uri": "https://localhost:8080/",
          "height": 468
        },
        "id": "n3zUF7Jixq57",
        "outputId": "02c5b7bc-df4a-43ed-c9fc-0d702f80ecf9"
      },
      "execution_count": 11,
      "outputs": [
        {
          "output_type": "execute_result",
          "data": {
            "text/plain": [
              "[<matplotlib.lines.Line2D at 0x7c02e1c18fa0>]"
            ]
          },
          "metadata": {},
          "execution_count": 11
        },
        {
          "output_type": "display_data",
          "data": {
            "text/plain": [
              "<Figure size 640x480 with 1 Axes>"
            ],
            "image/png": "[encoded data removed]"
          },
          "metadata": {}
        }
      ]
    },
    {
      "cell_type": "code",
      "source": [
        "print(model.predict([100.0]))"
      ],
      "metadata": {
        "colab": {
          "base_uri": "https://localhost:8080/"
        },
        "id": "9uQWka03x8SO",
        "outputId": "4e149df1-c2ba-4587-b8d7-80151e8b2f8f"
      },
      "execution_count": 12,
      "outputs": [
        {
          "output_type": "stream",
          "name": "stdout",
          "text": [
            "1/1 [==============================] - 0s 107ms/step\n",
            "[[211.3303]]\n"
          ]
        }
      ]
    },
    {
      "cell_type": "code",
      "source": [
        "print(\"Estas son las variables de capa: {}\".format(model.get_weights()))"
      ],
      "metadata": {
        "colab": {
          "base_uri": "https://localhost:8080/"
        },
        "id": "rPfhlgr5yGM9",
        "outputId": "7045210c-694c-41c6-a8d1-a486c8be8e44"
      },
      "execution_count": 13,
      "outputs": [
        {
          "output_type": "stream",
          "name": "stdout",
          "text": [
            "Estas son las variables de capa: [array([[1.8216776]], dtype=float32), array([29.162558], dtype=float32)]\n"
          ]
        }
      ]
    },
    {
      "cell_type": "code",
      "source": [
        "model1 = tf.keras.layers.Dense (units=4, input_shape=[1])\n",
        "model2 = tf.keras.layers.Dense (units=4)\n",
        "model3 = tf.keras.layers.Dense (units=1)\n",
        "model = tf.keras.Sequential ([model1, model2, model3])\n",
        "model.compile(loss='mean_squared_error', optimizer=tf.keras.optimizers.Adam(0.1))\n",
        "model.fit(celsius_q, fahrenheit_a, epochs=500, verbose=False)\n",
        "print(\"Terminé de entrenar el modelo:\")\n",
        "print(model.predict([100.0]))\n",
        "print(\"El modelo predice que 100 grados Celsius son: {} grados Fahrenheit\".format(model.predict([100.0])))\n",
        "print(\"Estas son las 10 variables: {}\".format(model1.get_weights()))\n",
        "print(\"Estas son las 11 variables: {}\".format(model2.get_weights()))\n",
        "print(\"Estas son las 12 variables: {}\".format(model3.get_weights()))\n"
      ],
      "metadata": {
        "colab": {
          "base_uri": "https://localhost:8080/"
        },
        "id": "7TokPJvnyaKU",
        "outputId": "39acb24b-67d0-4fdd-8e24-7b0782054385"
      },
      "execution_count": 16,
      "outputs": [
        {
          "output_type": "stream",
          "name": "stdout",
          "text": [
            "Terminé de entrenar el modelo:\n",
            "1/1 [==============================] - 0s 72ms/step\n",
            "[[211.7474]]\n",
            "1/1 [==============================] - 0s 41ms/step\n",
            "El modelo predice que 100 grados Celsius son: [[211.7474]] grados Fahrenheit\n",
            "Estas son las 10 variables: [array([[-0.3531808 ,  0.30163547,  0.4062745 ,  0.00908866]],\n",
            "      dtype=float32), array([-3.692179 ,  3.478928 ,  3.4712574,  2.273299 ], dtype=float32)]\n",
            "Estas son las 11 variables: [array([[-0.05245996,  0.8994853 ,  0.61065704, -0.4437655 ],\n",
            "       [-0.4349686 , -0.761306  , -1.1306226 ,  1.0783863 ],\n",
            "       [-0.11268919, -0.86715674, -0.36748788,  0.49415764],\n",
            "       [-0.9349082 , -0.3892928 ,  0.04826441,  0.20740907]],\n",
            "      dtype=float32), array([-2.2723777, -3.7278998, -3.5223079,  2.7095585], dtype=float32)]\n",
            "Estas son las 12 variables: [array([[-0.34259662],\n",
            "       [-0.8262816 ],\n",
            "       [-0.77394384],\n",
            "       [ 0.6549477 ]], dtype=float32), array([3.4737756], dtype=float32)]\n"
          ]
        }
      ]
    }
  ]
}